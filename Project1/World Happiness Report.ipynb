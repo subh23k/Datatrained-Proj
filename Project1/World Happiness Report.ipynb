{
 "cells": [
  {
   "cell_type": "code",
   "execution_count": 2,
   "id": "4f0133d6",
   "metadata": {},
   "outputs": [],
   "source": [
    "import pandas as pd\n",
    "import numpy as np\n",
    "import math\n",
    "import scipy\n",
    "from scipy import stats\n",
    "from scipy.stats import zscore\n",
    "import seaborn as sns\n",
    "import matplotlib.pyplot as plt\n",
    "from sklearn.preprocessing import LabelEncoder\n",
    "from sklearn.preprocessing import StandardScaler\n",
    "from sklearn.preprocessing import power_transform\n",
    "from sklearn.tree import DecisionTreeRegressor\n",
    "from sklearn.linear_model import LinearRegression\n",
    "from sklearn.linear_model import Lasso, Ridge\n",
    "from sklearn.metrics import r2_score\n",
    "from sklearn.metrics import r2_score,mean_squared_error,mean_absolute_error\n",
    "from sklearn.model_selection import train_test_split\n",
    "from sklearn.model_selection import cross_val_score\n",
    "#from sklearn.externals import joblib\n",
    "import joblib\n",
    "import warnings\n",
    "warnings.filterwarnings (\"ignore\")"
   ]
  },
  {
   "cell_type": "code",
   "execution_count": 3,
   "id": "fe7b04e4",
   "metadata": {},
   "outputs": [
    {
     "data": {
      "text/html": [
       "<div>\n",
       "<style scoped>\n",
       "    .dataframe tbody tr th:only-of-type {\n",
       "        vertical-align: middle;\n",
       "    }\n",
       "\n",
       "    .dataframe tbody tr th {\n",
       "        vertical-align: top;\n",
       "    }\n",
       "\n",
       "    .dataframe thead th {\n",
       "        text-align: right;\n",
       "    }\n",
       "</style>\n",
       "<table border=\"1\" class=\"dataframe\">\n",
       "  <thead>\n",
       "    <tr style=\"text-align: right;\">\n",
       "      <th></th>\n",
       "      <th>Country</th>\n",
       "      <th>Region</th>\n",
       "      <th>Happiness Rank</th>\n",
       "      <th>Happiness Score</th>\n",
       "      <th>Standard Error</th>\n",
       "      <th>Economy (GDP per Capita)</th>\n",
       "      <th>Family</th>\n",
       "      <th>Health (Life Expectancy)</th>\n",
       "      <th>Freedom</th>\n",
       "      <th>Trust (Government Corruption)</th>\n",
       "      <th>Generosity</th>\n",
       "      <th>Dystopia Residual</th>\n",
       "    </tr>\n",
       "  </thead>\n",
       "  <tbody>\n",
       "    <tr>\n",
       "      <th>0</th>\n",
       "      <td>Switzerland</td>\n",
       "      <td>Western Europe</td>\n",
       "      <td>1</td>\n",
       "      <td>7.587</td>\n",
       "      <td>0.03411</td>\n",
       "      <td>1.39651</td>\n",
       "      <td>1.34951</td>\n",
       "      <td>0.94143</td>\n",
       "      <td>0.66557</td>\n",
       "      <td>0.41978</td>\n",
       "      <td>0.29678</td>\n",
       "      <td>2.51738</td>\n",
       "    </tr>\n",
       "    <tr>\n",
       "      <th>1</th>\n",
       "      <td>Iceland</td>\n",
       "      <td>Western Europe</td>\n",
       "      <td>2</td>\n",
       "      <td>7.561</td>\n",
       "      <td>0.04884</td>\n",
       "      <td>1.30232</td>\n",
       "      <td>1.40223</td>\n",
       "      <td>0.94784</td>\n",
       "      <td>0.62877</td>\n",
       "      <td>0.14145</td>\n",
       "      <td>0.43630</td>\n",
       "      <td>2.70201</td>\n",
       "    </tr>\n",
       "    <tr>\n",
       "      <th>2</th>\n",
       "      <td>Denmark</td>\n",
       "      <td>Western Europe</td>\n",
       "      <td>3</td>\n",
       "      <td>7.527</td>\n",
       "      <td>0.03328</td>\n",
       "      <td>1.32548</td>\n",
       "      <td>1.36058</td>\n",
       "      <td>0.87464</td>\n",
       "      <td>0.64938</td>\n",
       "      <td>0.48357</td>\n",
       "      <td>0.34139</td>\n",
       "      <td>2.49204</td>\n",
       "    </tr>\n",
       "    <tr>\n",
       "      <th>3</th>\n",
       "      <td>Norway</td>\n",
       "      <td>Western Europe</td>\n",
       "      <td>4</td>\n",
       "      <td>7.522</td>\n",
       "      <td>0.03880</td>\n",
       "      <td>1.45900</td>\n",
       "      <td>1.33095</td>\n",
       "      <td>0.88521</td>\n",
       "      <td>0.66973</td>\n",
       "      <td>0.36503</td>\n",
       "      <td>0.34699</td>\n",
       "      <td>2.46531</td>\n",
       "    </tr>\n",
       "    <tr>\n",
       "      <th>4</th>\n",
       "      <td>Canada</td>\n",
       "      <td>North America</td>\n",
       "      <td>5</td>\n",
       "      <td>7.427</td>\n",
       "      <td>0.03553</td>\n",
       "      <td>1.32629</td>\n",
       "      <td>1.32261</td>\n",
       "      <td>0.90563</td>\n",
       "      <td>0.63297</td>\n",
       "      <td>0.32957</td>\n",
       "      <td>0.45811</td>\n",
       "      <td>2.45176</td>\n",
       "    </tr>\n",
       "  </tbody>\n",
       "</table>\n",
       "</div>"
      ],
      "text/plain": [
       "       Country          Region  Happiness Rank  Happiness Score  \\\n",
       "0  Switzerland  Western Europe               1            7.587   \n",
       "1      Iceland  Western Europe               2            7.561   \n",
       "2      Denmark  Western Europe               3            7.527   \n",
       "3       Norway  Western Europe               4            7.522   \n",
       "4       Canada   North America               5            7.427   \n",
       "\n",
       "   Standard Error  Economy (GDP per Capita)   Family  \\\n",
       "0         0.03411                   1.39651  1.34951   \n",
       "1         0.04884                   1.30232  1.40223   \n",
       "2         0.03328                   1.32548  1.36058   \n",
       "3         0.03880                   1.45900  1.33095   \n",
       "4         0.03553                   1.32629  1.32261   \n",
       "\n",
       "   Health (Life Expectancy)  Freedom  Trust (Government Corruption)  \\\n",
       "0                   0.94143  0.66557                        0.41978   \n",
       "1                   0.94784  0.62877                        0.14145   \n",
       "2                   0.87464  0.64938                        0.48357   \n",
       "3                   0.88521  0.66973                        0.36503   \n",
       "4                   0.90563  0.63297                        0.32957   \n",
       "\n",
       "   Generosity  Dystopia Residual  \n",
       "0     0.29678            2.51738  \n",
       "1     0.43630            2.70201  \n",
       "2     0.34139            2.49204  \n",
       "3     0.34699            2.46531  \n",
       "4     0.45811            2.45176  "
      ]
     },
     "execution_count": 3,
     "metadata": {},
     "output_type": "execute_result"
    }
   ],
   "source": [
    "# Lets begin by reading the csv file\n",
    "\n",
    "WHR_1= pd.read_csv('https://raw.githubusercontent.com/dsrscientist/DSData/master/happiness_score_dataset.csv')\n",
    "WHR_1.head()"
   ]
  },
  {
   "cell_type": "code",
   "execution_count": 4,
   "id": "9d9b5090",
   "metadata": {},
   "outputs": [
    {
     "data": {
      "text/plain": [
       "Index(['Country', 'Region', 'Happiness Rank', 'Happiness Score',\n",
       "       'Standard Error', 'Economy (GDP per Capita)', 'Family',\n",
       "       'Health (Life Expectancy)', 'Freedom', 'Trust (Government Corruption)',\n",
       "       'Generosity', 'Dystopia Residual'],\n",
       "      dtype='object')"
      ]
     },
     "execution_count": 4,
     "metadata": {},
     "output_type": "execute_result"
    }
   ],
   "source": [
    "WHR_1.columns"
   ]
  },
  {
   "cell_type": "code",
   "execution_count": 5,
   "id": "be4643aa",
   "metadata": {},
   "outputs": [
    {
     "data": {
      "text/plain": [
       "(158, 12)"
      ]
     },
     "execution_count": 5,
     "metadata": {},
     "output_type": "execute_result"
    }
   ],
   "source": [
    "WHR_1.shape"
   ]
  },
  {
   "cell_type": "code",
   "execution_count": 6,
   "id": "d03d37ad",
   "metadata": {},
   "outputs": [
    {
     "data": {
      "text/plain": [
       "Country                          0\n",
       "Region                           0\n",
       "Happiness Rank                   0\n",
       "Happiness Score                  0\n",
       "Standard Error                   0\n",
       "Economy (GDP per Capita)         0\n",
       "Family                           0\n",
       "Health (Life Expectancy)         0\n",
       "Freedom                          0\n",
       "Trust (Government Corruption)    0\n",
       "Generosity                       0\n",
       "Dystopia Residual                0\n",
       "dtype: int64"
      ]
     },
     "execution_count": 6,
     "metadata": {},
     "output_type": "execute_result"
    }
   ],
   "source": [
    "#Checking the null values\n",
    "\n",
    "WHR_1.isnull().sum()"
   ]
  },
  {
   "cell_type": "code",
   "execution_count": 7,
   "id": "85bfd596",
   "metadata": {},
   "outputs": [
    {
     "name": "stdout",
     "output_type": "stream",
     "text": [
      "<class 'pandas.core.frame.DataFrame'>\n",
      "RangeIndex: 158 entries, 0 to 157\n",
      "Data columns (total 12 columns):\n",
      " #   Column                         Non-Null Count  Dtype  \n",
      "---  ------                         --------------  -----  \n",
      " 0   Country                        158 non-null    object \n",
      " 1   Region                         158 non-null    object \n",
      " 2   Happiness Rank                 158 non-null    int64  \n",
      " 3   Happiness Score                158 non-null    float64\n",
      " 4   Standard Error                 158 non-null    float64\n",
      " 5   Economy (GDP per Capita)       158 non-null    float64\n",
      " 6   Family                         158 non-null    float64\n",
      " 7   Health (Life Expectancy)       158 non-null    float64\n",
      " 8   Freedom                        158 non-null    float64\n",
      " 9   Trust (Government Corruption)  158 non-null    float64\n",
      " 10  Generosity                     158 non-null    float64\n",
      " 11  Dystopia Residual              158 non-null    float64\n",
      "dtypes: float64(9), int64(1), object(2)\n",
      "memory usage: 14.9+ KB\n"
     ]
    }
   ],
   "source": [
    "WHR_1.info()"
   ]
  },
  {
   "cell_type": "code",
   "execution_count": 9,
   "id": "45cfccf7",
   "metadata": {},
   "outputs": [
    {
     "data": {
      "text/html": [
       "<div>\n",
       "<style scoped>\n",
       "    .dataframe tbody tr th:only-of-type {\n",
       "        vertical-align: middle;\n",
       "    }\n",
       "\n",
       "    .dataframe tbody tr th {\n",
       "        vertical-align: top;\n",
       "    }\n",
       "\n",
       "    .dataframe thead th {\n",
       "        text-align: right;\n",
       "    }\n",
       "</style>\n",
       "<table border=\"1\" class=\"dataframe\">\n",
       "  <thead>\n",
       "    <tr style=\"text-align: right;\">\n",
       "      <th></th>\n",
       "      <th>Country</th>\n",
       "      <th>Region</th>\n",
       "      <th>Happiness Rank</th>\n",
       "      <th>Happiness Score</th>\n",
       "      <th>Standard Error</th>\n",
       "      <th>Economy (GDP per Capita)</th>\n",
       "      <th>Family</th>\n",
       "      <th>Health (Life Expectancy)</th>\n",
       "      <th>Freedom</th>\n",
       "      <th>Trust (Government Corruption)</th>\n",
       "      <th>Generosity</th>\n",
       "      <th>Dystopia Residual</th>\n",
       "    </tr>\n",
       "  </thead>\n",
       "  <tbody>\n",
       "    <tr>\n",
       "      <th>0</th>\n",
       "      <td>Switzerland</td>\n",
       "      <td>Western Europe</td>\n",
       "      <td>1</td>\n",
       "      <td>7.587</td>\n",
       "      <td>0.03411</td>\n",
       "      <td>1.39651</td>\n",
       "      <td>1.34951</td>\n",
       "      <td>0.94143</td>\n",
       "      <td>0.66557</td>\n",
       "      <td>0.41978</td>\n",
       "      <td>0.29678</td>\n",
       "      <td>2.51738</td>\n",
       "    </tr>\n",
       "    <tr>\n",
       "      <th>1</th>\n",
       "      <td>Iceland</td>\n",
       "      <td>Western Europe</td>\n",
       "      <td>2</td>\n",
       "      <td>7.561</td>\n",
       "      <td>0.04884</td>\n",
       "      <td>1.30232</td>\n",
       "      <td>1.40223</td>\n",
       "      <td>0.94784</td>\n",
       "      <td>0.62877</td>\n",
       "      <td>0.14145</td>\n",
       "      <td>0.43630</td>\n",
       "      <td>2.70201</td>\n",
       "    </tr>\n",
       "    <tr>\n",
       "      <th>2</th>\n",
       "      <td>Denmark</td>\n",
       "      <td>Western Europe</td>\n",
       "      <td>3</td>\n",
       "      <td>7.527</td>\n",
       "      <td>0.03328</td>\n",
       "      <td>1.32548</td>\n",
       "      <td>1.36058</td>\n",
       "      <td>0.87464</td>\n",
       "      <td>0.64938</td>\n",
       "      <td>0.48357</td>\n",
       "      <td>0.34139</td>\n",
       "      <td>2.49204</td>\n",
       "    </tr>\n",
       "    <tr>\n",
       "      <th>3</th>\n",
       "      <td>Norway</td>\n",
       "      <td>Western Europe</td>\n",
       "      <td>4</td>\n",
       "      <td>7.522</td>\n",
       "      <td>0.03880</td>\n",
       "      <td>1.45900</td>\n",
       "      <td>1.33095</td>\n",
       "      <td>0.88521</td>\n",
       "      <td>0.66973</td>\n",
       "      <td>0.36503</td>\n",
       "      <td>0.34699</td>\n",
       "      <td>2.46531</td>\n",
       "    </tr>\n",
       "    <tr>\n",
       "      <th>4</th>\n",
       "      <td>Canada</td>\n",
       "      <td>North America</td>\n",
       "      <td>5</td>\n",
       "      <td>7.427</td>\n",
       "      <td>0.03553</td>\n",
       "      <td>1.32629</td>\n",
       "      <td>1.32261</td>\n",
       "      <td>0.90563</td>\n",
       "      <td>0.63297</td>\n",
       "      <td>0.32957</td>\n",
       "      <td>0.45811</td>\n",
       "      <td>2.45176</td>\n",
       "    </tr>\n",
       "    <tr>\n",
       "      <th>...</th>\n",
       "      <td>...</td>\n",
       "      <td>...</td>\n",
       "      <td>...</td>\n",
       "      <td>...</td>\n",
       "      <td>...</td>\n",
       "      <td>...</td>\n",
       "      <td>...</td>\n",
       "      <td>...</td>\n",
       "      <td>...</td>\n",
       "      <td>...</td>\n",
       "      <td>...</td>\n",
       "      <td>...</td>\n",
       "    </tr>\n",
       "    <tr>\n",
       "      <th>153</th>\n",
       "      <td>Rwanda</td>\n",
       "      <td>Sub-Saharan Africa</td>\n",
       "      <td>154</td>\n",
       "      <td>3.465</td>\n",
       "      <td>0.03464</td>\n",
       "      <td>0.22208</td>\n",
       "      <td>0.77370</td>\n",
       "      <td>0.42864</td>\n",
       "      <td>0.59201</td>\n",
       "      <td>0.55191</td>\n",
       "      <td>0.22628</td>\n",
       "      <td>0.67042</td>\n",
       "    </tr>\n",
       "    <tr>\n",
       "      <th>154</th>\n",
       "      <td>Benin</td>\n",
       "      <td>Sub-Saharan Africa</td>\n",
       "      <td>155</td>\n",
       "      <td>3.340</td>\n",
       "      <td>0.03656</td>\n",
       "      <td>0.28665</td>\n",
       "      <td>0.35386</td>\n",
       "      <td>0.31910</td>\n",
       "      <td>0.48450</td>\n",
       "      <td>0.08010</td>\n",
       "      <td>0.18260</td>\n",
       "      <td>1.63328</td>\n",
       "    </tr>\n",
       "    <tr>\n",
       "      <th>155</th>\n",
       "      <td>Syria</td>\n",
       "      <td>Middle East and Northern Africa</td>\n",
       "      <td>156</td>\n",
       "      <td>3.006</td>\n",
       "      <td>0.05015</td>\n",
       "      <td>0.66320</td>\n",
       "      <td>0.47489</td>\n",
       "      <td>0.72193</td>\n",
       "      <td>0.15684</td>\n",
       "      <td>0.18906</td>\n",
       "      <td>0.47179</td>\n",
       "      <td>0.32858</td>\n",
       "    </tr>\n",
       "    <tr>\n",
       "      <th>156</th>\n",
       "      <td>Burundi</td>\n",
       "      <td>Sub-Saharan Africa</td>\n",
       "      <td>157</td>\n",
       "      <td>2.905</td>\n",
       "      <td>0.08658</td>\n",
       "      <td>0.01530</td>\n",
       "      <td>0.41587</td>\n",
       "      <td>0.22396</td>\n",
       "      <td>0.11850</td>\n",
       "      <td>0.10062</td>\n",
       "      <td>0.19727</td>\n",
       "      <td>1.83302</td>\n",
       "    </tr>\n",
       "    <tr>\n",
       "      <th>157</th>\n",
       "      <td>Togo</td>\n",
       "      <td>Sub-Saharan Africa</td>\n",
       "      <td>158</td>\n",
       "      <td>2.839</td>\n",
       "      <td>0.06727</td>\n",
       "      <td>0.20868</td>\n",
       "      <td>0.13995</td>\n",
       "      <td>0.28443</td>\n",
       "      <td>0.36453</td>\n",
       "      <td>0.10731</td>\n",
       "      <td>0.16681</td>\n",
       "      <td>1.56726</td>\n",
       "    </tr>\n",
       "  </tbody>\n",
       "</table>\n",
       "<p>158 rows × 12 columns</p>\n",
       "</div>"
      ],
      "text/plain": [
       "         Country                           Region  Happiness Rank  \\\n",
       "0    Switzerland                   Western Europe               1   \n",
       "1        Iceland                   Western Europe               2   \n",
       "2        Denmark                   Western Europe               3   \n",
       "3         Norway                   Western Europe               4   \n",
       "4         Canada                    North America               5   \n",
       "..           ...                              ...             ...   \n",
       "153       Rwanda               Sub-Saharan Africa             154   \n",
       "154        Benin               Sub-Saharan Africa             155   \n",
       "155        Syria  Middle East and Northern Africa             156   \n",
       "156      Burundi               Sub-Saharan Africa             157   \n",
       "157         Togo               Sub-Saharan Africa             158   \n",
       "\n",
       "     Happiness Score  Standard Error  Economy (GDP per Capita)   Family  \\\n",
       "0              7.587         0.03411                   1.39651  1.34951   \n",
       "1              7.561         0.04884                   1.30232  1.40223   \n",
       "2              7.527         0.03328                   1.32548  1.36058   \n",
       "3              7.522         0.03880                   1.45900  1.33095   \n",
       "4              7.427         0.03553                   1.32629  1.32261   \n",
       "..               ...             ...                       ...      ...   \n",
       "153            3.465         0.03464                   0.22208  0.77370   \n",
       "154            3.340         0.03656                   0.28665  0.35386   \n",
       "155            3.006         0.05015                   0.66320  0.47489   \n",
       "156            2.905         0.08658                   0.01530  0.41587   \n",
       "157            2.839         0.06727                   0.20868  0.13995   \n",
       "\n",
       "     Health (Life Expectancy)  Freedom  Trust (Government Corruption)  \\\n",
       "0                     0.94143  0.66557                        0.41978   \n",
       "1                     0.94784  0.62877                        0.14145   \n",
       "2                     0.87464  0.64938                        0.48357   \n",
       "3                     0.88521  0.66973                        0.36503   \n",
       "4                     0.90563  0.63297                        0.32957   \n",
       "..                        ...      ...                            ...   \n",
       "153                   0.42864  0.59201                        0.55191   \n",
       "154                   0.31910  0.48450                        0.08010   \n",
       "155                   0.72193  0.15684                        0.18906   \n",
       "156                   0.22396  0.11850                        0.10062   \n",
       "157                   0.28443  0.36453                        0.10731   \n",
       "\n",
       "     Generosity  Dystopia Residual  \n",
       "0       0.29678            2.51738  \n",
       "1       0.43630            2.70201  \n",
       "2       0.34139            2.49204  \n",
       "3       0.34699            2.46531  \n",
       "4       0.45811            2.45176  \n",
       "..          ...                ...  \n",
       "153     0.22628            0.67042  \n",
       "154     0.18260            1.63328  \n",
       "155     0.47179            0.32858  \n",
       "156     0.19727            1.83302  \n",
       "157     0.16681            1.56726  \n",
       "\n",
       "[158 rows x 12 columns]"
      ]
     },
     "execution_count": 9,
     "metadata": {},
     "output_type": "execute_result"
    }
   ],
   "source": [
    "#Lets convert the csv file into a DataFrame\n",
    "\n",
    "WHR=pd.DataFrame(data=WHR_1)\n",
    "WHR"
   ]
  },
  {
   "cell_type": "code",
   "execution_count": 10,
   "id": "4c4eb26c",
   "metadata": {},
   "outputs": [
    {
     "data": {
      "text/plain": [
       "<AxesSubplot:>"
      ]
     },
     "execution_count": 10,
     "metadata": {},
     "output_type": "execute_result"
    },
    {
     "data": {
      "image/png": "[encoded data removed]",
      "text/plain": [
       "<Figure size 432x288 with 2 Axes>"
      ]
     },
     "metadata": {
      "needs_background": "light"
     },
     "output_type": "display_data"
    }
   ],
   "source": [
    "#Lets confirm that there are no missing values with the heatmap\n",
    "sns.heatmap(WHR.isnull())\n",
    "#this confirms that there are no missing values"
   ]
  },
  {
   "cell_type": "code",
   "execution_count": 11,
   "id": "a1654241",
   "metadata": {},
   "outputs": [
    {
     "data": {
      "text/html": [
       "<div>\n",
       "<style scoped>\n",
       "    .dataframe tbody tr th:only-of-type {\n",
       "        vertical-align: middle;\n",
       "    }\n",
       "\n",
       "    .dataframe tbody tr th {\n",
       "        vertical-align: top;\n",
       "    }\n",
       "\n",
       "    .dataframe thead th {\n",
       "        text-align: right;\n",
       "    }\n",
       "</style>\n",
       "<table border=\"1\" class=\"dataframe\">\n",
       "  <thead>\n",
       "    <tr style=\"text-align: right;\">\n",
       "      <th></th>\n",
       "      <th>Happiness Rank</th>\n",
       "      <th>Happiness Score</th>\n",
       "      <th>Standard Error</th>\n",
       "      <th>Economy (GDP per Capita)</th>\n",
       "      <th>Family</th>\n",
       "      <th>Health (Life Expectancy)</th>\n",
       "      <th>Freedom</th>\n",
       "      <th>Trust (Government Corruption)</th>\n",
       "      <th>Generosity</th>\n",
       "      <th>Dystopia Residual</th>\n",
       "    </tr>\n",
       "  </thead>\n",
       "  <tbody>\n",
       "    <tr>\n",
       "      <th>count</th>\n",
       "      <td>158.000000</td>\n",
       "      <td>158.000000</td>\n",
       "      <td>158.000000</td>\n",
       "      <td>158.000000</td>\n",
       "      <td>158.000000</td>\n",
       "      <td>158.000000</td>\n",
       "      <td>158.000000</td>\n",
       "      <td>158.000000</td>\n",
       "      <td>158.000000</td>\n",
       "      <td>158.000000</td>\n",
       "    </tr>\n",
       "    <tr>\n",
       "      <th>mean</th>\n",
       "      <td>79.493671</td>\n",
       "      <td>5.375734</td>\n",
       "      <td>0.047885</td>\n",
       "      <td>0.846137</td>\n",
       "      <td>0.991046</td>\n",
       "      <td>0.630259</td>\n",
       "      <td>0.428615</td>\n",
       "      <td>0.143422</td>\n",
       "      <td>0.237296</td>\n",
       "      <td>2.098977</td>\n",
       "    </tr>\n",
       "    <tr>\n",
       "      <th>std</th>\n",
       "      <td>45.754363</td>\n",
       "      <td>1.145010</td>\n",
       "      <td>0.017146</td>\n",
       "      <td>0.403121</td>\n",
       "      <td>0.272369</td>\n",
       "      <td>0.247078</td>\n",
       "      <td>0.150693</td>\n",
       "      <td>0.120034</td>\n",
       "      <td>0.126685</td>\n",
       "      <td>0.553550</td>\n",
       "    </tr>\n",
       "    <tr>\n",
       "      <th>min</th>\n",
       "      <td>1.000000</td>\n",
       "      <td>2.839000</td>\n",
       "      <td>0.018480</td>\n",
       "      <td>0.000000</td>\n",
       "      <td>0.000000</td>\n",
       "      <td>0.000000</td>\n",
       "      <td>0.000000</td>\n",
       "      <td>0.000000</td>\n",
       "      <td>0.000000</td>\n",
       "      <td>0.328580</td>\n",
       "    </tr>\n",
       "    <tr>\n",
       "      <th>25%</th>\n",
       "      <td>40.250000</td>\n",
       "      <td>4.526000</td>\n",
       "      <td>0.037268</td>\n",
       "      <td>0.545808</td>\n",
       "      <td>0.856823</td>\n",
       "      <td>0.439185</td>\n",
       "      <td>0.328330</td>\n",
       "      <td>0.061675</td>\n",
       "      <td>0.150553</td>\n",
       "      <td>1.759410</td>\n",
       "    </tr>\n",
       "    <tr>\n",
       "      <th>50%</th>\n",
       "      <td>79.500000</td>\n",
       "      <td>5.232500</td>\n",
       "      <td>0.043940</td>\n",
       "      <td>0.910245</td>\n",
       "      <td>1.029510</td>\n",
       "      <td>0.696705</td>\n",
       "      <td>0.435515</td>\n",
       "      <td>0.107220</td>\n",
       "      <td>0.216130</td>\n",
       "      <td>2.095415</td>\n",
       "    </tr>\n",
       "    <tr>\n",
       "      <th>75%</th>\n",
       "      <td>118.750000</td>\n",
       "      <td>6.243750</td>\n",
       "      <td>0.052300</td>\n",
       "      <td>1.158448</td>\n",
       "      <td>1.214405</td>\n",
       "      <td>0.811013</td>\n",
       "      <td>0.549092</td>\n",
       "      <td>0.180255</td>\n",
       "      <td>0.309883</td>\n",
       "      <td>2.462415</td>\n",
       "    </tr>\n",
       "    <tr>\n",
       "      <th>max</th>\n",
       "      <td>158.000000</td>\n",
       "      <td>7.587000</td>\n",
       "      <td>0.136930</td>\n",
       "      <td>1.690420</td>\n",
       "      <td>1.402230</td>\n",
       "      <td>1.025250</td>\n",
       "      <td>0.669730</td>\n",
       "      <td>0.551910</td>\n",
       "      <td>0.795880</td>\n",
       "      <td>3.602140</td>\n",
       "    </tr>\n",
       "  </tbody>\n",
       "</table>\n",
       "</div>"
      ],
      "text/plain": [
       "       Happiness Rank  Happiness Score  Standard Error  \\\n",
       "count      158.000000       158.000000      158.000000   \n",
       "mean        79.493671         5.375734        0.047885   \n",
       "std         45.754363         1.145010        0.017146   \n",
       "min          1.000000         2.839000        0.018480   \n",
       "25%         40.250000         4.526000        0.037268   \n",
       "50%         79.500000         5.232500        0.043940   \n",
       "75%        118.750000         6.243750        0.052300   \n",
       "max        158.000000         7.587000        0.136930   \n",
       "\n",
       "       Economy (GDP per Capita)      Family  Health (Life Expectancy)  \\\n",
       "count                158.000000  158.000000                158.000000   \n",
       "mean                   0.846137    0.991046                  0.630259   \n",
       "std                    0.403121    0.272369                  0.247078   \n",
       "min                    0.000000    0.000000                  0.000000   \n",
       "25%                    0.545808    0.856823                  0.439185   \n",
       "50%                    0.910245    1.029510                  0.696705   \n",
       "75%                    1.158448    1.214405                  0.811013   \n",
       "max                    1.690420    1.402230                  1.025250   \n",
       "\n",
       "          Freedom  Trust (Government Corruption)  Generosity  \\\n",
       "count  158.000000                     158.000000  158.000000   \n",
       "mean     0.428615                       0.143422    0.237296   \n",
       "std      0.150693                       0.120034    0.126685   \n",
       "min      0.000000                       0.000000    0.000000   \n",
       "25%      0.328330                       0.061675    0.150553   \n",
       "50%      0.435515                       0.107220    0.216130   \n",
       "75%      0.549092                       0.180255    0.309883   \n",
       "max      0.669730                       0.551910    0.795880   \n",
       "\n",
       "       Dystopia Residual  \n",
       "count         158.000000  \n",
       "mean            2.098977  \n",
       "std             0.553550  \n",
       "min             0.328580  \n",
       "25%             1.759410  \n",
       "50%             2.095415  \n",
       "75%             2.462415  \n",
       "max             3.602140  "
      ]
     },
     "execution_count": 11,
     "metadata": {},
     "output_type": "execute_result"
    }
   ],
   "source": [
    "WHR.describe() # if we write WHR.describe(include=\"all\") we get description for all the columns.\n",
    "#Since mean is nearly same as the median there is a minimal skewness present\n",
    "#The outliers seem to be high for Dystopia Residual in the GDP per Capita column.\n",
    "#The standard deviation in all the columns seem to be a small value hence the data is not wide spread."
   ]
  },
  {
   "cell_type": "code",
   "execution_count": 12,
   "id": "d96d08ac",
   "metadata": {},
   "outputs": [],
   "source": [
    "#Lets perform univarite analysis on the attributes"
   ]
  },
  {
   "cell_type": "code",
   "execution_count": 13,
   "id": "c0381f12",
   "metadata": {},
   "outputs": [
    {
     "data": {
      "text/plain": [
       "<AxesSubplot:xlabel='Happiness Rank'>"
      ]
     },
     "execution_count": 13,
     "metadata": {},
     "output_type": "execute_result"
    },
    {
     "data": {
      "image/png": "[encoded data removed]",
      "text/plain": [
       "<Figure size 432x288 with 1 Axes>"
      ]
     },
     "metadata": {
      "needs_background": "light"
     },
     "output_type": "display_data"
    }
   ],
   "source": [
    "sns.boxplot(x=\"Happiness Rank\",data=WHR)\n",
    "#No outliers are present here."
   ]
  },
  {
   "cell_type": "code",
   "execution_count": 14,
   "id": "ad716229",
   "metadata": {},
   "outputs": [
    {
     "data": {
      "text/plain": [
       "<AxesSubplot:xlabel='Happiness Rank', ylabel='Density'>"
      ]
     },
     "execution_count": 14,
     "metadata": {},
     "output_type": "execute_result"
    },
    {
     "data": {
      "image/png": "[encoded data removed]",
      "text/plain": [
       "<Figure size 432x288 with 1 Axes>"
      ]
     },
     "metadata": {
      "needs_background": "light"
     },
     "output_type": "display_data"
    }
   ],
   "source": [
    "sns.distplot(WHR[\"Happiness Rank\"])\n",
    "#It seems like a normal distribution"
   ]
  },
  {
   "cell_type": "code",
   "execution_count": 15,
   "id": "fab30a1a",
   "metadata": {},
   "outputs": [
    {
     "data": {
      "text/plain": [
       "<AxesSubplot:xlabel='Standard Error'>"
      ]
     },
     "execution_count": 15,
     "metadata": {},
     "output_type": "execute_result"
    },
    {
     "data": {
      "image/png": "[encoded data removed]",
      "text/plain": [
       "<Figure size 432x288 with 1 Axes>"
      ]
     },
     "metadata": {
      "needs_background": "light"
     },
     "output_type": "display_data"
    }
   ],
   "source": [
    "sns.boxplot(x=\"Standard Error\",data=WHR)\n",
    "#there are outliers which are needed to be removed."
   ]
  },
  {
   "cell_type": "code",
   "execution_count": 16,
   "id": "e1bf8d3b",
   "metadata": {},
   "outputs": [
    {
     "data": {
      "text/plain": [
       "<AxesSubplot:xlabel='Standard Error', ylabel='Density'>"
      ]
     },
     "execution_count": 16,
     "metadata": {},
     "output_type": "execute_result"
    },
    {
     "data": {
      "image/png": "[encoded data removed]",
      "text/plain": [
       "<Figure size 432x288 with 1 Axes>"
      ]
     },
     "metadata": {
      "needs_background": "light"
     },
     "output_type": "display_data"
    }
   ],
   "source": [
    "sns.distplot(WHR[\"Standard Error\"],kde=True)\n",
    "#there is some skweness to the right"
   ]
  },
  {
   "cell_type": "code",
   "execution_count": 17,
   "id": "0a8b66b7",
   "metadata": {},
   "outputs": [
    {
     "data": {
      "text/plain": [
       "<AxesSubplot:xlabel='Economy (GDP per Capita)'>"
      ]
     },
     "execution_count": 17,
     "metadata": {},
     "output_type": "execute_result"
    },
    {
     "data": {
      "image/png": "[encoded data removed]",
      "text/plain": [
       "<Figure size 432x288 with 1 Axes>"
      ]
     },
     "metadata": {
      "needs_background": "light"
     },
     "output_type": "display_data"
    }
   ],
   "source": [
    "sns.boxplot(x=\"Economy (GDP per Capita)\",data=WHR)\n",
    "#No outliers are present here."
   ]
  },
  {
   "cell_type": "code",
   "execution_count": 18,
   "id": "84641dbe",
   "metadata": {},
   "outputs": [
    {
     "data": {
      "text/plain": [
       "<AxesSubplot:xlabel='Economy (GDP per Capita)', ylabel='Density'>"
      ]
     },
     "execution_count": 18,
     "metadata": {},
     "output_type": "execute_result"
    },
    {
     "data": {
      "image/png": "[encoded data removed]",
      "text/plain": [
       "<Figure size 432x288 with 1 Axes>"
      ]
     },
     "metadata": {
      "needs_background": "light"
     },
     "output_type": "display_data"
    }
   ],
   "source": [
    "sns.distplot(WHR[\"Economy (GDP per Capita)\"])\n",
    "#it can be considered fairly normally distributed."
   ]
  },
  {
   "cell_type": "code",
   "execution_count": 19,
   "id": "e6bc3adc",
   "metadata": {},
   "outputs": [
    {
     "data": {
      "text/plain": [
       "<AxesSubplot:xlabel='Family'>"
      ]
     },
     "execution_count": 19,
     "metadata": {},
     "output_type": "execute_result"
    },
    {
     "data": {
      "image/png": "[encoded data removed]",
      "text/plain": [
       "<Figure size 432x288 with 1 Axes>"
      ]
     },
     "metadata": {
      "needs_background": "light"
     },
     "output_type": "display_data"
    }
   ],
   "source": [
    "sns.boxplot(x=\"Family\",data=WHR)\n",
    "#There are outliers present here."
   ]
  },
  {
   "cell_type": "code",
   "execution_count": 20,
   "id": "d332c47c",
   "metadata": {},
   "outputs": [
    {
     "data": {
      "text/plain": [
       "<AxesSubplot:xlabel='Family', ylabel='Density'>"
      ]
     },
     "execution_count": 20,
     "metadata": {},
     "output_type": "execute_result"
    },
    {
     "data": {
      "image/png": "[encoded data removed]",
      "text/plain": [
       "<Figure size 432x288 with 1 Axes>"
      ]
     },
     "metadata": {
      "needs_background": "light"
     },
     "output_type": "display_data"
    }
   ],
   "source": [
    "sns.distplot(WHR[\"Family\"])\n",
    "#it is left skewed."
   ]
  },
  {
   "cell_type": "code",
   "execution_count": 21,
   "id": "5015c01e",
   "metadata": {},
   "outputs": [
    {
     "data": {
      "text/plain": [
       "<AxesSubplot:xlabel='Health (Life Expectancy)'>"
      ]
     },
     "execution_count": 21,
     "metadata": {},
     "output_type": "execute_result"
    },
    {
     "data": {
      "image/png": "[encoded data removed]",
      "text/plain": [
       "<Figure size 432x288 with 1 Axes>"
      ]
     },
     "metadata": {
      "needs_background": "light"
     },
     "output_type": "display_data"
    }
   ],
   "source": [
    "sns.boxplot(x=\"Health (Life Expectancy)\",data=WHR)\n",
    "#No outliers are present here."
   ]
  },
  {
   "cell_type": "code",
   "execution_count": 22,
   "id": "73bce53a",
   "metadata": {},
   "outputs": [
    {
     "data": {
      "text/plain": [
       "<AxesSubplot:xlabel='Health (Life Expectancy)', ylabel='Density'>"
      ]
     },
     "execution_count": 22,
     "metadata": {},
     "output_type": "execute_result"
    },
    {
     "data": {
      "image/png": "[encoded data removed]",
      "text/plain": [
       "<Figure size 432x288 with 1 Axes>"
      ]
     },
     "metadata": {
      "needs_background": "light"
     },
     "output_type": "display_data"
    }
   ],
   "source": [
    "sns.distplot(WHR[\"Health (Life Expectancy)\"])\n",
    "#it is left skewed"
   ]
  },
  {
   "cell_type": "code",
   "execution_count": 23,
   "id": "3b987966",
   "metadata": {},
   "outputs": [
    {
     "data": {
      "text/plain": [
       "<AxesSubplot:xlabel='Freedom'>"
      ]
     },
     "execution_count": 23,
     "metadata": {},
     "output_type": "execute_result"
    },
    {
     "data": {
      "image/png": "[encoded data removed]",
      "text/plain": [
       "<Figure size 432x288 with 1 Axes>"
      ]
     },
     "metadata": {
      "needs_background": "light"
     },
     "output_type": "display_data"
    }
   ],
   "source": [
    "sns.boxplot(x=\"Freedom\",data=WHR)\n",
    "#No outliers are present here"
   ]
  },
  {
   "cell_type": "code",
   "execution_count": 24,
   "id": "87328e5b",
   "metadata": {},
   "outputs": [
    {
     "data": {
      "text/plain": [
       "<AxesSubplot:xlabel='Freedom', ylabel='Density'>"
      ]
     },
     "execution_count": 24,
     "metadata": {},
     "output_type": "execute_result"
    },
    {
     "data": {
      "image/png": "[encoded data removed]",
      "text/plain": [
       "<Figure size 432x288 with 1 Axes>"
      ]
     },
     "metadata": {
      "needs_background": "light"
     },
     "output_type": "display_data"
    }
   ],
   "source": [
    "sns.distplot(WHR[\"Freedom\"])\n",
    "#it is slightly left skewed"
   ]
  },
  {
   "cell_type": "code",
   "execution_count": 25,
   "id": "21429c13",
   "metadata": {},
   "outputs": [
    {
     "data": {
      "text/plain": [
       "<AxesSubplot:xlabel='Trust (Government Corruption)'>"
      ]
     },
     "execution_count": 25,
     "metadata": {},
     "output_type": "execute_result"
    },
    {
     "data": {
      "image/png": "[encoded data removed]",
      "text/plain": [
       "<Figure size 432x288 with 1 Axes>"
      ]
     },
     "metadata": {
      "needs_background": "light"
     },
     "output_type": "display_data"
    }
   ],
   "source": [
    "sns.boxplot(x=\"Trust (Government Corruption)\",data=WHR)\n",
    "#There are outliers present here."
   ]
  },
  {
   "cell_type": "code",
   "execution_count": 26,
   "id": "f1c1a26f",
   "metadata": {},
   "outputs": [
    {
     "data": {
      "text/plain": [
       "<AxesSubplot:xlabel='Trust (Government Corruption)', ylabel='Density'>"
      ]
     },
     "execution_count": 26,
     "metadata": {},
     "output_type": "execute_result"
    },
    {
     "data": {
      "image/png": "[encoded data removed]",
      "text/plain": [
       "<Figure size 432x288 with 1 Axes>"
      ]
     },
     "metadata": {
      "needs_background": "light"
     },
     "output_type": "display_data"
    }
   ],
   "source": [
    "sns.distplot(WHR[\"Trust (Government Corruption)\"])\n",
    "#it is slightly right skewed"
   ]
  },
  {
   "cell_type": "code",
   "execution_count": 27,
   "id": "27c98055",
   "metadata": {},
   "outputs": [
    {
     "data": {
      "text/plain": [
       "<AxesSubplot:xlabel='Generosity'>"
      ]
     },
     "execution_count": 27,
     "metadata": {},
     "output_type": "execute_result"
    },
    {
     "data": {
      "image/png": "[encoded data removed]",
      "text/plain": [
       "<Figure size 432x288 with 1 Axes>"
      ]
     },
     "metadata": {
      "needs_background": "light"
     },
     "output_type": "display_data"
    }
   ],
   "source": [
    "sns.boxplot(x=\"Generosity\",data=WHR)\n",
    "#There are some outliers present here."
   ]
  },
  {
   "cell_type": "code",
   "execution_count": 28,
   "id": "9ba48823",
   "metadata": {},
   "outputs": [
    {
     "data": {
      "text/plain": [
       "<AxesSubplot:xlabel='Generosity', ylabel='Density'>"
      ]
     },
     "execution_count": 28,
     "metadata": {},
     "output_type": "execute_result"
    },
    {
     "data": {
      "image/png": "[encoded data removed]",
      "text/plain": [
       "<Figure size 432x288 with 1 Axes>"
      ]
     },
     "metadata": {
      "needs_background": "light"
     },
     "output_type": "display_data"
    }
   ],
   "source": [
    "sns.distplot(WHR[\"Generosity\"])\n",
    "#it is slightly right skewed"
   ]
  },
  {
   "cell_type": "code",
   "execution_count": 29,
   "id": "fba8e826",
   "metadata": {},
   "outputs": [
    {
     "data": {
      "text/plain": [
       "<AxesSubplot:xlabel='Dystopia Residual'>"
      ]
     },
     "execution_count": 29,
     "metadata": {},
     "output_type": "execute_result"
    },
    {
     "data": {
      "image/png": "[encoded data removed]",
      "text/plain": [
       "<Figure size 432x288 with 1 Axes>"
      ]
     },
     "metadata": {
      "needs_background": "light"
     },
     "output_type": "display_data"
    }
   ],
   "source": [
    "sns.boxplot(x=\"Dystopia Residual\",data=WHR)\n",
    "#There are some outliers present here"
   ]
  },
  {
   "cell_type": "code",
   "execution_count": 30,
   "id": "7808e7f6",
   "metadata": {},
   "outputs": [
    {
     "data": {
      "text/plain": [
       "<AxesSubplot:xlabel='Dystopia Residual', ylabel='Density'>"
      ]
     },
     "execution_count": 30,
     "metadata": {},
     "output_type": "execute_result"
    },
    {
     "data": {
      "image/png": "[encoded data removed]",
      "text/plain": [
       "<Figure size 432x288 with 1 Axes>"
      ]
     },
     "metadata": {
      "needs_background": "light"
     },
     "output_type": "display_data"
    }
   ],
   "source": [
    "sns.distplot(WHR[\"Dystopia Residual\"])\n",
    "#its slightly left skewed"
   ]
  },
  {
   "cell_type": "code",
   "execution_count": 31,
   "id": "3a338192",
   "metadata": {},
   "outputs": [
    {
     "data": {
      "text/plain": [
       "<seaborn.axisgrid.FacetGrid at 0x1e430f57fa0>"
      ]
     },
     "execution_count": 31,
     "metadata": {},
     "output_type": "execute_result"
    },
    {
     "data": {
      "image/png": "[encoded data removed]",
      "text/plain": [
       "<Figure size 360x360 with 1 Axes>"
      ]
     },
     "metadata": {
      "needs_background": "light"
     },
     "output_type": "display_data"
    }
   ],
   "source": [
    "#Lets perform bivariate analysis of dependent and independent variables\n",
    "sns.relplot(x=\"Happiness Score\",y=\"Happiness Rank\",kind=\"scatter\",data=WHR)\n",
    "#as one can see, it is a straight line and a linear plot. Happines score is the most at rank 1."
   ]
  },
  {
   "cell_type": "code",
   "execution_count": 32,
   "id": "832cd3d2",
   "metadata": {},
   "outputs": [
    {
     "data": {
      "text/plain": [
       "<seaborn.axisgrid.FacetGrid at 0x1e430f06dc0>"
      ]
     },
     "execution_count": 32,
     "metadata": {},
     "output_type": "execute_result"
    },
    {
     "data": {
      "image/png": "[encoded data removed]",
      "text/plain": [
       "<Figure size 360x360 with 1 Axes>"
      ]
     },
     "metadata": {
      "needs_background": "light"
     },
     "output_type": "display_data"
    }
   ],
   "source": [
    "sns.relplot(x=\"Happiness Score\",y=\"Standard Error\",kind=\"scatter\",data=WHR)\n",
    "#as one can see, it is a straight line and a linear plot.Happiness Score increases with standard error being low."
   ]
  },
  {
   "cell_type": "code",
   "execution_count": 33,
   "id": "db6926df",
   "metadata": {},
   "outputs": [
    {
     "data": {
      "text/plain": [
       "<seaborn.axisgrid.FacetGrid at 0x1e430f9f760>"
      ]
     },
     "execution_count": 33,
     "metadata": {},
     "output_type": "execute_result"
    },
    {
     "data": {
      "image/png": "[encoded data removed]",
      "text/plain": [
       "<Figure size 360x360 with 1 Axes>"
      ]
     },
     "metadata": {
      "needs_background": "light"
     },
     "output_type": "display_data"
    }
   ],
   "source": [
    "sns.relplot(x=\"Economy (GDP per Capita)\",y=\"Happiness Score\",kind=\"scatter\",data=WHR)\n",
    "#as one can see, it is a straight line and a linear plot. As GDP increases the happiness score also increases."
   ]
  },
  {
   "cell_type": "code",
   "execution_count": 34,
   "id": "8a5e60f8",
   "metadata": {},
   "outputs": [
    {
     "data": {
      "text/plain": [
       "<seaborn.axisgrid.FacetGrid at 0x1e43103f3a0>"
      ]
     },
     "execution_count": 34,
     "metadata": {},
     "output_type": "execute_result"
    },
    {
     "data": {
      "image/png": "[encoded data removed]",
      "text/plain": [
       "<Figure size 360x360 with 1 Axes>"
      ]
     },
     "metadata": {
      "needs_background": "light"
     },
     "output_type": "display_data"
    }
   ],
   "source": [
    "sns.relplot(x=\"Family\",y=\"Happiness Score\",data=WHR)\n",
    "#as one can see, it is a straight line and a linear plot. With increases in  family support the happiness score increases. "
   ]
  },
  {
   "cell_type": "code",
   "execution_count": 36,
   "id": "357c567d",
   "metadata": {},
   "outputs": [
    {
     "data": {
      "text/plain": [
       "<seaborn.axisgrid.FacetGrid at 0x1e431025d30>"
      ]
     },
     "execution_count": 36,
     "metadata": {},
     "output_type": "execute_result"
    },
    {
     "data": {
      "image/png": "[encoded data removed]",
      "text/plain": [
       "<Figure size 360x360 with 1 Axes>"
      ]
     },
     "metadata": {
      "needs_background": "light"
     },
     "output_type": "display_data"
    }
   ],
   "source": [
    "sns.relplot(x=\"Health (Life Expectancy)\",y=\"Happiness Score\",data=WHR)\n",
    "#as one can see, it is a straight line and a linear plot. With increases in the happiness score health life expectancy increases."
   ]
  },
  {
   "cell_type": "code",
   "execution_count": 37,
   "id": "3c9cdcdb",
   "metadata": {},
   "outputs": [
    {
     "data": {
      "text/plain": [
       "<seaborn.axisgrid.FacetGrid at 0x1e4310a9a90>"
      ]
     },
     "execution_count": 37,
     "metadata": {},
     "output_type": "execute_result"
    },
    {
     "data": {
      "image/png": "[encoded data removed]",
      "text/plain": [
       "<Figure size 360x360 with 1 Axes>"
      ]
     },
     "metadata": {
      "needs_background": "light"
     },
     "output_type": "display_data"
    }
   ],
   "source": [
    "sns.relplot(x=\"Freedom\",y=\"Happiness Score\",data=WHR)\n",
    "#as one can see, it is a straight line and a linear plot. With increases in freedom the happiness score increases"
   ]
  },
  {
   "cell_type": "code",
   "execution_count": 38,
   "id": "cbe68025",
   "metadata": {},
   "outputs": [
    {
     "data": {
      "text/plain": [
       "<seaborn.axisgrid.FacetGrid at 0x1e431163cd0>"
      ]
     },
     "execution_count": 38,
     "metadata": {},
     "output_type": "execute_result"
    },
    {
     "data": {
      "image/png": "[encoded data removed]",
      "text/plain": [
       "<Figure size 360x360 with 1 Axes>"
      ]
     },
     "metadata": {
      "needs_background": "light"
     },
     "output_type": "display_data"
    }
   ],
   "source": [
    "sns.relplot(x=\"Trust (Government Corruption)\",y=\"Happiness Score\",data=WHR)\n",
    "#As the trust in the government increases, so dose the happiness score."
   ]
  },
  {
   "cell_type": "code",
   "execution_count": 39,
   "id": "8f407e99",
   "metadata": {},
   "outputs": [
    {
     "data": {
      "text/plain": [
       "<seaborn.axisgrid.FacetGrid at 0x1e4311be430>"
      ]
     },
     "execution_count": 39,
     "metadata": {},
     "output_type": "execute_result"
    },
    {
     "data": {
      "image/png": "[encoded data removed]",
      "text/plain": [
       "<Figure size 360x360 with 1 Axes>"
      ]
     },
     "metadata": {
      "needs_background": "light"
     },
     "output_type": "display_data"
    }
   ],
   "source": [
    "sns.relplot(x=\"Generosity\",y=\"Happiness Score\",data=WHR)\n",
    "#As the Generosity increases, so dose the happiness score."
   ]
  },
  {
   "cell_type": "code",
   "execution_count": 40,
   "id": "7795927b",
   "metadata": {},
   "outputs": [
    {
     "data": {
      "text/plain": [
       "<seaborn.axisgrid.FacetGrid at 0x1e4321e0430>"
      ]
     },
     "execution_count": 40,
     "metadata": {},
     "output_type": "execute_result"
    },
    {
     "data": {
      "image/png": "[encoded data removed]",
      "text/plain": [
       "<Figure size 360x360 with 1 Axes>"
      ]
     },
     "metadata": {
      "needs_background": "light"
     },
     "output_type": "display_data"
    }
   ],
   "source": [
    "sns.relplot(x=\"Dystopia Residual\",y=\"Happiness Score\",data=WHR)\n",
    "#With an increase in dystopia residual, the happiness score increases."
   ]
  },
  {
   "cell_type": "code",
   "execution_count": 41,
   "id": "613c3a32",
   "metadata": {},
   "outputs": [
    {
     "data": {
      "text/plain": [
       "0      135\n",
       "1       58\n",
       "2       37\n",
       "3      105\n",
       "4       24\n",
       "      ... \n",
       "153    118\n",
       "154     13\n",
       "155    136\n",
       "156     21\n",
       "157    141\n",
       "Name: Country, Length: 158, dtype: int32"
      ]
     },
     "execution_count": 41,
     "metadata": {},
     "output_type": "execute_result"
    }
   ],
   "source": [
    "#Lets use label encoder to convert object attributes to assign some numneric data which are Country and Region\n",
    "le=LabelEncoder()\n",
    "WHR[\"Country\"]=le.fit_transform(WHR[\"Country\"])\n",
    "WHR[\"Country\"]"
   ]
  },
  {
   "cell_type": "code",
   "execution_count": 42,
   "id": "6416edff",
   "metadata": {},
   "outputs": [
    {
     "data": {
      "text/plain": [
       "0      9\n",
       "1      9\n",
       "2      9\n",
       "3      9\n",
       "4      5\n",
       "      ..\n",
       "153    8\n",
       "154    8\n",
       "155    4\n",
       "156    8\n",
       "157    8\n",
       "Name: Region, Length: 158, dtype: int32"
      ]
     },
     "execution_count": 42,
     "metadata": {},
     "output_type": "execute_result"
    }
   ],
   "source": [
    "le=LabelEncoder()\n",
    "WHR[\"Region\"]=le.fit_transform(WHR[\"Region\"])\n",
    "WHR[\"Region\"]"
   ]
  },
  {
   "cell_type": "code",
   "execution_count": 43,
   "id": "3617ecbd",
   "metadata": {},
   "outputs": [
    {
     "data": {
      "text/html": [
       "<div>\n",
       "<style scoped>\n",
       "    .dataframe tbody tr th:only-of-type {\n",
       "        vertical-align: middle;\n",
       "    }\n",
       "\n",
       "    .dataframe tbody tr th {\n",
       "        vertical-align: top;\n",
       "    }\n",
       "\n",
       "    .dataframe thead th {\n",
       "        text-align: right;\n",
       "    }\n",
       "</style>\n",
       "<table border=\"1\" class=\"dataframe\">\n",
       "  <thead>\n",
       "    <tr style=\"text-align: right;\">\n",
       "      <th></th>\n",
       "      <th>Country</th>\n",
       "      <th>Region</th>\n",
       "      <th>Happiness Rank</th>\n",
       "      <th>Happiness Score</th>\n",
       "      <th>Standard Error</th>\n",
       "      <th>Economy (GDP per Capita)</th>\n",
       "      <th>Family</th>\n",
       "      <th>Health (Life Expectancy)</th>\n",
       "      <th>Freedom</th>\n",
       "      <th>Trust (Government Corruption)</th>\n",
       "      <th>Generosity</th>\n",
       "      <th>Dystopia Residual</th>\n",
       "    </tr>\n",
       "  </thead>\n",
       "  <tbody>\n",
       "    <tr>\n",
       "      <th>0</th>\n",
       "      <td>1.238770</td>\n",
       "      <td>1.300256</td>\n",
       "      <td>-1.721000</td>\n",
       "      <td>1.937360</td>\n",
       "      <td>-0.805926</td>\n",
       "      <td>1.369621</td>\n",
       "      <td>1.320281</td>\n",
       "      <td>1.263408</td>\n",
       "      <td>1.577438</td>\n",
       "      <td>2.309652</td>\n",
       "      <td>0.471040</td>\n",
       "      <td>0.758258</td>\n",
       "    </tr>\n",
       "    <tr>\n",
       "      <th>1</th>\n",
       "      <td>-0.449465</td>\n",
       "      <td>1.300256</td>\n",
       "      <td>-1.699075</td>\n",
       "      <td>1.914581</td>\n",
       "      <td>0.055889</td>\n",
       "      <td>1.135226</td>\n",
       "      <td>1.514458</td>\n",
       "      <td>1.289434</td>\n",
       "      <td>1.332456</td>\n",
       "      <td>-0.016480</td>\n",
       "      <td>1.575856</td>\n",
       "      <td>1.092857</td>\n",
       "    </tr>\n",
       "    <tr>\n",
       "      <th>2</th>\n",
       "      <td>-0.909893</td>\n",
       "      <td>1.300256</td>\n",
       "      <td>-1.677149</td>\n",
       "      <td>1.884792</td>\n",
       "      <td>-0.854487</td>\n",
       "      <td>1.192861</td>\n",
       "      <td>1.361054</td>\n",
       "      <td>0.992229</td>\n",
       "      <td>1.469659</td>\n",
       "      <td>2.842774</td>\n",
       "      <td>0.824293</td>\n",
       "      <td>0.712335</td>\n",
       "    </tr>\n",
       "    <tr>\n",
       "      <th>3</th>\n",
       "      <td>0.581016</td>\n",
       "      <td>1.300256</td>\n",
       "      <td>-1.655224</td>\n",
       "      <td>1.880411</td>\n",
       "      <td>-0.531526</td>\n",
       "      <td>1.525130</td>\n",
       "      <td>1.251922</td>\n",
       "      <td>1.035145</td>\n",
       "      <td>1.605131</td>\n",
       "      <td>1.852081</td>\n",
       "      <td>0.868638</td>\n",
       "      <td>0.663893</td>\n",
       "    </tr>\n",
       "    <tr>\n",
       "      <th>4</th>\n",
       "      <td>-1.194920</td>\n",
       "      <td>-0.040302</td>\n",
       "      <td>-1.633299</td>\n",
       "      <td>1.797179</td>\n",
       "      <td>-0.722845</td>\n",
       "      <td>1.194876</td>\n",
       "      <td>1.221204</td>\n",
       "      <td>1.118054</td>\n",
       "      <td>1.360416</td>\n",
       "      <td>1.555725</td>\n",
       "      <td>1.748563</td>\n",
       "      <td>0.639337</td>\n",
       "    </tr>\n",
       "    <tr>\n",
       "      <th>...</th>\n",
       "      <td>...</td>\n",
       "      <td>...</td>\n",
       "      <td>...</td>\n",
       "      <td>...</td>\n",
       "      <td>...</td>\n",
       "      <td>...</td>\n",
       "      <td>...</td>\n",
       "      <td>...</td>\n",
       "      <td>...</td>\n",
       "      <td>...</td>\n",
       "      <td>...</td>\n",
       "      <td>...</td>\n",
       "    </tr>\n",
       "    <tr>\n",
       "      <th>153</th>\n",
       "      <td>0.866043</td>\n",
       "      <td>0.965117</td>\n",
       "      <td>1.633576</td>\n",
       "      <td>-1.674055</td>\n",
       "      <td>-0.774917</td>\n",
       "      <td>-1.552987</td>\n",
       "      <td>-0.800520</td>\n",
       "      <td>-0.818610</td>\n",
       "      <td>1.087740</td>\n",
       "      <td>3.413922</td>\n",
       "      <td>-0.087228</td>\n",
       "      <td>-2.588925</td>\n",
       "    </tr>\n",
       "    <tr>\n",
       "      <th>154</th>\n",
       "      <td>-1.436096</td>\n",
       "      <td>0.965117</td>\n",
       "      <td>1.655501</td>\n",
       "      <td>-1.783571</td>\n",
       "      <td>-0.662582</td>\n",
       "      <td>-1.392303</td>\n",
       "      <td>-2.346860</td>\n",
       "      <td>-1.263362</td>\n",
       "      <td>0.372033</td>\n",
       "      <td>-0.529210</td>\n",
       "      <td>-0.433117</td>\n",
       "      <td>-0.843967</td>\n",
       "    </tr>\n",
       "    <tr>\n",
       "      <th>155</th>\n",
       "      <td>1.260695</td>\n",
       "      <td>-0.375441</td>\n",
       "      <td>1.677427</td>\n",
       "      <td>-2.076199</td>\n",
       "      <td>0.132534</td>\n",
       "      <td>-0.455245</td>\n",
       "      <td>-1.901086</td>\n",
       "      <td>0.372199</td>\n",
       "      <td>-1.809238</td>\n",
       "      <td>0.381419</td>\n",
       "      <td>1.856891</td>\n",
       "      <td>-3.208430</td>\n",
       "    </tr>\n",
       "    <tr>\n",
       "      <th>156</th>\n",
       "      <td>-1.260695</td>\n",
       "      <td>0.965117</td>\n",
       "      <td>1.699352</td>\n",
       "      <td>-2.164688</td>\n",
       "      <td>2.263962</td>\n",
       "      <td>-2.067566</td>\n",
       "      <td>-2.118467</td>\n",
       "      <td>-1.649648</td>\n",
       "      <td>-2.064472</td>\n",
       "      <td>-0.357715</td>\n",
       "      <td>-0.316950</td>\n",
       "      <td>-0.481985</td>\n",
       "    </tr>\n",
       "    <tr>\n",
       "      <th>157</th>\n",
       "      <td>1.370321</td>\n",
       "      <td>0.965117</td>\n",
       "      <td>1.721277</td>\n",
       "      <td>-2.222513</td>\n",
       "      <td>1.134182</td>\n",
       "      <td>-1.586334</td>\n",
       "      <td>-3.134725</td>\n",
       "      <td>-1.404129</td>\n",
       "      <td>-0.426621</td>\n",
       "      <td>-0.301803</td>\n",
       "      <td>-0.558153</td>\n",
       "      <td>-0.963612</td>\n",
       "    </tr>\n",
       "  </tbody>\n",
       "</table>\n",
       "<p>158 rows × 12 columns</p>\n",
       "</div>"
      ],
      "text/plain": [
       "      Country    Region  Happiness Rank  Happiness Score  Standard Error  \\\n",
       "0    1.238770  1.300256       -1.721000         1.937360       -0.805926   \n",
       "1   -0.449465  1.300256       -1.699075         1.914581        0.055889   \n",
       "2   -0.909893  1.300256       -1.677149         1.884792       -0.854487   \n",
       "3    0.581016  1.300256       -1.655224         1.880411       -0.531526   \n",
       "4   -1.194920 -0.040302       -1.633299         1.797179       -0.722845   \n",
       "..        ...       ...             ...              ...             ...   \n",
       "153  0.866043  0.965117        1.633576        -1.674055       -0.774917   \n",
       "154 -1.436096  0.965117        1.655501        -1.783571       -0.662582   \n",
       "155  1.260695 -0.375441        1.677427        -2.076199        0.132534   \n",
       "156 -1.260695  0.965117        1.699352        -2.164688        2.263962   \n",
       "157  1.370321  0.965117        1.721277        -2.222513        1.134182   \n",
       "\n",
       "     Economy (GDP per Capita)    Family  Health (Life Expectancy)   Freedom  \\\n",
       "0                    1.369621  1.320281                  1.263408  1.577438   \n",
       "1                    1.135226  1.514458                  1.289434  1.332456   \n",
       "2                    1.192861  1.361054                  0.992229  1.469659   \n",
       "3                    1.525130  1.251922                  1.035145  1.605131   \n",
       "4                    1.194876  1.221204                  1.118054  1.360416   \n",
       "..                        ...       ...                       ...       ...   \n",
       "153                 -1.552987 -0.800520                 -0.818610  1.087740   \n",
       "154                 -1.392303 -2.346860                 -1.263362  0.372033   \n",
       "155                 -0.455245 -1.901086                  0.372199 -1.809238   \n",
       "156                 -2.067566 -2.118467                 -1.649648 -2.064472   \n",
       "157                 -1.586334 -3.134725                 -1.404129 -0.426621   \n",
       "\n",
       "     Trust (Government Corruption)  Generosity  Dystopia Residual  \n",
       "0                         2.309652    0.471040           0.758258  \n",
       "1                        -0.016480    1.575856           1.092857  \n",
       "2                         2.842774    0.824293           0.712335  \n",
       "3                         1.852081    0.868638           0.663893  \n",
       "4                         1.555725    1.748563           0.639337  \n",
       "..                             ...         ...                ...  \n",
       "153                       3.413922   -0.087228          -2.588925  \n",
       "154                      -0.529210   -0.433117          -0.843967  \n",
       "155                       0.381419    1.856891          -3.208430  \n",
       "156                      -0.357715   -0.316950          -0.481985  \n",
       "157                      -0.301803   -0.558153          -0.963612  \n",
       "\n",
       "[158 rows x 12 columns]"
      ]
     },
     "execution_count": 43,
     "metadata": {},
     "output_type": "execute_result"
    }
   ],
   "source": [
    "#One can see the inital object or string values in Country and Region is replaced with numeric values\n",
    "#Now lets remove outliers using zscore method\n",
    "\n",
    "zscore(WHR)"
   ]
  },
  {
   "cell_type": "code",
   "execution_count": 44,
   "id": "dd606e45",
   "metadata": {},
   "outputs": [
    {
     "data": {
      "text/html": [
       "<div>\n",
       "<style scoped>\n",
       "    .dataframe tbody tr th:only-of-type {\n",
       "        vertical-align: middle;\n",
       "    }\n",
       "\n",
       "    .dataframe tbody tr th {\n",
       "        vertical-align: top;\n",
       "    }\n",
       "\n",
       "    .dataframe thead th {\n",
       "        text-align: right;\n",
       "    }\n",
       "</style>\n",
       "<table border=\"1\" class=\"dataframe\">\n",
       "  <thead>\n",
       "    <tr style=\"text-align: right;\">\n",
       "      <th></th>\n",
       "      <th>Country</th>\n",
       "      <th>Region</th>\n",
       "      <th>Happiness Rank</th>\n",
       "      <th>Happiness Score</th>\n",
       "      <th>Standard Error</th>\n",
       "      <th>Economy (GDP per Capita)</th>\n",
       "      <th>Family</th>\n",
       "      <th>Health (Life Expectancy)</th>\n",
       "      <th>Freedom</th>\n",
       "      <th>Trust (Government Corruption)</th>\n",
       "      <th>Generosity</th>\n",
       "      <th>Dystopia Residual</th>\n",
       "    </tr>\n",
       "  </thead>\n",
       "  <tbody>\n",
       "    <tr>\n",
       "      <th>0</th>\n",
       "      <td>1.238770</td>\n",
       "      <td>1.300256</td>\n",
       "      <td>1.721000</td>\n",
       "      <td>1.937360</td>\n",
       "      <td>0.805926</td>\n",
       "      <td>1.369621</td>\n",
       "      <td>1.320281</td>\n",
       "      <td>1.263408</td>\n",
       "      <td>1.577438</td>\n",
       "      <td>2.309652</td>\n",
       "      <td>0.471040</td>\n",
       "      <td>0.758258</td>\n",
       "    </tr>\n",
       "    <tr>\n",
       "      <th>1</th>\n",
       "      <td>0.449465</td>\n",
       "      <td>1.300256</td>\n",
       "      <td>1.699075</td>\n",
       "      <td>1.914581</td>\n",
       "      <td>0.055889</td>\n",
       "      <td>1.135226</td>\n",
       "      <td>1.514458</td>\n",
       "      <td>1.289434</td>\n",
       "      <td>1.332456</td>\n",
       "      <td>0.016480</td>\n",
       "      <td>1.575856</td>\n",
       "      <td>1.092857</td>\n",
       "    </tr>\n",
       "    <tr>\n",
       "      <th>2</th>\n",
       "      <td>0.909893</td>\n",
       "      <td>1.300256</td>\n",
       "      <td>1.677149</td>\n",
       "      <td>1.884792</td>\n",
       "      <td>0.854487</td>\n",
       "      <td>1.192861</td>\n",
       "      <td>1.361054</td>\n",
       "      <td>0.992229</td>\n",
       "      <td>1.469659</td>\n",
       "      <td>2.842774</td>\n",
       "      <td>0.824293</td>\n",
       "      <td>0.712335</td>\n",
       "    </tr>\n",
       "    <tr>\n",
       "      <th>3</th>\n",
       "      <td>0.581016</td>\n",
       "      <td>1.300256</td>\n",
       "      <td>1.655224</td>\n",
       "      <td>1.880411</td>\n",
       "      <td>0.531526</td>\n",
       "      <td>1.525130</td>\n",
       "      <td>1.251922</td>\n",
       "      <td>1.035145</td>\n",
       "      <td>1.605131</td>\n",
       "      <td>1.852081</td>\n",
       "      <td>0.868638</td>\n",
       "      <td>0.663893</td>\n",
       "    </tr>\n",
       "    <tr>\n",
       "      <th>4</th>\n",
       "      <td>1.194920</td>\n",
       "      <td>0.040302</td>\n",
       "      <td>1.633299</td>\n",
       "      <td>1.797179</td>\n",
       "      <td>0.722845</td>\n",
       "      <td>1.194876</td>\n",
       "      <td>1.221204</td>\n",
       "      <td>1.118054</td>\n",
       "      <td>1.360416</td>\n",
       "      <td>1.555725</td>\n",
       "      <td>1.748563</td>\n",
       "      <td>0.639337</td>\n",
       "    </tr>\n",
       "    <tr>\n",
       "      <th>...</th>\n",
       "      <td>...</td>\n",
       "      <td>...</td>\n",
       "      <td>...</td>\n",
       "      <td>...</td>\n",
       "      <td>...</td>\n",
       "      <td>...</td>\n",
       "      <td>...</td>\n",
       "      <td>...</td>\n",
       "      <td>...</td>\n",
       "      <td>...</td>\n",
       "      <td>...</td>\n",
       "      <td>...</td>\n",
       "    </tr>\n",
       "    <tr>\n",
       "      <th>153</th>\n",
       "      <td>0.866043</td>\n",
       "      <td>0.965117</td>\n",
       "      <td>1.633576</td>\n",
       "      <td>1.674055</td>\n",
       "      <td>0.774917</td>\n",
       "      <td>1.552987</td>\n",
       "      <td>0.800520</td>\n",
       "      <td>0.818610</td>\n",
       "      <td>1.087740</td>\n",
       "      <td>3.413922</td>\n",
       "      <td>0.087228</td>\n",
       "      <td>2.588925</td>\n",
       "    </tr>\n",
       "    <tr>\n",
       "      <th>154</th>\n",
       "      <td>1.436096</td>\n",
       "      <td>0.965117</td>\n",
       "      <td>1.655501</td>\n",
       "      <td>1.783571</td>\n",
       "      <td>0.662582</td>\n",
       "      <td>1.392303</td>\n",
       "      <td>2.346860</td>\n",
       "      <td>1.263362</td>\n",
       "      <td>0.372033</td>\n",
       "      <td>0.529210</td>\n",
       "      <td>0.433117</td>\n",
       "      <td>0.843967</td>\n",
       "    </tr>\n",
       "    <tr>\n",
       "      <th>155</th>\n",
       "      <td>1.260695</td>\n",
       "      <td>0.375441</td>\n",
       "      <td>1.677427</td>\n",
       "      <td>2.076199</td>\n",
       "      <td>0.132534</td>\n",
       "      <td>0.455245</td>\n",
       "      <td>1.901086</td>\n",
       "      <td>0.372199</td>\n",
       "      <td>1.809238</td>\n",
       "      <td>0.381419</td>\n",
       "      <td>1.856891</td>\n",
       "      <td>3.208430</td>\n",
       "    </tr>\n",
       "    <tr>\n",
       "      <th>156</th>\n",
       "      <td>1.260695</td>\n",
       "      <td>0.965117</td>\n",
       "      <td>1.699352</td>\n",
       "      <td>2.164688</td>\n",
       "      <td>2.263962</td>\n",
       "      <td>2.067566</td>\n",
       "      <td>2.118467</td>\n",
       "      <td>1.649648</td>\n",
       "      <td>2.064472</td>\n",
       "      <td>0.357715</td>\n",
       "      <td>0.316950</td>\n",
       "      <td>0.481985</td>\n",
       "    </tr>\n",
       "    <tr>\n",
       "      <th>157</th>\n",
       "      <td>1.370321</td>\n",
       "      <td>0.965117</td>\n",
       "      <td>1.721277</td>\n",
       "      <td>2.222513</td>\n",
       "      <td>1.134182</td>\n",
       "      <td>1.586334</td>\n",
       "      <td>3.134725</td>\n",
       "      <td>1.404129</td>\n",
       "      <td>0.426621</td>\n",
       "      <td>0.301803</td>\n",
       "      <td>0.558153</td>\n",
       "      <td>0.963612</td>\n",
       "    </tr>\n",
       "  </tbody>\n",
       "</table>\n",
       "<p>158 rows × 12 columns</p>\n",
       "</div>"
      ],
      "text/plain": [
       "      Country    Region  Happiness Rank  Happiness Score  Standard Error  \\\n",
       "0    1.238770  1.300256        1.721000         1.937360        0.805926   \n",
       "1    0.449465  1.300256        1.699075         1.914581        0.055889   \n",
       "2    0.909893  1.300256        1.677149         1.884792        0.854487   \n",
       "3    0.581016  1.300256        1.655224         1.880411        0.531526   \n",
       "4    1.194920  0.040302        1.633299         1.797179        0.722845   \n",
       "..        ...       ...             ...              ...             ...   \n",
       "153  0.866043  0.965117        1.633576         1.674055        0.774917   \n",
       "154  1.436096  0.965117        1.655501         1.783571        0.662582   \n",
       "155  1.260695  0.375441        1.677427         2.076199        0.132534   \n",
       "156  1.260695  0.965117        1.699352         2.164688        2.263962   \n",
       "157  1.370321  0.965117        1.721277         2.222513        1.134182   \n",
       "\n",
       "     Economy (GDP per Capita)    Family  Health (Life Expectancy)   Freedom  \\\n",
       "0                    1.369621  1.320281                  1.263408  1.577438   \n",
       "1                    1.135226  1.514458                  1.289434  1.332456   \n",
       "2                    1.192861  1.361054                  0.992229  1.469659   \n",
       "3                    1.525130  1.251922                  1.035145  1.605131   \n",
       "4                    1.194876  1.221204                  1.118054  1.360416   \n",
       "..                        ...       ...                       ...       ...   \n",
       "153                  1.552987  0.800520                  0.818610  1.087740   \n",
       "154                  1.392303  2.346860                  1.263362  0.372033   \n",
       "155                  0.455245  1.901086                  0.372199  1.809238   \n",
       "156                  2.067566  2.118467                  1.649648  2.064472   \n",
       "157                  1.586334  3.134725                  1.404129  0.426621   \n",
       "\n",
       "     Trust (Government Corruption)  Generosity  Dystopia Residual  \n",
       "0                         2.309652    0.471040           0.758258  \n",
       "1                         0.016480    1.575856           1.092857  \n",
       "2                         2.842774    0.824293           0.712335  \n",
       "3                         1.852081    0.868638           0.663893  \n",
       "4                         1.555725    1.748563           0.639337  \n",
       "..                             ...         ...                ...  \n",
       "153                       3.413922    0.087228           2.588925  \n",
       "154                       0.529210    0.433117           0.843967  \n",
       "155                       0.381419    1.856891           3.208430  \n",
       "156                       0.357715    0.316950           0.481985  \n",
       "157                       0.301803    0.558153           0.963612  \n",
       "\n",
       "[158 rows x 12 columns]"
      ]
     },
     "execution_count": 44,
     "metadata": {},
     "output_type": "execute_result"
    }
   ],
   "source": [
    "z=np.abs(zscore(WHR))\n",
    "z"
   ]
  },
  {
   "cell_type": "code",
   "execution_count": 45,
   "id": "1cf4ad85",
   "metadata": {},
   "outputs": [
    {
     "name": "stdout",
     "output_type": "stream",
     "text": [
      "(array([ 27,  40,  64, 115, 128, 147, 153, 155, 157], dtype=int64), array([ 9,  4,  4,  4, 10,  6,  9, 11,  6], dtype=int64))\n"
     ]
    }
   ],
   "source": [
    "print(np.where(z>3))"
   ]
  },
  {
   "cell_type": "code",
   "execution_count": 46,
   "id": "e6808c6f",
   "metadata": {},
   "outputs": [
    {
     "data": {
      "text/html": [
       "<div>\n",
       "<style scoped>\n",
       "    .dataframe tbody tr th:only-of-type {\n",
       "        vertical-align: middle;\n",
       "    }\n",
       "\n",
       "    .dataframe tbody tr th {\n",
       "        vertical-align: top;\n",
       "    }\n",
       "\n",
       "    .dataframe thead th {\n",
       "        text-align: right;\n",
       "    }\n",
       "</style>\n",
       "<table border=\"1\" class=\"dataframe\">\n",
       "  <thead>\n",
       "    <tr style=\"text-align: right;\">\n",
       "      <th></th>\n",
       "      <th>Country</th>\n",
       "      <th>Region</th>\n",
       "      <th>Happiness Rank</th>\n",
       "      <th>Happiness Score</th>\n",
       "      <th>Standard Error</th>\n",
       "      <th>Economy (GDP per Capita)</th>\n",
       "      <th>Family</th>\n",
       "      <th>Health (Life Expectancy)</th>\n",
       "      <th>Freedom</th>\n",
       "      <th>Trust (Government Corruption)</th>\n",
       "      <th>Generosity</th>\n",
       "      <th>Dystopia Residual</th>\n",
       "    </tr>\n",
       "  </thead>\n",
       "  <tbody>\n",
       "    <tr>\n",
       "      <th>0</th>\n",
       "      <td>135</td>\n",
       "      <td>9</td>\n",
       "      <td>1</td>\n",
       "      <td>7.587</td>\n",
       "      <td>0.03411</td>\n",
       "      <td>1.39651</td>\n",
       "      <td>1.34951</td>\n",
       "      <td>0.94143</td>\n",
       "      <td>0.66557</td>\n",
       "      <td>0.41978</td>\n",
       "      <td>0.29678</td>\n",
       "      <td>2.51738</td>\n",
       "    </tr>\n",
       "    <tr>\n",
       "      <th>1</th>\n",
       "      <td>58</td>\n",
       "      <td>9</td>\n",
       "      <td>2</td>\n",
       "      <td>7.561</td>\n",
       "      <td>0.04884</td>\n",
       "      <td>1.30232</td>\n",
       "      <td>1.40223</td>\n",
       "      <td>0.94784</td>\n",
       "      <td>0.62877</td>\n",
       "      <td>0.14145</td>\n",
       "      <td>0.43630</td>\n",
       "      <td>2.70201</td>\n",
       "    </tr>\n",
       "    <tr>\n",
       "      <th>2</th>\n",
       "      <td>37</td>\n",
       "      <td>9</td>\n",
       "      <td>3</td>\n",
       "      <td>7.527</td>\n",
       "      <td>0.03328</td>\n",
       "      <td>1.32548</td>\n",
       "      <td>1.36058</td>\n",
       "      <td>0.87464</td>\n",
       "      <td>0.64938</td>\n",
       "      <td>0.48357</td>\n",
       "      <td>0.34139</td>\n",
       "      <td>2.49204</td>\n",
       "    </tr>\n",
       "    <tr>\n",
       "      <th>3</th>\n",
       "      <td>105</td>\n",
       "      <td>9</td>\n",
       "      <td>4</td>\n",
       "      <td>7.522</td>\n",
       "      <td>0.03880</td>\n",
       "      <td>1.45900</td>\n",
       "      <td>1.33095</td>\n",
       "      <td>0.88521</td>\n",
       "      <td>0.66973</td>\n",
       "      <td>0.36503</td>\n",
       "      <td>0.34699</td>\n",
       "      <td>2.46531</td>\n",
       "    </tr>\n",
       "    <tr>\n",
       "      <th>4</th>\n",
       "      <td>24</td>\n",
       "      <td>5</td>\n",
       "      <td>5</td>\n",
       "      <td>7.427</td>\n",
       "      <td>0.03553</td>\n",
       "      <td>1.32629</td>\n",
       "      <td>1.32261</td>\n",
       "      <td>0.90563</td>\n",
       "      <td>0.63297</td>\n",
       "      <td>0.32957</td>\n",
       "      <td>0.45811</td>\n",
       "      <td>2.45176</td>\n",
       "    </tr>\n",
       "    <tr>\n",
       "      <th>...</th>\n",
       "      <td>...</td>\n",
       "      <td>...</td>\n",
       "      <td>...</td>\n",
       "      <td>...</td>\n",
       "      <td>...</td>\n",
       "      <td>...</td>\n",
       "      <td>...</td>\n",
       "      <td>...</td>\n",
       "      <td>...</td>\n",
       "      <td>...</td>\n",
       "      <td>...</td>\n",
       "      <td>...</td>\n",
       "    </tr>\n",
       "    <tr>\n",
       "      <th>150</th>\n",
       "      <td>66</td>\n",
       "      <td>8</td>\n",
       "      <td>151</td>\n",
       "      <td>3.655</td>\n",
       "      <td>0.05141</td>\n",
       "      <td>0.46534</td>\n",
       "      <td>0.77115</td>\n",
       "      <td>0.15185</td>\n",
       "      <td>0.46866</td>\n",
       "      <td>0.17922</td>\n",
       "      <td>0.20165</td>\n",
       "      <td>1.41723</td>\n",
       "    </tr>\n",
       "    <tr>\n",
       "      <th>151</th>\n",
       "      <td>20</td>\n",
       "      <td>8</td>\n",
       "      <td>152</td>\n",
       "      <td>3.587</td>\n",
       "      <td>0.04324</td>\n",
       "      <td>0.25812</td>\n",
       "      <td>0.85188</td>\n",
       "      <td>0.27125</td>\n",
       "      <td>0.39493</td>\n",
       "      <td>0.12832</td>\n",
       "      <td>0.21747</td>\n",
       "      <td>1.46494</td>\n",
       "    </tr>\n",
       "    <tr>\n",
       "      <th>152</th>\n",
       "      <td>0</td>\n",
       "      <td>7</td>\n",
       "      <td>153</td>\n",
       "      <td>3.575</td>\n",
       "      <td>0.03084</td>\n",
       "      <td>0.31982</td>\n",
       "      <td>0.30285</td>\n",
       "      <td>0.30335</td>\n",
       "      <td>0.23414</td>\n",
       "      <td>0.09719</td>\n",
       "      <td>0.36510</td>\n",
       "      <td>1.95210</td>\n",
       "    </tr>\n",
       "    <tr>\n",
       "      <th>154</th>\n",
       "      <td>13</td>\n",
       "      <td>8</td>\n",
       "      <td>155</td>\n",
       "      <td>3.340</td>\n",
       "      <td>0.03656</td>\n",
       "      <td>0.28665</td>\n",
       "      <td>0.35386</td>\n",
       "      <td>0.31910</td>\n",
       "      <td>0.48450</td>\n",
       "      <td>0.08010</td>\n",
       "      <td>0.18260</td>\n",
       "      <td>1.63328</td>\n",
       "    </tr>\n",
       "    <tr>\n",
       "      <th>156</th>\n",
       "      <td>21</td>\n",
       "      <td>8</td>\n",
       "      <td>157</td>\n",
       "      <td>2.905</td>\n",
       "      <td>0.08658</td>\n",
       "      <td>0.01530</td>\n",
       "      <td>0.41587</td>\n",
       "      <td>0.22396</td>\n",
       "      <td>0.11850</td>\n",
       "      <td>0.10062</td>\n",
       "      <td>0.19727</td>\n",
       "      <td>1.83302</td>\n",
       "    </tr>\n",
       "  </tbody>\n",
       "</table>\n",
       "<p>149 rows × 12 columns</p>\n",
       "</div>"
      ],
      "text/plain": [
       "     Country  Region  Happiness Rank  Happiness Score  Standard Error  \\\n",
       "0        135       9               1            7.587         0.03411   \n",
       "1         58       9               2            7.561         0.04884   \n",
       "2         37       9               3            7.527         0.03328   \n",
       "3        105       9               4            7.522         0.03880   \n",
       "4         24       5               5            7.427         0.03553   \n",
       "..       ...     ...             ...              ...             ...   \n",
       "150       66       8             151            3.655         0.05141   \n",
       "151       20       8             152            3.587         0.04324   \n",
       "152        0       7             153            3.575         0.03084   \n",
       "154       13       8             155            3.340         0.03656   \n",
       "156       21       8             157            2.905         0.08658   \n",
       "\n",
       "     Economy (GDP per Capita)   Family  Health (Life Expectancy)  Freedom  \\\n",
       "0                     1.39651  1.34951                   0.94143  0.66557   \n",
       "1                     1.30232  1.40223                   0.94784  0.62877   \n",
       "2                     1.32548  1.36058                   0.87464  0.64938   \n",
       "3                     1.45900  1.33095                   0.88521  0.66973   \n",
       "4                     1.32629  1.32261                   0.90563  0.63297   \n",
       "..                        ...      ...                       ...      ...   \n",
       "150                   0.46534  0.77115                   0.15185  0.46866   \n",
       "151                   0.25812  0.85188                   0.27125  0.39493   \n",
       "152                   0.31982  0.30285                   0.30335  0.23414   \n",
       "154                   0.28665  0.35386                   0.31910  0.48450   \n",
       "156                   0.01530  0.41587                   0.22396  0.11850   \n",
       "\n",
       "     Trust (Government Corruption)  Generosity  Dystopia Residual  \n",
       "0                          0.41978     0.29678            2.51738  \n",
       "1                          0.14145     0.43630            2.70201  \n",
       "2                          0.48357     0.34139            2.49204  \n",
       "3                          0.36503     0.34699            2.46531  \n",
       "4                          0.32957     0.45811            2.45176  \n",
       "..                             ...         ...                ...  \n",
       "150                        0.17922     0.20165            1.41723  \n",
       "151                        0.12832     0.21747            1.46494  \n",
       "152                        0.09719     0.36510            1.95210  \n",
       "154                        0.08010     0.18260            1.63328  \n",
       "156                        0.10062     0.19727            1.83302  \n",
       "\n",
       "[149 rows x 12 columns]"
      ]
     },
     "execution_count": 46,
     "metadata": {},
     "output_type": "execute_result"
    }
   ],
   "source": [
    "WHR_new=WHR[(z<3).all(axis=1)]\n",
    "WHR_new"
   ]
  },
  {
   "cell_type": "code",
   "execution_count": 47,
   "id": "f8873f7c",
   "metadata": {},
   "outputs": [
    {
     "data": {
      "text/plain": [
       "(149, 12)"
      ]
     },
     "execution_count": 47,
     "metadata": {},
     "output_type": "execute_result"
    }
   ],
   "source": [
    "WHR_new.shape"
   ]
  },
  {
   "cell_type": "code",
   "execution_count": 48,
   "id": "33ced806",
   "metadata": {},
   "outputs": [
    {
     "data": {
      "text/plain": [
       "Country                          0.048701\n",
       "Region                          -0.096985\n",
       "Happiness Rank                   0.003268\n",
       "Happiness Score                  0.169740\n",
       "Standard Error                   1.243048\n",
       "Economy (GDP per Capita)        -0.390657\n",
       "Family                          -0.811340\n",
       "Health (Life Expectancy)        -0.747711\n",
       "Freedom                         -0.400867\n",
       "Trust (Government Corruption)    1.272530\n",
       "Generosity                       0.654710\n",
       "Dystopia Residual               -0.021144\n",
       "dtype: float64"
      ]
     },
     "execution_count": 48,
     "metadata": {},
     "output_type": "execute_result"
    }
   ],
   "source": [
    "WHR_new.skew()"
   ]
  },
  {
   "cell_type": "code",
   "execution_count": 49,
   "id": "ba9fe543",
   "metadata": {},
   "outputs": [],
   "source": [
    "#We treat attributes wherever skewness is more than 0.5 whether positive or negative.In our case, the skewness is greater than 0.5 in standard error,family,health(life expectancy),trust(government corruption) and generosity. We shall use power transform methodology to treat the skewness.\n",
    "\n",
    "WHR_new[\"Standard Error\"]=power_transform(WHR_new[\"Standard Error\"].values.reshape(-1,1))"
   ]
  },
  {
   "cell_type": "code",
   "execution_count": 50,
   "id": "ce211238",
   "metadata": {},
   "outputs": [],
   "source": [
    "WHR_new[\"Family\"]=power_transform(WHR_new[\"Family\"].values.reshape(-1,1))"
   ]
  },
  {
   "cell_type": "code",
   "execution_count": 51,
   "id": "d57e03d9",
   "metadata": {},
   "outputs": [],
   "source": [
    "WHR_new[\"Health (Life Expectancy)\"]=power_transform(WHR_new[\"Health (Life Expectancy)\"].values.reshape(-1,1))"
   ]
  },
  {
   "cell_type": "code",
   "execution_count": 52,
   "id": "d8dac851",
   "metadata": {},
   "outputs": [],
   "source": [
    "WHR_new[\"Trust (Government Corruption)\"]=power_transform(WHR_new[\"Trust (Government Corruption)\"].values.reshape(-1,1))"
   ]
  },
  {
   "cell_type": "code",
   "execution_count": 53,
   "id": "fce1ab3b",
   "metadata": {},
   "outputs": [],
   "source": [
    "WHR_new[\"Generosity\"]=power_transform(WHR_new[\"Generosity\"].values.reshape(-1,1))"
   ]
  },
  {
   "cell_type": "code",
   "execution_count": 54,
   "id": "d33c6fc5",
   "metadata": {},
   "outputs": [
    {
     "data": {
      "text/plain": [
       "Country                          0.048701\n",
       "Region                          -0.096985\n",
       "Happiness Rank                   0.003268\n",
       "Happiness Score                  0.169740\n",
       "Standard Error                  -0.031216\n",
       "Economy (GDP per Capita)        -0.390657\n",
       "Family                          -0.148528\n",
       "Health (Life Expectancy)        -0.190663\n",
       "Freedom                         -0.400867\n",
       "Trust (Government Corruption)    0.174593\n",
       "Generosity                       0.025172\n",
       "Dystopia Residual               -0.021144\n",
       "dtype: float64"
      ]
     },
     "execution_count": 54,
     "metadata": {},
     "output_type": "execute_result"
    }
   ],
   "source": [
    "WHR_new.skew()\n",
    "#This shows that we have removed the skewness as the values are less than 0.5 either negative or positive.\n",
    "#We have taken care of the positive or negative skewness below."
   ]
  },
  {
   "cell_type": "code",
   "execution_count": 55,
   "id": "30715cd3",
   "metadata": {},
   "outputs": [
    {
     "data": {
      "text/plain": [
       "Happiness Score                  1.000000\n",
       "Economy (GDP per Capita)         0.773577\n",
       "Health (Life Expectancy)         0.756464\n",
       "Family                           0.753635\n",
       "Freedom                          0.585066\n",
       "Dystopia Residual                0.528334\n",
       "Trust (Government Corruption)    0.404730\n",
       "Generosity                       0.231255\n",
       "Country                          0.120109\n",
       "Region                          -0.145850\n",
       "Standard Error                  -0.239566\n",
       "Happiness Rank                  -0.992921\n",
       "Name: Happiness Score, dtype: float64"
      ]
     },
     "execution_count": 55,
     "metadata": {},
     "output_type": "execute_result"
    }
   ],
   "source": [
    "#Now lets check the correlation between the independent and the dependent variables using heatmap.\n",
    "\n",
    "WHR_new_corr=WHR_new.corr()\n",
    "WHR_new_corr[\"Happiness Score\"].sort_values(ascending=False)\n",
    "#Since the independent variables have  decent correlations with the independent variable we will keep all of them."
   ]
  },
  {
   "cell_type": "code",
   "execution_count": 57,
   "id": "f0955fe5",
   "metadata": {},
   "outputs": [],
   "source": [
    "#Lets start with Machine Learning Lets separate the dependent variables from the dependent variables. Lets take x as independent variables and y as dependent variable\n",
    "\n",
    "#x=WHR_new.drop(\"Happiness Score\",axis=1) x"
   ]
  },
  {
   "cell_type": "code",
   "execution_count": 58,
   "id": "9f387fa9",
   "metadata": {},
   "outputs": [
    {
     "data": {
      "text/html": [
       "<div>\n",
       "<style scoped>\n",
       "    .dataframe tbody tr th:only-of-type {\n",
       "        vertical-align: middle;\n",
       "    }\n",
       "\n",
       "    .dataframe tbody tr th {\n",
       "        vertical-align: top;\n",
       "    }\n",
       "\n",
       "    .dataframe thead th {\n",
       "        text-align: right;\n",
       "    }\n",
       "</style>\n",
       "<table border=\"1\" class=\"dataframe\">\n",
       "  <thead>\n",
       "    <tr style=\"text-align: right;\">\n",
       "      <th></th>\n",
       "      <th>Country</th>\n",
       "      <th>Region</th>\n",
       "      <th>Happiness Rank</th>\n",
       "      <th>Happiness Score</th>\n",
       "      <th>Standard Error</th>\n",
       "      <th>Economy (GDP per Capita)</th>\n",
       "      <th>Family</th>\n",
       "      <th>Health (Life Expectancy)</th>\n",
       "      <th>Freedom</th>\n",
       "      <th>Trust (Government Corruption)</th>\n",
       "      <th>Generosity</th>\n",
       "    </tr>\n",
       "  </thead>\n",
       "  <tbody>\n",
       "    <tr>\n",
       "      <th>0</th>\n",
       "      <td>135</td>\n",
       "      <td>9</td>\n",
       "      <td>1</td>\n",
       "      <td>7.587</td>\n",
       "      <td>-0.950337</td>\n",
       "      <td>1.39651</td>\n",
       "      <td>1.658880</td>\n",
       "      <td>1.469636</td>\n",
       "      <td>0.66557</td>\n",
       "      <td>1.817625</td>\n",
       "      <td>0.659579</td>\n",
       "    </tr>\n",
       "    <tr>\n",
       "      <th>1</th>\n",
       "      <td>58</td>\n",
       "      <td>9</td>\n",
       "      <td>2</td>\n",
       "      <td>7.561</td>\n",
       "      <td>0.378562</td>\n",
       "      <td>1.30232</td>\n",
       "      <td>2.009125</td>\n",
       "      <td>1.511292</td>\n",
       "      <td>0.62877</td>\n",
       "      <td>0.329676</td>\n",
       "      <td>1.562604</td>\n",
       "    </tr>\n",
       "    <tr>\n",
       "      <th>2</th>\n",
       "      <td>37</td>\n",
       "      <td>9</td>\n",
       "      <td>3</td>\n",
       "      <td>7.527</td>\n",
       "      <td>-1.041401</td>\n",
       "      <td>1.32548</td>\n",
       "      <td>1.730785</td>\n",
       "      <td>1.053469</td>\n",
       "      <td>0.64938</td>\n",
       "      <td>1.953400</td>\n",
       "      <td>0.977226</td>\n",
       "    </tr>\n",
       "    <tr>\n",
       "      <th>3</th>\n",
       "      <td>105</td>\n",
       "      <td>9</td>\n",
       "      <td>4</td>\n",
       "      <td>7.522</td>\n",
       "      <td>-0.471124</td>\n",
       "      <td>1.45900</td>\n",
       "      <td>1.540248</td>\n",
       "      <td>1.117188</td>\n",
       "      <td>0.66973</td>\n",
       "      <td>1.664359</td>\n",
       "      <td>1.015018</td>\n",
       "    </tr>\n",
       "    <tr>\n",
       "      <th>4</th>\n",
       "      <td>24</td>\n",
       "      <td>5</td>\n",
       "      <td>5</td>\n",
       "      <td>7.427</td>\n",
       "      <td>-0.799032</td>\n",
       "      <td>1.32629</td>\n",
       "      <td>1.487718</td>\n",
       "      <td>1.242549</td>\n",
       "      <td>0.63297</td>\n",
       "      <td>1.541247</td>\n",
       "      <td>1.682150</td>\n",
       "    </tr>\n",
       "    <tr>\n",
       "      <th>...</th>\n",
       "      <td>...</td>\n",
       "      <td>...</td>\n",
       "      <td>...</td>\n",
       "      <td>...</td>\n",
       "      <td>...</td>\n",
       "      <td>...</td>\n",
       "      <td>...</td>\n",
       "      <td>...</td>\n",
       "      <td>...</td>\n",
       "      <td>...</td>\n",
       "      <td>...</td>\n",
       "    </tr>\n",
       "    <tr>\n",
       "      <th>150</th>\n",
       "      <td>66</td>\n",
       "      <td>8</td>\n",
       "      <td>151</td>\n",
       "      <td>3.655</td>\n",
       "      <td>0.563000</td>\n",
       "      <td>0.46534</td>\n",
       "      <td>-1.047195</td>\n",
       "      <td>-1.707662</td>\n",
       "      <td>0.46866</td>\n",
       "      <td>0.681035</td>\n",
       "      <td>-0.131736</td>\n",
       "    </tr>\n",
       "    <tr>\n",
       "      <th>151</th>\n",
       "      <td>20</td>\n",
       "      <td>8</td>\n",
       "      <td>152</td>\n",
       "      <td>3.587</td>\n",
       "      <td>-0.068119</td>\n",
       "      <td>0.25812</td>\n",
       "      <td>-0.778550</td>\n",
       "      <td>-1.435893</td>\n",
       "      <td>0.39493</td>\n",
       "      <td>0.188577</td>\n",
       "      <td>0.012019</td>\n",
       "    </tr>\n",
       "    <tr>\n",
       "      <th>152</th>\n",
       "      <td>0</td>\n",
       "      <td>7</td>\n",
       "      <td>153</td>\n",
       "      <td>3.575</td>\n",
       "      <td>-1.320810</td>\n",
       "      <td>0.31982</td>\n",
       "      <td>-2.087389</td>\n",
       "      <td>-1.352388</td>\n",
       "      <td>0.23414</td>\n",
       "      <td>-0.192843</td>\n",
       "      <td>1.134258</td>\n",
       "    </tr>\n",
       "    <tr>\n",
       "      <th>154</th>\n",
       "      <td>13</td>\n",
       "      <td>8</td>\n",
       "      <td>155</td>\n",
       "      <td>3.340</td>\n",
       "      <td>-0.692726</td>\n",
       "      <td>0.28665</td>\n",
       "      <td>-2.010443</td>\n",
       "      <td>-1.309709</td>\n",
       "      <td>0.48450</td>\n",
       "      <td>-0.434498</td>\n",
       "      <td>-0.312080</td>\n",
       "    </tr>\n",
       "    <tr>\n",
       "      <th>156</th>\n",
       "      <td>21</td>\n",
       "      <td>8</td>\n",
       "      <td>157</td>\n",
       "      <td>2.905</td>\n",
       "      <td>2.178766</td>\n",
       "      <td>0.01530</td>\n",
       "      <td>-1.906410</td>\n",
       "      <td>-1.550663</td>\n",
       "      <td>0.11850</td>\n",
       "      <td>-0.147274</td>\n",
       "      <td>-0.172486</td>\n",
       "    </tr>\n",
       "  </tbody>\n",
       "</table>\n",
       "<p>149 rows × 11 columns</p>\n",
       "</div>"
      ],
      "text/plain": [
       "     Country  Region  Happiness Rank  Happiness Score  Standard Error  \\\n",
       "0        135       9               1            7.587       -0.950337   \n",
       "1         58       9               2            7.561        0.378562   \n",
       "2         37       9               3            7.527       -1.041401   \n",
       "3        105       9               4            7.522       -0.471124   \n",
       "4         24       5               5            7.427       -0.799032   \n",
       "..       ...     ...             ...              ...             ...   \n",
       "150       66       8             151            3.655        0.563000   \n",
       "151       20       8             152            3.587       -0.068119   \n",
       "152        0       7             153            3.575       -1.320810   \n",
       "154       13       8             155            3.340       -0.692726   \n",
       "156       21       8             157            2.905        2.178766   \n",
       "\n",
       "     Economy (GDP per Capita)    Family  Health (Life Expectancy)  Freedom  \\\n",
       "0                     1.39651  1.658880                  1.469636  0.66557   \n",
       "1                     1.30232  2.009125                  1.511292  0.62877   \n",
       "2                     1.32548  1.730785                  1.053469  0.64938   \n",
       "3                     1.45900  1.540248                  1.117188  0.66973   \n",
       "4                     1.32629  1.487718                  1.242549  0.63297   \n",
       "..                        ...       ...                       ...      ...   \n",
       "150                   0.46534 -1.047195                 -1.707662  0.46866   \n",
       "151                   0.25812 -0.778550                 -1.435893  0.39493   \n",
       "152                   0.31982 -2.087389                 -1.352388  0.23414   \n",
       "154                   0.28665 -2.010443                 -1.309709  0.48450   \n",
       "156                   0.01530 -1.906410                 -1.550663  0.11850   \n",
       "\n",
       "     Trust (Government Corruption)  Generosity  \n",
       "0                         1.817625    0.659579  \n",
       "1                         0.329676    1.562604  \n",
       "2                         1.953400    0.977226  \n",
       "3                         1.664359    1.015018  \n",
       "4                         1.541247    1.682150  \n",
       "..                             ...         ...  \n",
       "150                       0.681035   -0.131736  \n",
       "151                       0.188577    0.012019  \n",
       "152                      -0.192843    1.134258  \n",
       "154                      -0.434498   -0.312080  \n",
       "156                      -0.147274   -0.172486  \n",
       "\n",
       "[149 rows x 11 columns]"
      ]
     },
     "execution_count": 58,
     "metadata": {},
     "output_type": "execute_result"
    }
   ],
   "source": [
    "x=WHR_new.iloc[:,0:-1]\n",
    "x"
   ]
  },
  {
   "cell_type": "code",
   "execution_count": 59,
   "id": "57dbbc98",
   "metadata": {},
   "outputs": [
    {
     "data": {
      "text/plain": [
       "0      7.587\n",
       "1      7.561\n",
       "2      7.527\n",
       "3      7.522\n",
       "4      7.427\n",
       "       ...  \n",
       "150    3.655\n",
       "151    3.587\n",
       "152    3.575\n",
       "154    3.340\n",
       "156    2.905\n",
       "Name: Happiness Score, Length: 149, dtype: float64"
      ]
     },
     "execution_count": 59,
     "metadata": {},
     "output_type": "execute_result"
    }
   ],
   "source": [
    "#y=WHR_new[\"Happiness Score\"] y\n",
    "\n",
    "y=WHR_new.iloc[:,-9]\n",
    "y"
   ]
  },
  {
   "cell_type": "code",
   "execution_count": 60,
   "id": "e5d7d201",
   "metadata": {},
   "outputs": [
    {
     "data": {
      "text/plain": [
       "array([[ 1.26826032,  1.29683671, -1.71390512, ...,  1.58370387,\n",
       "         1.81762514,  0.65957855],\n",
       "       [-0.41741515,  1.29683671, -1.69153548, ...,  1.33895344,\n",
       "         0.32967608,  1.56260401],\n",
       "       [-0.87714482,  1.29683671, -1.66916583, ...,  1.47602698,\n",
       "         1.95339957,  0.97722591],\n",
       "       ...,\n",
       "       [-1.68714472,  0.63509469,  1.68628086, ..., -1.28566246,\n",
       "        -0.19284339,  1.13425805],\n",
       "       [-1.40255016,  0.9659657 ,  1.73102015, ...,  0.37943861,\n",
       "        -0.4344978 , -0.31207994],\n",
       "       [-1.22741505,  0.9659657 ,  1.77575944, ..., -2.0547641 ,\n",
       "        -0.14727363, -0.17248608]])"
      ]
     },
     "execution_count": 60,
     "metadata": {},
     "output_type": "execute_result"
    }
   ],
   "source": [
    "#Lets use Standard Scaler to scale down the x variables\n",
    "\n",
    "S=StandardScaler()\n",
    "x=S.fit_transform(x)\n",
    "x"
   ]
  },
  {
   "cell_type": "code",
   "execution_count": 61,
   "id": "9b0b48c4",
   "metadata": {},
   "outputs": [
    {
     "data": {
      "text/plain": [
       "(149, 11)"
      ]
     },
     "execution_count": 61,
     "metadata": {},
     "output_type": "execute_result"
    }
   ],
   "source": [
    "x.shape"
   ]
  },
  {
   "cell_type": "code",
   "execution_count": 62,
   "id": "0ef3b28e",
   "metadata": {},
   "outputs": [
    {
     "data": {
      "text/plain": [
       "(149,)"
      ]
     },
     "execution_count": 62,
     "metadata": {},
     "output_type": "execute_result"
    }
   ],
   "source": [
    "y.shape"
   ]
  },
  {
   "cell_type": "code",
   "execution_count": 63,
   "id": "e900dcab",
   "metadata": {},
   "outputs": [
    {
     "name": "stdout",
     "output_type": "stream",
     "text": [
      "(104, 11)\n",
      "(45, 11)\n",
      "(104,)\n",
      "(45,)\n"
     ]
    }
   ],
   "source": [
    "x_train,x_test,y_train,y_test=train_test_split(x,y,test_size=0.3,random_state=42)\n",
    "print(x_train.shape)\n",
    "print(x_test.shape)\n",
    "print(y_train.shape)\n",
    "print(y_test.shape)"
   ]
  },
  {
   "cell_type": "code",
   "execution_count": 64,
   "id": "069af3a1",
   "metadata": {},
   "outputs": [
    {
     "name": "stdout",
     "output_type": "stream",
     "text": [
      "[-3.73257004e-16 -9.17649759e-16  8.77858566e-16  1.10752090e+00\n",
      " -1.42611941e-17  7.85594838e-17  8.76970750e-17  6.72626536e-17\n",
      "  3.43715000e-16 -1.49091134e-16 -3.21666375e-16]\n",
      "5.429610738255034\n",
      "1.0\n",
      "The predicted Happiness Score [5.286 6.937 4.512 5.192 5.212 6.477 5.605 3.781 5.474 5.124 4.642 7.2\n",
      " 6.298 7.284 6.901 5.813 3.904 5.429 5.824 4.033 6.505 4.332 6.67  4.252\n",
      " 4.218 3.655 4.633 4.788 5.975 6.485 6.81  6.983 5.589 7.226 5.995 4.694\n",
      " 5.855 6.575 7.427 6.455 4.419 5.098 5.073 6.946 7.278]\n",
      "The actual Happiness Score 76     5.286\n",
      "18     6.937\n",
      "121    4.512\n",
      "81     5.192\n",
      "79     5.212\n",
      "32     6.477\n",
      "67     5.605\n",
      "145    3.781\n",
      "71     5.474\n",
      "85     5.124\n",
      "112    4.642\n",
      "12     7.200\n",
      "37     6.298\n",
      "9      7.284\n",
      "19     6.901\n",
      "58     5.813\n",
      "141    3.904\n",
      "72     5.429\n",
      "57     5.824\n",
      "136    4.033\n",
      "30     6.505\n",
      "127    4.332\n",
      "26     6.670\n",
      "132    4.252\n",
      "133    4.218\n",
      "150    3.655\n",
      "113    4.633\n",
      "104    4.788\n",
      "47     5.975\n",
      "31     6.485\n",
      "22     6.810\n",
      "15     6.983\n",
      "68     5.589\n",
      "11     7.226\n",
      "44     5.995\n",
      "108    4.694\n",
      "53     5.855\n",
      "28     6.575\n",
      "4      7.427\n",
      "33     6.455\n",
      "124    4.419\n",
      "88     5.098\n",
      "89     5.073\n",
      "16     6.946\n",
      "10     7.278\n",
      "Name: Happiness Score, dtype: float64\n",
      "1.0\n",
      "[1. 1. 1. 1. 1.]\n",
      "1.0\n",
      "0.0\n"
     ]
    }
   ],
   "source": [
    "#Lets use four different algorithms to check the score. We shall be using the following algorithms: 1)Linear Regression 2)Decision Tree 3)Laso 4)Ridge\n",
    "\n",
    "#1) Linear Regression Algorithm\n",
    "\n",
    "lm=LinearRegression()\n",
    "lm.fit(x_train,y_train)\n",
    "print(lm.coef_)\n",
    "print(lm.intercept_)\n",
    "print(lm.score(x_train,y_train))\n",
    "#predict y values\n",
    "pred1=lm.predict(x_test)\n",
    "print(\"The predicted Happiness Score\",pred1)\n",
    "print(\"The actual Happiness Score\",y_test)\n",
    "print(r2_score(y_test,pred1))\n",
    "score1=cross_val_score(lm,x,y,cv=5)\n",
    "print(score1)\n",
    "print(score1.mean())\n",
    "print(score1.std())"
   ]
  },
  {
   "cell_type": "code",
   "execution_count": 65,
   "id": "3cb809af",
   "metadata": {},
   "outputs": [
    {
     "name": "stdout",
     "output_type": "stream",
     "text": [
      "1.0\n",
      "The predicted Happiness Score [5.332 6.867 4.517 5.192 5.268 6.295 5.695 3.819 5.477 5.102 4.61  7.406\n",
      " 6.295 7.286 6.867 5.828 3.989 5.399 5.828 3.989 6.75  4.35  6.75  4.271\n",
      " 4.194 3.667 4.61  4.8   5.96  6.75  6.574 7.187 5.548 7.119 5.984 4.61\n",
      " 5.889 6.75  7.286 6.302 4.436 5.123 5.129 6.867 7.286]\n",
      "the actual Happiness Score 76     5.286\n",
      "18     6.937\n",
      "121    4.512\n",
      "81     5.192\n",
      "79     5.212\n",
      "32     6.477\n",
      "67     5.605\n",
      "145    3.781\n",
      "71     5.474\n",
      "85     5.124\n",
      "112    4.642\n",
      "12     7.200\n",
      "37     6.298\n",
      "9      7.284\n",
      "19     6.901\n",
      "58     5.813\n",
      "141    3.904\n",
      "72     5.429\n",
      "57     5.824\n",
      "136    4.033\n",
      "30     6.505\n",
      "127    4.332\n",
      "26     6.670\n",
      "132    4.252\n",
      "133    4.218\n",
      "150    3.655\n",
      "113    4.633\n",
      "104    4.788\n",
      "47     5.975\n",
      "31     6.485\n",
      "22     6.810\n",
      "15     6.983\n",
      "68     5.589\n",
      "11     7.226\n",
      "44     5.995\n",
      "108    4.694\n",
      "53     5.855\n",
      "28     6.575\n",
      "4      7.427\n",
      "33     6.455\n",
      "124    4.419\n",
      "88     5.098\n",
      "89     5.073\n",
      "16     6.946\n",
      "10     7.278\n",
      "Name: Happiness Score, dtype: float64\n",
      "0.9916165997051718\n",
      "[-3.5236928  -0.56605737 -0.15851808 -0.41608913 -2.08271262]\n",
      "-1.3494139987285176\n",
      "1.2781385813926678\n"
     ]
    }
   ],
   "source": [
    "#2)Decision Tree\n",
    "dtc=DecisionTreeRegressor()\n",
    "dtc.fit(x_train,y_train)\n",
    "print(dtc.score(x_train,y_train))\n",
    "#predict y values\n",
    "pred2=dtc.predict(x_test)\n",
    "print(\"The predicted Happiness Score\",pred2)\n",
    "print(\"the actual Happiness Score\",y_test)\n",
    "print(r2_score(y_test,pred2))\n",
    "score2=cross_val_score(dtc,x,y,cv=5)\n",
    "print(score2)\n",
    "print(score2.mean())\n",
    "print(score2.std())"
   ]
  },
  {
   "cell_type": "code",
   "execution_count": 66,
   "id": "f6612d7e",
   "metadata": {},
   "outputs": [
    {
     "name": "stdout",
     "output_type": "stream",
     "text": [
      "[ 0.00000000e+00  1.04857186e-04 -7.65496867e-03  1.09977437e+00\n",
      " -6.26167509e-05  0.00000000e+00  0.00000000e+00  0.00000000e+00\n",
      "  0.00000000e+00  1.69999658e-04  0.00000000e+00]\n",
      "5.429574159624149\n",
      "0.9999993426172212\n",
      "The predicted Happiness Score [5.28678347 6.9368145  4.51099001 5.19288988 5.21308674 6.47702033\n",
      " 5.60542065 3.78071908 5.47476294 5.12412516 4.64145317 7.19894512\n",
      " 6.29852603 7.28269118 6.9008331  5.81348613 3.90374645 5.42971222\n",
      " 5.82435287 4.03254995 6.50506085 4.33111365 6.66985418 4.25066978\n",
      " 4.21631896 3.65499176 4.63221186 4.78752912 5.97625994 6.48550855\n",
      " 6.80950114 6.98270543 5.58898731 7.22454654 5.99625212 4.69391157\n",
      " 5.85584376 6.57561758 7.42573691 6.45512591 4.41787042 5.09806155\n",
      " 5.07336463 6.94621645 7.27638085]\n",
      "The predicted Happiness Score 76     5.286\n",
      "18     6.937\n",
      "121    4.512\n",
      "81     5.192\n",
      "79     5.212\n",
      "32     6.477\n",
      "67     5.605\n",
      "145    3.781\n",
      "71     5.474\n",
      "85     5.124\n",
      "112    4.642\n",
      "12     7.200\n",
      "37     6.298\n",
      "9      7.284\n",
      "19     6.901\n",
      "58     5.813\n",
      "141    3.904\n",
      "72     5.429\n",
      "57     5.824\n",
      "136    4.033\n",
      "30     6.505\n",
      "127    4.332\n",
      "26     6.670\n",
      "132    4.252\n",
      "133    4.218\n",
      "150    3.655\n",
      "113    4.633\n",
      "104    4.788\n",
      "47     5.975\n",
      "31     6.485\n",
      "22     6.810\n",
      "15     6.983\n",
      "68     5.589\n",
      "11     7.226\n",
      "44     5.995\n",
      "108    4.694\n",
      "53     5.855\n",
      "28     6.575\n",
      "4      7.427\n",
      "33     6.455\n",
      "124    4.419\n",
      "88     5.098\n",
      "89     5.073\n",
      "16     6.946\n",
      "10     7.278\n",
      "Name: Happiness Score, dtype: float64\n",
      "0.9999994793451426\n",
      "[0.9999258  0.99994434 0.99997744 0.99996818 0.9999924 ]\n",
      "0.9999616322380496\n",
      "2.3760173607183987e-05\n"
     ]
    }
   ],
   "source": [
    "#3) Lasso (It will try to omit the coefficient)\n",
    "ls=Lasso(alpha=0.0001)\n",
    "ls.fit(x_train,y_train)\n",
    "print(ls.coef_)\n",
    "print(ls.intercept_)\n",
    "print(ls.score(x_train,y_train))\n",
    "#predict y\n",
    "pred3=ls.predict(x_test)\n",
    "print(\"The predicted Happiness Score\",pred3)\n",
    "print(\"The predicted Happiness Score\",y_test)\n",
    "print(r2_score(pred3,y_test))\n",
    "score3=cross_val_score(ls,x,y,cv=5)\n",
    "print(score3)\n",
    "print(score3.mean())\n",
    "print(score3.std())"
   ]
  },
  {
   "cell_type": "code",
   "execution_count": 67,
   "id": "2da37c4f",
   "metadata": {},
   "outputs": [
    {
     "name": "stdout",
     "output_type": "stream",
     "text": [
      "[ 7.61034166e-07  1.83228915e-06 -8.22334598e-05  1.10743311e+00\n",
      " -1.27830509e-06  3.12584637e-06  1.09050701e-06  2.19846152e-07\n",
      " -2.71570813e-07  3.36891945e-06  9.14400639e-07]\n",
      "5.429610101001948\n",
      "0.9999999999225538\n",
      "The predicted Happiness Score [5.28600444 6.93699841 4.51198674 5.19200982 5.21201116 6.47699375\n",
      " 5.60500235 3.78099969 5.47401462 5.12399867 4.64199827 7.19998839\n",
      " 6.29800595 7.28398504 6.90100098 5.81300437 3.90400056 5.42900894\n",
      " 5.82400019 4.03299679 6.50499487 4.3319942  6.66999487 4.25198396\n",
      " 4.21798279 3.65500328 4.63298893 4.78799259 5.97500983 6.48500578\n",
      " 6.80998976 6.98299116 5.58899543 7.22597733 5.99501255 4.69399635\n",
      " 5.85500698 6.57500778 7.42698672 6.45500064 4.41898764 5.0980019\n",
      " 5.07300438 6.94600704 7.27797917]\n",
      "The predicted Happiness Score 76     5.286\n",
      "18     6.937\n",
      "121    4.512\n",
      "81     5.192\n",
      "79     5.212\n",
      "32     6.477\n",
      "67     5.605\n",
      "145    3.781\n",
      "71     5.474\n",
      "85     5.124\n",
      "112    4.642\n",
      "12     7.200\n",
      "37     6.298\n",
      "9      7.284\n",
      "19     6.901\n",
      "58     5.813\n",
      "141    3.904\n",
      "72     5.429\n",
      "57     5.824\n",
      "136    4.033\n",
      "30     6.505\n",
      "127    4.332\n",
      "26     6.670\n",
      "132    4.252\n",
      "133    4.218\n",
      "150    3.655\n",
      "113    4.633\n",
      "104    4.788\n",
      "47     5.975\n",
      "31     6.485\n",
      "22     6.810\n",
      "15     6.983\n",
      "68     5.589\n",
      "11     7.226\n",
      "44     5.995\n",
      "108    4.694\n",
      "53     5.855\n",
      "28     6.575\n",
      "4      7.427\n",
      "33     6.455\n",
      "124    4.419\n",
      "88     5.098\n",
      "89     5.073\n",
      "16     6.946\n",
      "10     7.278\n",
      "Name: Happiness Score, dtype: float64\n",
      "0.9999999999259116\n",
      "[0.99999999 1.         1.         1.         1.        ]\n",
      "0.9999999950141361\n",
      "5.059474046984197e-09\n"
     ]
    }
   ],
   "source": [
    "#4) Ridge (It will try to reduce the coefficient gap)\n",
    "rd=Ridge(alpha=0.0001)\n",
    "rd.fit(x_train,y_train)\n",
    "print(rd.coef_)\n",
    "print(rd.intercept_)\n",
    "print(rd.score(x_train,y_train))\n",
    "#predict y\n",
    "pred4=rd.predict(x_test)\n",
    "print(\"The predicted Happiness Score\",pred4)\n",
    "print(\"The predicted Happiness Score\",y_test)\n",
    "print(r2_score(y_test,pred4))\n",
    "score4=cross_val_score(rd,x,y,cv=5)\n",
    "print(score4)\n",
    "print(score4.mean())\n",
    "print(score4.std())"
   ]
  },
  {
   "cell_type": "code",
   "execution_count": 68,
   "id": "15ea46de",
   "metadata": {},
   "outputs": [
    {
     "data": {
      "text/plain": [
       "array([5.286, 6.937, 4.512, 5.192, 5.212, 6.477, 5.605, 3.781, 5.474,\n",
       "       5.124, 4.642, 7.2  , 6.298, 7.284, 6.901, 5.813, 3.904, 5.429,\n",
       "       5.824, 4.033, 6.505, 4.332, 6.67 , 4.252, 4.218, 3.655, 4.633,\n",
       "       4.788, 5.975, 6.485, 6.81 , 6.983, 5.589, 7.226, 5.995, 4.694,\n",
       "       5.855, 6.575, 7.427, 6.455, 4.419, 5.098, 5.073, 6.946, 7.278])"
      ]
     },
     "execution_count": 68,
     "metadata": {},
     "output_type": "execute_result"
    }
   ],
   "source": [
    "#The best fit model is Linear Regression. There is no need to perform gridsearchCV as there is no hypertuning required.\n",
    "\n",
    "#Lets perform Serialisation and deserialisation to dump (save) and load the model\n",
    "\n",
    "joblib.dump(lm,\"lmfile.obj\")\n",
    "#obj file is dumped or created\n",
    "lm_from_joblib=joblib.load(\"lmfile.obj\")\n",
    "#obj file is loaded\n",
    "lm_from_joblib.predict(x_test)\n",
    "#use the loaded model to make predictions."
   ]
  },
  {
   "cell_type": "code",
   "execution_count": null,
   "id": "f19e9d4a",
   "metadata": {},
   "outputs": [],
   "source": []
  }
 ],
 "metadata": {
  "kernelspec": {
   "display_name": "Python 3 (ipykernel)",
   "language": "python",
   "name": "python3"
  },
  "language_info": {
   "codemirror_mode": {
    "name": "ipython",
    "version": 3
   },
   "file_extension": ".py",
   "mimetype": "text/x-python",
   "name": "python",
   "nbconvert_exporter": "python",
   "pygments_lexer": "ipython3",
   "version": "3.9.7"
  }
 },
 "nbformat": 4,
 "nbformat_minor": 5
}
