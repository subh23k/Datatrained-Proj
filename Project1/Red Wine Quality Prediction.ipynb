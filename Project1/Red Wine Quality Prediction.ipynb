{
 "cells": [
  {
   "cell_type": "code",
   "execution_count": 2,
   "id": "cd9107a7",
   "metadata": {},
   "outputs": [],
   "source": [
    "import pandas as pd\n",
    "import numpy as np\n",
    "import joblib\n",
    "import matplotlib.pyplot as plt\n",
    "import seaborn as sns\n",
    "import warnings\n",
    "import math\n",
    "import scipy\n",
    "from scipy import stats\n",
    "from scipy.stats import zscore\n",
    "from imblearn.over_sampling import SMOTE\n",
    "from sklearn.metrics import accuracy_score,classification_report,confusion_matrix\n",
    "from sklearn.metrics import roc_curve\n",
    "from sklearn.metrics import roc_auc_score\n",
    "from sklearn.linear_model import LogisticRegression\n",
    "from sklearn.neighbors import KNeighborsClassifier\n",
    "from sklearn.model_selection import train_test_split\n",
    "from sklearn.model_selection import cross_val_score\n",
    "from sklearn.model_selection import GridSearchCV\n",
    "from sklearn.tree import DecisionTreeClassifier\n",
    "from sklearn.naive_bayes import GaussianNB\n",
    "from sklearn.naive_bayes import MultinomialNB\n",
    "from sklearn.ensemble import RandomForestClassifier,AdaBoostClassifier\n",
    "from sklearn.svm import SVC\n",
    "from sklearn.preprocessing import power_transform\n",
    "from sklearn.preprocessing import LabelEncoder\n",
    "from sklearn.preprocessing import StandardScaler\n",
    "warnings.filterwarnings(\"ignore\")"
   ]
  },
  {
   "cell_type": "code",
   "execution_count": 4,
   "id": "78793cd9",
   "metadata": {},
   "outputs": [],
   "source": [
    "# Lets begin by reading the csv file\n",
    "Wine=pd.read_csv(\"https://raw.githubusercontent.com/dsrscientist/DSData/master/winequality-red.csv\")"
   ]
  },
  {
   "cell_type": "code",
   "execution_count": 5,
   "id": "06f1b655",
   "metadata": {},
   "outputs": [
    {
     "data": {
      "text/html": [
       "<div>\n",
       "<style scoped>\n",
       "    .dataframe tbody tr th:only-of-type {\n",
       "        vertical-align: middle;\n",
       "    }\n",
       "\n",
       "    .dataframe tbody tr th {\n",
       "        vertical-align: top;\n",
       "    }\n",
       "\n",
       "    .dataframe thead th {\n",
       "        text-align: right;\n",
       "    }\n",
       "</style>\n",
       "<table border=\"1\" class=\"dataframe\">\n",
       "  <thead>\n",
       "    <tr style=\"text-align: right;\">\n",
       "      <th></th>\n",
       "      <th>fixed acidity</th>\n",
       "      <th>volatile acidity</th>\n",
       "      <th>citric acid</th>\n",
       "      <th>residual sugar</th>\n",
       "      <th>chlorides</th>\n",
       "      <th>free sulfur dioxide</th>\n",
       "      <th>total sulfur dioxide</th>\n",
       "      <th>density</th>\n",
       "      <th>pH</th>\n",
       "      <th>sulphates</th>\n",
       "      <th>alcohol</th>\n",
       "      <th>quality</th>\n",
       "    </tr>\n",
       "  </thead>\n",
       "  <tbody>\n",
       "    <tr>\n",
       "      <th>0</th>\n",
       "      <td>7.4</td>\n",
       "      <td>0.700</td>\n",
       "      <td>0.00</td>\n",
       "      <td>1.9</td>\n",
       "      <td>0.076</td>\n",
       "      <td>11.0</td>\n",
       "      <td>34.0</td>\n",
       "      <td>0.99780</td>\n",
       "      <td>3.51</td>\n",
       "      <td>0.56</td>\n",
       "      <td>9.4</td>\n",
       "      <td>5</td>\n",
       "    </tr>\n",
       "    <tr>\n",
       "      <th>1</th>\n",
       "      <td>7.8</td>\n",
       "      <td>0.880</td>\n",
       "      <td>0.00</td>\n",
       "      <td>2.6</td>\n",
       "      <td>0.098</td>\n",
       "      <td>25.0</td>\n",
       "      <td>67.0</td>\n",
       "      <td>0.99680</td>\n",
       "      <td>3.20</td>\n",
       "      <td>0.68</td>\n",
       "      <td>9.8</td>\n",
       "      <td>5</td>\n",
       "    </tr>\n",
       "    <tr>\n",
       "      <th>2</th>\n",
       "      <td>7.8</td>\n",
       "      <td>0.760</td>\n",
       "      <td>0.04</td>\n",
       "      <td>2.3</td>\n",
       "      <td>0.092</td>\n",
       "      <td>15.0</td>\n",
       "      <td>54.0</td>\n",
       "      <td>0.99700</td>\n",
       "      <td>3.26</td>\n",
       "      <td>0.65</td>\n",
       "      <td>9.8</td>\n",
       "      <td>5</td>\n",
       "    </tr>\n",
       "    <tr>\n",
       "      <th>3</th>\n",
       "      <td>11.2</td>\n",
       "      <td>0.280</td>\n",
       "      <td>0.56</td>\n",
       "      <td>1.9</td>\n",
       "      <td>0.075</td>\n",
       "      <td>17.0</td>\n",
       "      <td>60.0</td>\n",
       "      <td>0.99800</td>\n",
       "      <td>3.16</td>\n",
       "      <td>0.58</td>\n",
       "      <td>9.8</td>\n",
       "      <td>6</td>\n",
       "    </tr>\n",
       "    <tr>\n",
       "      <th>4</th>\n",
       "      <td>7.4</td>\n",
       "      <td>0.700</td>\n",
       "      <td>0.00</td>\n",
       "      <td>1.9</td>\n",
       "      <td>0.076</td>\n",
       "      <td>11.0</td>\n",
       "      <td>34.0</td>\n",
       "      <td>0.99780</td>\n",
       "      <td>3.51</td>\n",
       "      <td>0.56</td>\n",
       "      <td>9.4</td>\n",
       "      <td>5</td>\n",
       "    </tr>\n",
       "    <tr>\n",
       "      <th>...</th>\n",
       "      <td>...</td>\n",
       "      <td>...</td>\n",
       "      <td>...</td>\n",
       "      <td>...</td>\n",
       "      <td>...</td>\n",
       "      <td>...</td>\n",
       "      <td>...</td>\n",
       "      <td>...</td>\n",
       "      <td>...</td>\n",
       "      <td>...</td>\n",
       "      <td>...</td>\n",
       "      <td>...</td>\n",
       "    </tr>\n",
       "    <tr>\n",
       "      <th>1594</th>\n",
       "      <td>6.2</td>\n",
       "      <td>0.600</td>\n",
       "      <td>0.08</td>\n",
       "      <td>2.0</td>\n",
       "      <td>0.090</td>\n",
       "      <td>32.0</td>\n",
       "      <td>44.0</td>\n",
       "      <td>0.99490</td>\n",
       "      <td>3.45</td>\n",
       "      <td>0.58</td>\n",
       "      <td>10.5</td>\n",
       "      <td>5</td>\n",
       "    </tr>\n",
       "    <tr>\n",
       "      <th>1595</th>\n",
       "      <td>5.9</td>\n",
       "      <td>0.550</td>\n",
       "      <td>0.10</td>\n",
       "      <td>2.2</td>\n",
       "      <td>0.062</td>\n",
       "      <td>39.0</td>\n",
       "      <td>51.0</td>\n",
       "      <td>0.99512</td>\n",
       "      <td>3.52</td>\n",
       "      <td>0.76</td>\n",
       "      <td>11.2</td>\n",
       "      <td>6</td>\n",
       "    </tr>\n",
       "    <tr>\n",
       "      <th>1596</th>\n",
       "      <td>6.3</td>\n",
       "      <td>0.510</td>\n",
       "      <td>0.13</td>\n",
       "      <td>2.3</td>\n",
       "      <td>0.076</td>\n",
       "      <td>29.0</td>\n",
       "      <td>40.0</td>\n",
       "      <td>0.99574</td>\n",
       "      <td>3.42</td>\n",
       "      <td>0.75</td>\n",
       "      <td>11.0</td>\n",
       "      <td>6</td>\n",
       "    </tr>\n",
       "    <tr>\n",
       "      <th>1597</th>\n",
       "      <td>5.9</td>\n",
       "      <td>0.645</td>\n",
       "      <td>0.12</td>\n",
       "      <td>2.0</td>\n",
       "      <td>0.075</td>\n",
       "      <td>32.0</td>\n",
       "      <td>44.0</td>\n",
       "      <td>0.99547</td>\n",
       "      <td>3.57</td>\n",
       "      <td>0.71</td>\n",
       "      <td>10.2</td>\n",
       "      <td>5</td>\n",
       "    </tr>\n",
       "    <tr>\n",
       "      <th>1598</th>\n",
       "      <td>6.0</td>\n",
       "      <td>0.310</td>\n",
       "      <td>0.47</td>\n",
       "      <td>3.6</td>\n",
       "      <td>0.067</td>\n",
       "      <td>18.0</td>\n",
       "      <td>42.0</td>\n",
       "      <td>0.99549</td>\n",
       "      <td>3.39</td>\n",
       "      <td>0.66</td>\n",
       "      <td>11.0</td>\n",
       "      <td>6</td>\n",
       "    </tr>\n",
       "  </tbody>\n",
       "</table>\n",
       "<p>1599 rows × 12 columns</p>\n",
       "</div>"
      ],
      "text/plain": [
       "      fixed acidity  volatile acidity  citric acid  residual sugar  chlorides  \\\n",
       "0               7.4             0.700         0.00             1.9      0.076   \n",
       "1               7.8             0.880         0.00             2.6      0.098   \n",
       "2               7.8             0.760         0.04             2.3      0.092   \n",
       "3              11.2             0.280         0.56             1.9      0.075   \n",
       "4               7.4             0.700         0.00             1.9      0.076   \n",
       "...             ...               ...          ...             ...        ...   \n",
       "1594            6.2             0.600         0.08             2.0      0.090   \n",
       "1595            5.9             0.550         0.10             2.2      0.062   \n",
       "1596            6.3             0.510         0.13             2.3      0.076   \n",
       "1597            5.9             0.645         0.12             2.0      0.075   \n",
       "1598            6.0             0.310         0.47             3.6      0.067   \n",
       "\n",
       "      free sulfur dioxide  total sulfur dioxide  density    pH  sulphates  \\\n",
       "0                    11.0                  34.0  0.99780  3.51       0.56   \n",
       "1                    25.0                  67.0  0.99680  3.20       0.68   \n",
       "2                    15.0                  54.0  0.99700  3.26       0.65   \n",
       "3                    17.0                  60.0  0.99800  3.16       0.58   \n",
       "4                    11.0                  34.0  0.99780  3.51       0.56   \n",
       "...                   ...                   ...      ...   ...        ...   \n",
       "1594                 32.0                  44.0  0.99490  3.45       0.58   \n",
       "1595                 39.0                  51.0  0.99512  3.52       0.76   \n",
       "1596                 29.0                  40.0  0.99574  3.42       0.75   \n",
       "1597                 32.0                  44.0  0.99547  3.57       0.71   \n",
       "1598                 18.0                  42.0  0.99549  3.39       0.66   \n",
       "\n",
       "      alcohol  quality  \n",
       "0         9.4        5  \n",
       "1         9.8        5  \n",
       "2         9.8        5  \n",
       "3         9.8        6  \n",
       "4         9.4        5  \n",
       "...       ...      ...  \n",
       "1594     10.5        5  \n",
       "1595     11.2        6  \n",
       "1596     11.0        6  \n",
       "1597     10.2        5  \n",
       "1598     11.0        6  \n",
       "\n",
       "[1599 rows x 12 columns]"
      ]
     },
     "execution_count": 5,
     "metadata": {},
     "output_type": "execute_result"
    }
   ],
   "source": [
    "#Lets convert the csv file into a DataFrame\n",
    "Wine_Quality=pd.DataFrame(data=Wine)\n",
    "Wine_Quality"
   ]
  },
  {
   "cell_type": "code",
   "execution_count": 6,
   "id": "b510e844",
   "metadata": {},
   "outputs": [
    {
     "data": {
      "text/plain": [
       "(1599, 12)"
      ]
     },
     "execution_count": 6,
     "metadata": {},
     "output_type": "execute_result"
    }
   ],
   "source": [
    "Wine_Quality.shape\n",
    "# The dataset has 1599 rows and 12 columns"
   ]
  },
  {
   "cell_type": "code",
   "execution_count": 7,
   "id": "8903b50c",
   "metadata": {},
   "outputs": [
    {
     "data": {
      "text/plain": [
       "fixed acidity           float64\n",
       "volatile acidity        float64\n",
       "citric acid             float64\n",
       "residual sugar          float64\n",
       "chlorides               float64\n",
       "free sulfur dioxide     float64\n",
       "total sulfur dioxide    float64\n",
       "density                 float64\n",
       "pH                      float64\n",
       "sulphates               float64\n",
       "alcohol                 float64\n",
       "quality                   int64\n",
       "dtype: object"
      ]
     },
     "execution_count": 7,
     "metadata": {},
     "output_type": "execute_result"
    }
   ],
   "source": [
    "Wine_Quality.dtypes\n",
    "# All data types except for the quality column are float type."
   ]
  },
  {
   "cell_type": "code",
   "execution_count": 8,
   "id": "656fab47",
   "metadata": {},
   "outputs": [
    {
     "data": {
      "text/html": [
       "<div>\n",
       "<style scoped>\n",
       "    .dataframe tbody tr th:only-of-type {\n",
       "        vertical-align: middle;\n",
       "    }\n",
       "\n",
       "    .dataframe tbody tr th {\n",
       "        vertical-align: top;\n",
       "    }\n",
       "\n",
       "    .dataframe thead th {\n",
       "        text-align: right;\n",
       "    }\n",
       "</style>\n",
       "<table border=\"1\" class=\"dataframe\">\n",
       "  <thead>\n",
       "    <tr style=\"text-align: right;\">\n",
       "      <th></th>\n",
       "      <th>fixed acidity</th>\n",
       "      <th>volatile acidity</th>\n",
       "      <th>citric acid</th>\n",
       "      <th>residual sugar</th>\n",
       "      <th>chlorides</th>\n",
       "      <th>free sulfur dioxide</th>\n",
       "      <th>total sulfur dioxide</th>\n",
       "      <th>density</th>\n",
       "      <th>pH</th>\n",
       "      <th>sulphates</th>\n",
       "      <th>alcohol</th>\n",
       "      <th>quality</th>\n",
       "    </tr>\n",
       "  </thead>\n",
       "  <tbody>\n",
       "    <tr>\n",
       "      <th>count</th>\n",
       "      <td>1599.000000</td>\n",
       "      <td>1599.000000</td>\n",
       "      <td>1599.000000</td>\n",
       "      <td>1599.000000</td>\n",
       "      <td>1599.000000</td>\n",
       "      <td>1599.000000</td>\n",
       "      <td>1599.000000</td>\n",
       "      <td>1599.000000</td>\n",
       "      <td>1599.000000</td>\n",
       "      <td>1599.000000</td>\n",
       "      <td>1599.000000</td>\n",
       "      <td>1599.000000</td>\n",
       "    </tr>\n",
       "    <tr>\n",
       "      <th>mean</th>\n",
       "      <td>8.319637</td>\n",
       "      <td>0.527821</td>\n",
       "      <td>0.270976</td>\n",
       "      <td>2.538806</td>\n",
       "      <td>0.087467</td>\n",
       "      <td>15.874922</td>\n",
       "      <td>46.467792</td>\n",
       "      <td>0.996747</td>\n",
       "      <td>3.311113</td>\n",
       "      <td>0.658149</td>\n",
       "      <td>10.422983</td>\n",
       "      <td>5.636023</td>\n",
       "    </tr>\n",
       "    <tr>\n",
       "      <th>std</th>\n",
       "      <td>1.741096</td>\n",
       "      <td>0.179060</td>\n",
       "      <td>0.194801</td>\n",
       "      <td>1.409928</td>\n",
       "      <td>0.047065</td>\n",
       "      <td>10.460157</td>\n",
       "      <td>32.895324</td>\n",
       "      <td>0.001887</td>\n",
       "      <td>0.154386</td>\n",
       "      <td>0.169507</td>\n",
       "      <td>1.065668</td>\n",
       "      <td>0.807569</td>\n",
       "    </tr>\n",
       "    <tr>\n",
       "      <th>min</th>\n",
       "      <td>4.600000</td>\n",
       "      <td>0.120000</td>\n",
       "      <td>0.000000</td>\n",
       "      <td>0.900000</td>\n",
       "      <td>0.012000</td>\n",
       "      <td>1.000000</td>\n",
       "      <td>6.000000</td>\n",
       "      <td>0.990070</td>\n",
       "      <td>2.740000</td>\n",
       "      <td>0.330000</td>\n",
       "      <td>8.400000</td>\n",
       "      <td>3.000000</td>\n",
       "    </tr>\n",
       "    <tr>\n",
       "      <th>25%</th>\n",
       "      <td>7.100000</td>\n",
       "      <td>0.390000</td>\n",
       "      <td>0.090000</td>\n",
       "      <td>1.900000</td>\n",
       "      <td>0.070000</td>\n",
       "      <td>7.000000</td>\n",
       "      <td>22.000000</td>\n",
       "      <td>0.995600</td>\n",
       "      <td>3.210000</td>\n",
       "      <td>0.550000</td>\n",
       "      <td>9.500000</td>\n",
       "      <td>5.000000</td>\n",
       "    </tr>\n",
       "    <tr>\n",
       "      <th>50%</th>\n",
       "      <td>7.900000</td>\n",
       "      <td>0.520000</td>\n",
       "      <td>0.260000</td>\n",
       "      <td>2.200000</td>\n",
       "      <td>0.079000</td>\n",
       "      <td>14.000000</td>\n",
       "      <td>38.000000</td>\n",
       "      <td>0.996750</td>\n",
       "      <td>3.310000</td>\n",
       "      <td>0.620000</td>\n",
       "      <td>10.200000</td>\n",
       "      <td>6.000000</td>\n",
       "    </tr>\n",
       "    <tr>\n",
       "      <th>75%</th>\n",
       "      <td>9.200000</td>\n",
       "      <td>0.640000</td>\n",
       "      <td>0.420000</td>\n",
       "      <td>2.600000</td>\n",
       "      <td>0.090000</td>\n",
       "      <td>21.000000</td>\n",
       "      <td>62.000000</td>\n",
       "      <td>0.997835</td>\n",
       "      <td>3.400000</td>\n",
       "      <td>0.730000</td>\n",
       "      <td>11.100000</td>\n",
       "      <td>6.000000</td>\n",
       "    </tr>\n",
       "    <tr>\n",
       "      <th>max</th>\n",
       "      <td>15.900000</td>\n",
       "      <td>1.580000</td>\n",
       "      <td>1.000000</td>\n",
       "      <td>15.500000</td>\n",
       "      <td>0.611000</td>\n",
       "      <td>72.000000</td>\n",
       "      <td>289.000000</td>\n",
       "      <td>1.003690</td>\n",
       "      <td>4.010000</td>\n",
       "      <td>2.000000</td>\n",
       "      <td>14.900000</td>\n",
       "      <td>8.000000</td>\n",
       "    </tr>\n",
       "  </tbody>\n",
       "</table>\n",
       "</div>"
      ],
      "text/plain": [
       "       fixed acidity  volatile acidity  citric acid  residual sugar  \\\n",
       "count    1599.000000       1599.000000  1599.000000     1599.000000   \n",
       "mean        8.319637          0.527821     0.270976        2.538806   \n",
       "std         1.741096          0.179060     0.194801        1.409928   \n",
       "min         4.600000          0.120000     0.000000        0.900000   \n",
       "25%         7.100000          0.390000     0.090000        1.900000   \n",
       "50%         7.900000          0.520000     0.260000        2.200000   \n",
       "75%         9.200000          0.640000     0.420000        2.600000   \n",
       "max        15.900000          1.580000     1.000000       15.500000   \n",
       "\n",
       "         chlorides  free sulfur dioxide  total sulfur dioxide      density  \\\n",
       "count  1599.000000          1599.000000           1599.000000  1599.000000   \n",
       "mean      0.087467            15.874922             46.467792     0.996747   \n",
       "std       0.047065            10.460157             32.895324     0.001887   \n",
       "min       0.012000             1.000000              6.000000     0.990070   \n",
       "25%       0.070000             7.000000             22.000000     0.995600   \n",
       "50%       0.079000            14.000000             38.000000     0.996750   \n",
       "75%       0.090000            21.000000             62.000000     0.997835   \n",
       "max       0.611000            72.000000            289.000000     1.003690   \n",
       "\n",
       "                pH    sulphates      alcohol      quality  \n",
       "count  1599.000000  1599.000000  1599.000000  1599.000000  \n",
       "mean      3.311113     0.658149    10.422983     5.636023  \n",
       "std       0.154386     0.169507     1.065668     0.807569  \n",
       "min       2.740000     0.330000     8.400000     3.000000  \n",
       "25%       3.210000     0.550000     9.500000     5.000000  \n",
       "50%       3.310000     0.620000    10.200000     6.000000  \n",
       "75%       3.400000     0.730000    11.100000     6.000000  \n",
       "max       4.010000     2.000000    14.900000     8.000000  "
      ]
     },
     "execution_count": 8,
     "metadata": {},
     "output_type": "execute_result"
    }
   ],
   "source": [
    "Wine_Quality.describe()"
   ]
  },
  {
   "cell_type": "code",
   "execution_count": 9,
   "id": "0b786470",
   "metadata": {},
   "outputs": [],
   "source": [
    "# the difference between the mean and the median is the most for total sulfur dioxide content and hence the univariate analysis should show more skewness to the right compared to other attributes.\n",
    "# There seem to be most outliers present in total sulfur dioxide column amongst the other columns.\n",
    "# The spread of data in the total sulfur dioxide column is the most amongst the other columns as the standard deviation is the highest"
   ]
  },
  {
   "cell_type": "code",
   "execution_count": 10,
   "id": "2cfbaf03",
   "metadata": {},
   "outputs": [
    {
     "data": {
      "text/plain": [
       "fixed acidity           0\n",
       "volatile acidity        0\n",
       "citric acid             0\n",
       "residual sugar          0\n",
       "chlorides               0\n",
       "free sulfur dioxide     0\n",
       "total sulfur dioxide    0\n",
       "density                 0\n",
       "pH                      0\n",
       "sulphates               0\n",
       "alcohol                 0\n",
       "quality                 0\n",
       "dtype: int64"
      ]
     },
     "execution_count": 10,
     "metadata": {},
     "output_type": "execute_result"
    }
   ],
   "source": [
    "#Lets check for the missing values now\n",
    "Wine_Quality.isnull().sum()\n",
    "#There are no missing values"
   ]
  },
  {
   "cell_type": "code",
   "execution_count": 11,
   "id": "386d1931",
   "metadata": {},
   "outputs": [
    {
     "data": {
      "text/plain": [
       "<AxesSubplot:>"
      ]
     },
     "execution_count": 11,
     "metadata": {},
     "output_type": "execute_result"
    },
    {
     "data": {
      "image/png": "[encoded data removed]",
      "text/plain": [
       "<Figure size 432x288 with 2 Axes>"
      ]
     },
     "metadata": {
      "needs_background": "light"
     },
     "output_type": "display_data"
    }
   ],
   "source": [
    "sns.heatmap(Wine_Quality.isnull())\n",
    "#It is confirmed with the heatmap that there aare no missing values."
   ]
  },
  {
   "cell_type": "code",
   "execution_count": 12,
   "id": "3388ee28",
   "metadata": {},
   "outputs": [],
   "source": [
    "#Lets perform univariate analysis on the independent attributes"
   ]
  },
  {
   "cell_type": "code",
   "execution_count": 13,
   "id": "9bd43ef9",
   "metadata": {},
   "outputs": [
    {
     "data": {
      "text/plain": [
       "([<matplotlib.axis.XTick at 0x1f653fa1d00>,\n",
       "  <matplotlib.axis.XTick at 0x1f653fa1cd0>,\n",
       "  <matplotlib.axis.XTick at 0x1f653fd92e0>,\n",
       "  <matplotlib.axis.XTick at 0x1f654037b80>,\n",
       "  <matplotlib.axis.XTick at 0x1f65404f100>,\n",
       "  <matplotlib.axis.XTick at 0x1f65404f790>,\n",
       "  <matplotlib.axis.XTick at 0x1f65404fee0>,\n",
       "  <matplotlib.axis.XTick at 0x1f654056670>,\n",
       "  <matplotlib.axis.XTick at 0x1f654056dc0>,\n",
       "  <matplotlib.axis.XTick at 0x1f653fa13a0>,\n",
       "  <matplotlib.axis.XTick at 0x1f653fd9280>,\n",
       "  <matplotlib.axis.XTick at 0x1f653fc9d90>,\n",
       "  <matplotlib.axis.XTick at 0x1f654063cd0>,\n",
       "  <matplotlib.axis.XTick at 0x1f654037700>,\n",
       "  <matplotlib.axis.XTick at 0x1f654071220>],\n",
       " [Text(0, 0, ''),\n",
       "  Text(0, 0, ''),\n",
       "  Text(0, 0, ''),\n",
       "  Text(0, 0, ''),\n",
       "  Text(0, 0, ''),\n",
       "  Text(0, 0, ''),\n",
       "  Text(0, 0, ''),\n",
       "  Text(0, 0, ''),\n",
       "  Text(0, 0, ''),\n",
       "  Text(0, 0, ''),\n",
       "  Text(0, 0, ''),\n",
       "  Text(0, 0, ''),\n",
       "  Text(0, 0, ''),\n",
       "  Text(0, 0, ''),\n",
       "  Text(0, 0, '')])"
      ]
     },
     "execution_count": 13,
     "metadata": {},
     "output_type": "execute_result"
    },
    {
     "data": {
      "image/png": "[encoded data removed]",
      "text/plain": [
       "<Figure size 432x288 with 1 Axes>"
      ]
     },
     "metadata": {
      "needs_background": "light"
     },
     "output_type": "display_data"
    }
   ],
   "source": [
    "sns.distplot(Wine_Quality[\"fixed acidity\"])\n",
    "plt.xticks(range(1,16))\n",
    "# There is skewness to the right and the maximum fixed acidity lies between 7 to 8"
   ]
  },
  {
   "cell_type": "code",
   "execution_count": 14,
   "id": "81af2042",
   "metadata": {},
   "outputs": [
    {
     "data": {
      "text/plain": [
       "([<matplotlib.axis.XTick at 0x1f654095730>,\n",
       "  <matplotlib.axis.XTick at 0x1f654095700>,\n",
       "  <matplotlib.axis.XTick at 0x1f653f27bb0>,\n",
       "  <matplotlib.axis.XTick at 0x1f6540d7760>,\n",
       "  <matplotlib.axis.XTick at 0x1f6540d7eb0>,\n",
       "  <matplotlib.axis.XTick at 0x1f6540de670>,\n",
       "  <matplotlib.axis.XTick at 0x1f6540dedc0>,\n",
       "  <matplotlib.axis.XTick at 0x1f6540e6550>,\n",
       "  <matplotlib.axis.XTick at 0x1f6540e6ca0>,\n",
       "  <matplotlib.axis.XTick at 0x1f6540e6580>,\n",
       "  <matplotlib.axis.XTick at 0x1f6540de1f0>,\n",
       "  <matplotlib.axis.XTick at 0x1f6540eb280>,\n",
       "  <matplotlib.axis.XTick at 0x1f6540eb9d0>,\n",
       "  <matplotlib.axis.XTick at 0x1f6540e4160>,\n",
       "  <matplotlib.axis.XTick at 0x1f6540e48b0>],\n",
       " [Text(0, 0, ''),\n",
       "  Text(0, 0, ''),\n",
       "  Text(0, 0, ''),\n",
       "  Text(0, 0, ''),\n",
       "  Text(0, 0, ''),\n",
       "  Text(0, 0, ''),\n",
       "  Text(0, 0, ''),\n",
       "  Text(0, 0, ''),\n",
       "  Text(0, 0, ''),\n",
       "  Text(0, 0, ''),\n",
       "  Text(0, 0, ''),\n",
       "  Text(0, 0, ''),\n",
       "  Text(0, 0, ''),\n",
       "  Text(0, 0, ''),\n",
       "  Text(0, 0, '')])"
      ]
     },
     "execution_count": 14,
     "metadata": {},
     "output_type": "execute_result"
    },
    {
     "data": {
      "image/png": "[encoded data removed]",
      "text/plain": [
       "<Figure size 432x288 with 1 Axes>"
      ]
     },
     "metadata": {
      "needs_background": "light"
     },
     "output_type": "display_data"
    }
   ],
   "source": [
    "sns.boxplot(Wine_Quality[\"fixed acidity\"])\n",
    "plt.xticks(range(1,16))\n",
    "# Outliers are present.\n",
    "#Minimum fixed acidity is around 4.5, median acidity is around 8 amd maximum acidity is around 15.9\n",
    "#Outliers present are treated below with IQR method"
   ]
  },
  {
   "cell_type": "code",
   "execution_count": 15,
   "id": "d09a8ff7",
   "metadata": {},
   "outputs": [
    {
     "data": {
      "text/plain": [
       "<AxesSubplot:xlabel='volatile acidity', ylabel='Density'>"
      ]
     },
     "execution_count": 15,
     "metadata": {},
     "output_type": "execute_result"
    },
    {
     "data": {
      "image/png": "[encoded data removed]",
      "text/plain": [
       "<Figure size 432x288 with 1 Axes>"
      ]
     },
     "metadata": {
      "needs_background": "light"
     },
     "output_type": "display_data"
    }
   ],
   "source": [
    "sns.distplot(Wine_Quality[\"volatile acidity\"])\n",
    "# There is skewness to the right and the maximum fixed acidity lies between 0.5 to 0.75"
   ]
  },
  {
   "cell_type": "code",
   "execution_count": 16,
   "id": "45f27200",
   "metadata": {},
   "outputs": [
    {
     "data": {
      "text/plain": [
       "<AxesSubplot:xlabel='volatile acidity'>"
      ]
     },
     "execution_count": 16,
     "metadata": {},
     "output_type": "execute_result"
    },
    {
     "data": {
      "image/png": "[encoded data removed]",
      "text/plain": [
       "<Figure size 432x288 with 1 Axes>"
      ]
     },
     "metadata": {
      "needs_background": "light"
     },
     "output_type": "display_data"
    }
   ],
   "source": [
    "sns.boxplot(Wine_Quality[\"volatile acidity\"])\n",
    "# Outliers were present.\n",
    "#Minimum volatile acidity is around 0.12, median acidity is around 0.5 amd maximum acidity is around 1.5\n",
    "#Outliers present are treated below with IQR method"
   ]
  },
  {
   "cell_type": "code",
   "execution_count": 17,
   "id": "7cdcfdfb",
   "metadata": {},
   "outputs": [
    {
     "data": {
      "text/plain": [
       "<AxesSubplot:xlabel='citric acid', ylabel='Density'>"
      ]
     },
     "execution_count": 17,
     "metadata": {},
     "output_type": "execute_result"
    },
    {
     "data": {
      "image/png": "[encoded data removed]",
      "text/plain": [
       "<Figure size 432x288 with 1 Axes>"
      ]
     },
     "metadata": {
      "needs_background": "light"
     },
     "output_type": "display_data"
    }
   ],
   "source": [
    "sns.distplot(Wine_Quality[\"citric acid\"])\n",
    "#The maximum citric acid lies between 0-0.2"
   ]
  },
  {
   "cell_type": "code",
   "execution_count": 18,
   "id": "bb0820cc",
   "metadata": {},
   "outputs": [
    {
     "data": {
      "text/plain": [
       "<AxesSubplot:xlabel='citric acid'>"
      ]
     },
     "execution_count": 18,
     "metadata": {},
     "output_type": "execute_result"
    },
    {
     "data": {
      "image/png": "[encoded data removed]",
      "text/plain": [
       "<Figure size 432x288 with 1 Axes>"
      ]
     },
     "metadata": {
      "needs_background": "light"
     },
     "output_type": "display_data"
    }
   ],
   "source": [
    "sns.boxplot(Wine_Quality[\"citric acid\"])\n",
    "#Minimum citric acid is around 0 median citric acid content is around 0.25 amd maximum citric acid content is around 1"
   ]
  },
  {
   "cell_type": "code",
   "execution_count": 19,
   "id": "bc1095e2",
   "metadata": {},
   "outputs": [
    {
     "data": {
      "text/plain": [
       "<AxesSubplot:xlabel='residual sugar', ylabel='Density'>"
      ]
     },
     "execution_count": 19,
     "metadata": {},
     "output_type": "execute_result"
    },
    {
     "data": {
      "image/png": "[encoded data removed]",
      "text/plain": [
       "<Figure size 432x288 with 1 Axes>"
      ]
     },
     "metadata": {
      "needs_background": "light"
     },
     "output_type": "display_data"
    }
   ],
   "source": [
    "sns.distplot(Wine_Quality[\"residual sugar\"])\n",
    "# There is skewness to the right and the maximum residual sugar is around 2.5"
   ]
  },
  {
   "cell_type": "code",
   "execution_count": 20,
   "id": "ef228551",
   "metadata": {},
   "outputs": [
    {
     "data": {
      "text/plain": [
       "([<matplotlib.axis.XTick at 0x1f6553a8f40>,\n",
       "  <matplotlib.axis.XTick at 0x1f6553a8f10>,\n",
       "  <matplotlib.axis.XTick at 0x1f6553a81c0>,\n",
       "  <matplotlib.axis.XTick at 0x1f6553f40a0>,\n",
       "  <matplotlib.axis.XTick at 0x1f6553f4730>,\n",
       "  <matplotlib.axis.XTick at 0x1f6553f4e80>,\n",
       "  <matplotlib.axis.XTick at 0x1f6553f9610>,\n",
       "  <matplotlib.axis.XTick at 0x1f6553f9d60>,\n",
       "  <matplotlib.axis.XTick at 0x1f6553ff4f0>,\n",
       "  <matplotlib.axis.XTick at 0x1f6553f9a00>,\n",
       "  <matplotlib.axis.XTick at 0x1f6553f4940>,\n",
       "  <matplotlib.axis.XTick at 0x1f6553ffbb0>,\n",
       "  <matplotlib.axis.XTick at 0x1f655406340>,\n",
       "  <matplotlib.axis.XTick at 0x1f655406b20>,\n",
       "  <matplotlib.axis.XTick at 0x1f65540d250>],\n",
       " [Text(0, 0, ''),\n",
       "  Text(0, 0, ''),\n",
       "  Text(0, 0, ''),\n",
       "  Text(0, 0, ''),\n",
       "  Text(0, 0, ''),\n",
       "  Text(0, 0, ''),\n",
       "  Text(0, 0, ''),\n",
       "  Text(0, 0, ''),\n",
       "  Text(0, 0, ''),\n",
       "  Text(0, 0, ''),\n",
       "  Text(0, 0, ''),\n",
       "  Text(0, 0, ''),\n",
       "  Text(0, 0, ''),\n",
       "  Text(0, 0, ''),\n",
       "  Text(0, 0, '')])"
      ]
     },
     "execution_count": 20,
     "metadata": {},
     "output_type": "execute_result"
    },
    {
     "data": {
      "image/png": "[encoded data removed]",
      "text/plain": [
       "<Figure size 432x288 with 1 Axes>"
      ]
     },
     "metadata": {
      "needs_background": "light"
     },
     "output_type": "display_data"
    }
   ],
   "source": [
    "sns.boxplot(Wine_Quality[\"residual sugar\"])\n",
    "plt.xticks(range(1,16))\n",
    "# Outliers are present.\n",
    "#Minimum residual sugar is around 1 median residual sugar is around 2.1 amd maximum residual sugar is around 15.5\n",
    "#Outliers present are treated below with IQR method"
   ]
  },
  {
   "cell_type": "code",
   "execution_count": 21,
   "id": "f91c2459",
   "metadata": {},
   "outputs": [
    {
     "data": {
      "text/plain": [
       "<AxesSubplot:xlabel='chlorides', ylabel='Density'>"
      ]
     },
     "execution_count": 21,
     "metadata": {},
     "output_type": "execute_result"
    },
    {
     "data": {
      "image/png": "[encoded data removed]",
      "text/plain": [
       "<Figure size 432x288 with 1 Axes>"
      ]
     },
     "metadata": {
      "needs_background": "light"
     },
     "output_type": "display_data"
    }
   ],
   "source": [
    "sns.distplot(Wine_Quality[\"chlorides\"])\n",
    "# There is skewness to the right and the maximum cholride content lies between 0-0.1"
   ]
  },
  {
   "cell_type": "code",
   "execution_count": 22,
   "id": "c749b66a",
   "metadata": {},
   "outputs": [
    {
     "data": {
      "text/plain": [
       "<AxesSubplot:xlabel='chlorides'>"
      ]
     },
     "execution_count": 22,
     "metadata": {},
     "output_type": "execute_result"
    },
    {
     "data": {
      "image/png": "[encoded data removed]",
      "text/plain": [
       "<Figure size 432x288 with 1 Axes>"
      ]
     },
     "metadata": {
      "needs_background": "light"
     },
     "output_type": "display_data"
    }
   ],
   "source": [
    "sns.boxplot(Wine_Quality[\"chlorides\"])\n",
    "# Outliers are present.\n",
    "#Minimum chlorides is around 0.01 median chlorides content is around 0.08 amd maximum chlorides content is around 0.6\n",
    "#Outliers present are treated below with IQR method"
   ]
  },
  {
   "cell_type": "code",
   "execution_count": 23,
   "id": "94d37277",
   "metadata": {},
   "outputs": [
    {
     "data": {
      "text/plain": [
       "([<matplotlib.axis.XTick at 0x1f65555cf40>,\n",
       "  <matplotlib.axis.XTick at 0x1f65555cf10>,\n",
       "  <matplotlib.axis.XTick at 0x1f6555cccd0>,\n",
       "  <matplotlib.axis.XTick at 0x1f6555d7a00>,\n",
       "  <matplotlib.axis.XTick at 0x1f6555dd190>,\n",
       "  <matplotlib.axis.XTick at 0x1f6555dd1f0>,\n",
       "  <matplotlib.axis.XTick at 0x1f6555dda90>,\n",
       "  <matplotlib.axis.XTick at 0x1f65555c5e0>,\n",
       "  <matplotlib.axis.XTick at 0x1f6555ccb50>,\n",
       "  <matplotlib.axis.XTick at 0x1f6555f4d00>,\n",
       "  <matplotlib.axis.XTick at 0x1f6555f9490>,\n",
       "  <matplotlib.axis.XTick at 0x1f6555f9be0>,\n",
       "  <matplotlib.axis.XTick at 0x1f6555f9760>,\n",
       "  <matplotlib.axis.XTick at 0x1f6555f4d60>,\n",
       "  <matplotlib.axis.XTick at 0x1f6555ec7f0>,\n",
       "  <matplotlib.axis.XTick at 0x1f6555ff490>],\n",
       " [Text(0, 0, ''),\n",
       "  Text(0, 0, ''),\n",
       "  Text(0, 0, ''),\n",
       "  Text(0, 0, ''),\n",
       "  Text(0, 0, ''),\n",
       "  Text(0, 0, ''),\n",
       "  Text(0, 0, ''),\n",
       "  Text(0, 0, ''),\n",
       "  Text(0, 0, ''),\n",
       "  Text(0, 0, ''),\n",
       "  Text(0, 0, ''),\n",
       "  Text(0, 0, ''),\n",
       "  Text(0, 0, ''),\n",
       "  Text(0, 0, ''),\n",
       "  Text(0, 0, ''),\n",
       "  Text(0, 0, '')])"
      ]
     },
     "execution_count": 23,
     "metadata": {},
     "output_type": "execute_result"
    },
    {
     "data": {
      "image/png": "[encoded data removed]",
      "text/plain": [
       "<Figure size 432x288 with 1 Axes>"
      ]
     },
     "metadata": {
      "needs_background": "light"
     },
     "output_type": "display_data"
    }
   ],
   "source": [
    "sns.distplot(Wine_Quality[\"free sulfur dioxide\"])\n",
    "plt.xticks(range(0,80,5))\n",
    "# There is skewness to the right and the maximum free sulfur dioxide content lies between 5-10"
   ]
  },
  {
   "cell_type": "code",
   "execution_count": 24,
   "id": "85f14714",
   "metadata": {},
   "outputs": [
    {
     "data": {
      "text/plain": [
       "([<matplotlib.axis.XTick at 0x1f655622af0>,\n",
       "  <matplotlib.axis.XTick at 0x1f655622ac0>,\n",
       "  <matplotlib.axis.XTick at 0x1f655622190>,\n",
       "  <matplotlib.axis.XTick at 0x1f65565fac0>,\n",
       "  <matplotlib.axis.XTick at 0x1f655667250>,\n",
       "  <matplotlib.axis.XTick at 0x1f6556679a0>,\n",
       "  <matplotlib.axis.XTick at 0x1f65566e130>,\n",
       "  <matplotlib.axis.XTick at 0x1f65566e880>,\n",
       "  <matplotlib.axis.XTick at 0x1f6556710d0>,\n",
       "  <matplotlib.axis.XTick at 0x1f65566ebb0>,\n",
       "  <matplotlib.axis.XTick at 0x1f655667940>,\n",
       "  <matplotlib.axis.XTick at 0x1f655671760>,\n",
       "  <matplotlib.axis.XTick at 0x1f655671eb0>,\n",
       "  <matplotlib.axis.XTick at 0x1f65567d640>,\n",
       "  <matplotlib.axis.XTick at 0x1f65567dd90>],\n",
       " [Text(0, 0, ''),\n",
       "  Text(0, 0, ''),\n",
       "  Text(0, 0, ''),\n",
       "  Text(0, 0, ''),\n",
       "  Text(0, 0, ''),\n",
       "  Text(0, 0, ''),\n",
       "  Text(0, 0, ''),\n",
       "  Text(0, 0, ''),\n",
       "  Text(0, 0, ''),\n",
       "  Text(0, 0, ''),\n",
       "  Text(0, 0, ''),\n",
       "  Text(0, 0, ''),\n",
       "  Text(0, 0, ''),\n",
       "  Text(0, 0, ''),\n",
       "  Text(0, 0, '')])"
      ]
     },
     "execution_count": 24,
     "metadata": {},
     "output_type": "execute_result"
    },
    {
     "data": {
      "image/png": "[encoded data removed]",
      "text/plain": [
       "<Figure size 432x288 with 1 Axes>"
      ]
     },
     "metadata": {
      "needs_background": "light"
     },
     "output_type": "display_data"
    }
   ],
   "source": [
    "sns.boxplot(Wine_Quality[\"free sulfur dioxide\"])\n",
    "plt.xticks(range(0,75,5))\n",
    "# Outliers are present.\n",
    "#Minimum free sulfur dioxide is around 1 median free sulfur dioxide is around 15 amd maximum free sulfur dioxide is around 72"
   ]
  },
  {
   "cell_type": "code",
   "execution_count": 25,
   "id": "b7f1d5c5",
   "metadata": {},
   "outputs": [
    {
     "data": {
      "text/plain": [
       "<AxesSubplot:xlabel='total sulfur dioxide', ylabel='Density'>"
      ]
     },
     "execution_count": 25,
     "metadata": {},
     "output_type": "execute_result"
    },
    {
     "data": {
      "image/png": "[encoded data removed]",
      "text/plain": [
       "<Figure size 432x288 with 1 Axes>"
      ]
     },
     "metadata": {
      "needs_background": "light"
     },
     "output_type": "display_data"
    }
   ],
   "source": [
    "sns.distplot(Wine_Quality[\"total sulfur dioxide\"])\n",
    "# There is skewness to the right and the maximum free sulfur dioxide content is between 0 and 50"
   ]
  },
  {
   "cell_type": "code",
   "execution_count": 26,
   "id": "396ab05e",
   "metadata": {},
   "outputs": [
    {
     "data": {
      "text/plain": [
       "<AxesSubplot:xlabel='total sulfur dioxide'>"
      ]
     },
     "execution_count": 26,
     "metadata": {},
     "output_type": "execute_result"
    },
    {
     "data": {
      "image/png": "[encoded data removed]",
      "text/plain": [
       "<Figure size 432x288 with 1 Axes>"
      ]
     },
     "metadata": {
      "needs_background": "light"
     },
     "output_type": "display_data"
    }
   ],
   "source": [
    "sns.boxplot(Wine_Quality[\"total sulfur dioxide\"])\n",
    "# Outliers are present.\n",
    "#Minimum total sulfur dioxide is around 6 median free sulfur dioxide is around 38 amd maximum free sulfur dioxide is around 289"
   ]
  },
  {
   "cell_type": "code",
   "execution_count": 27,
   "id": "fe2a764c",
   "metadata": {},
   "outputs": [
    {
     "data": {
      "text/plain": [
       "<AxesSubplot:xlabel='density', ylabel='Density'>"
      ]
     },
     "execution_count": 27,
     "metadata": {},
     "output_type": "execute_result"
    },
    {
     "data": {
      "image/png": "[encoded data removed]",
      "text/plain": [
       "<Figure size 432x288 with 1 Axes>"
      ]
     },
     "metadata": {
      "needs_background": "light"
     },
     "output_type": "display_data"
    }
   ],
   "source": [
    "sns.distplot(Wine_Quality[\"density\"])\n",
    "# There is skewness to the left and the maximum density is between 0.996 to 0.998"
   ]
  },
  {
   "cell_type": "code",
   "execution_count": 28,
   "id": "5c88d52f",
   "metadata": {},
   "outputs": [
    {
     "data": {
      "text/plain": [
       "<AxesSubplot:xlabel='density'>"
      ]
     },
     "execution_count": 28,
     "metadata": {},
     "output_type": "execute_result"
    },
    {
     "data": {
      "image/png": "[encoded data removed]",
      "text/plain": [
       "<Figure size 432x288 with 1 Axes>"
      ]
     },
     "metadata": {
      "needs_background": "light"
     },
     "output_type": "display_data"
    }
   ],
   "source": [
    "sns.boxplot(Wine_Quality[\"density\"])\n",
    "# Outliers are present.\n",
    "#Minimum total density is around 0.990 median density is around 0.997 amd maximum density is around 1."
   ]
  },
  {
   "cell_type": "code",
   "execution_count": 29,
   "id": "fec687a9",
   "metadata": {},
   "outputs": [
    {
     "data": {
      "text/plain": [
       "<AxesSubplot:xlabel='pH', ylabel='Density'>"
      ]
     },
     "execution_count": 29,
     "metadata": {},
     "output_type": "execute_result"
    },
    {
     "data": {
      "image/png": "[encoded data removed]",
      "text/plain": [
       "<Figure size 432x288 with 1 Axes>"
      ]
     },
     "metadata": {
      "needs_background": "light"
     },
     "output_type": "display_data"
    }
   ],
   "source": [
    "sns.distplot(Wine_Quality[\"pH\"])\n",
    "# There is skewness to the right and the maximum pH is between 3.2 to 3.4"
   ]
  },
  {
   "cell_type": "code",
   "execution_count": 30,
   "id": "b30f6619",
   "metadata": {},
   "outputs": [
    {
     "data": {
      "text/plain": [
       "<AxesSubplot:xlabel='pH'>"
      ]
     },
     "execution_count": 30,
     "metadata": {},
     "output_type": "execute_result"
    },
    {
     "data": {
      "image/png": "[encoded data removed]",
      "text/plain": [
       "<Figure size 432x288 with 1 Axes>"
      ]
     },
     "metadata": {
      "needs_background": "light"
     },
     "output_type": "display_data"
    }
   ],
   "source": [
    "sns.boxplot(Wine_Quality[\"pH\"])\n",
    "# Outliers are present.\n",
    "#Minimum pH is around 2.7 median pH is around 3.31 amd maximum pH is around 4."
   ]
  },
  {
   "cell_type": "code",
   "execution_count": 31,
   "id": "5413b585",
   "metadata": {},
   "outputs": [
    {
     "data": {
      "text/plain": [
       "<AxesSubplot:xlabel='sulphates', ylabel='Density'>"
      ]
     },
     "execution_count": 31,
     "metadata": {},
     "output_type": "execute_result"
    },
    {
     "data": {
      "image/png": "[encoded data removed]",
      "text/plain": [
       "<Figure size 432x288 with 1 Axes>"
      ]
     },
     "metadata": {
      "needs_background": "light"
     },
     "output_type": "display_data"
    }
   ],
   "source": [
    "sns.distplot(Wine_Quality[\"sulphates\"])\n",
    "# There is skewness to the right and the maximum sulphate content is between 3.2 to 3.4"
   ]
  },
  {
   "cell_type": "code",
   "execution_count": 32,
   "id": "18d9f1cf",
   "metadata": {},
   "outputs": [
    {
     "data": {
      "text/plain": [
       "<AxesSubplot:xlabel='sulphates'>"
      ]
     },
     "execution_count": 32,
     "metadata": {},
     "output_type": "execute_result"
    },
    {
     "data": {
      "image/png": "[encoded data removed]",
      "text/plain": [
       "<Figure size 432x288 with 1 Axes>"
      ]
     },
     "metadata": {
      "needs_background": "light"
     },
     "output_type": "display_data"
    }
   ],
   "source": [
    "sns.boxplot(Wine_Quality[\"sulphates\"])\n",
    "# Outliers are present.\n",
    "#Minimum sulphate content is around .33 median pH is around 0.62 amd maximum pH is around 2"
   ]
  },
  {
   "cell_type": "code",
   "execution_count": 33,
   "id": "2322285e",
   "metadata": {},
   "outputs": [
    {
     "data": {
      "text/plain": [
       "<AxesSubplot:xlabel='alcohol', ylabel='Density'>"
      ]
     },
     "execution_count": 33,
     "metadata": {},
     "output_type": "execute_result"
    },
    {
     "data": {
      "image/png": "[encoded data removed]",
      "text/plain": [
       "<Figure size 432x288 with 1 Axes>"
      ]
     },
     "metadata": {
      "needs_background": "light"
     },
     "output_type": "display_data"
    }
   ],
   "source": [
    "sns.distplot(Wine_Quality[\"alcohol\"])\n",
    "# There is skewness to the right and the maximum alcohol content is between 9 to 10"
   ]
  },
  {
   "cell_type": "code",
   "execution_count": 34,
   "id": "24f7bcf3",
   "metadata": {},
   "outputs": [
    {
     "data": {
      "text/plain": [
       "<AxesSubplot:xlabel='alcohol'>"
      ]
     },
     "execution_count": 34,
     "metadata": {},
     "output_type": "execute_result"
    },
    {
     "data": {
      "image/png": "[encoded data removed]",
      "text/plain": [
       "<Figure size 432x288 with 1 Axes>"
      ]
     },
     "metadata": {
      "needs_background": "light"
     },
     "output_type": "display_data"
    }
   ],
   "source": [
    "sns.boxplot(Wine_Quality[\"alcohol\"])\n",
    "# Outliers are present.\n",
    "#Minimum sulphate content is around 8.4 median pH is around 10.2 amd maximum pH is around 14.9"
   ]
  },
  {
   "cell_type": "code",
   "execution_count": 35,
   "id": "2b2ccd83",
   "metadata": {},
   "outputs": [],
   "source": [
    "#Lets perform bivariate analysis"
   ]
  },
  {
   "cell_type": "code",
   "execution_count": 36,
   "id": "eca4ecf2",
   "metadata": {},
   "outputs": [
    {
     "data": {
      "text/plain": [
       "<seaborn.axisgrid.FacetGrid at 0x1f655c37160>"
      ]
     },
     "execution_count": 36,
     "metadata": {},
     "output_type": "execute_result"
    },
    {
     "data": {
      "image/png": "[encoded data removed]",
      "text/plain": [
       "<Figure size 360x360 with 1 Axes>"
      ]
     },
     "metadata": {
      "needs_background": "light"
     },
     "output_type": "display_data"
    }
   ],
   "source": [
    "sns.catplot(x=\"quality\",y=\"fixed acidity\",kind=\"box\",data=Wine_Quality)\n",
    "#the median is highest when quality is 7 where the fixed acidity is around 9.\n",
    "#the maximum outliers are present when the quality is 5\n",
    "#the range between minimum and maximum values is the most when quality is 6 and 7"
   ]
  },
  {
   "cell_type": "code",
   "execution_count": 37,
   "id": "bc8b0126",
   "metadata": {},
   "outputs": [
    {
     "data": {
      "text/plain": [
       "<seaborn.axisgrid.FacetGrid at 0x1f655c972e0>"
      ]
     },
     "execution_count": 37,
     "metadata": {},
     "output_type": "execute_result"
    },
    {
     "data": {
      "image/png": "[encoded data removed]",
      "text/plain": [
       "<Figure size 360x360 with 1 Axes>"
      ]
     },
     "metadata": {
      "needs_background": "light"
     },
     "output_type": "display_data"
    }
   ],
   "source": [
    "sns.catplot(x=\"quality\",y=\"volatile acidity\",kind=\"box\",data=Wine_Quality)\n",
    "#the maximum outliers are present when the quality is 5\n",
    "#the median is highest when quality is 3 where volatile acidity is 0.85\n",
    "#the range between minimum and maximum values is the most when quality is 4"
   ]
  },
  {
   "cell_type": "code",
   "execution_count": 38,
   "id": "75ce73d0",
   "metadata": {},
   "outputs": [
    {
     "data": {
      "text/plain": [
       "<seaborn.axisgrid.FacetGrid at 0x1f656d446a0>"
      ]
     },
     "execution_count": 38,
     "metadata": {},
     "output_type": "execute_result"
    },
    {
     "data": {
      "image/png": "[encoded data removed]",
      "text/plain": [
       "<Figure size 360x360 with 1 Axes>"
      ]
     },
     "metadata": {
      "needs_background": "light"
     },
     "output_type": "display_data"
    }
   ],
   "source": [
    "sns.catplot(x=\"quality\",y=\"citric acid\",kind=\"box\",data=Wine_Quality)\n",
    "#the median is the highest when quality is 8 where citric acid content is around 0.4\n",
    "#the range between the minimum and maximum values is the most when quality is 6"
   ]
  },
  {
   "cell_type": "code",
   "execution_count": 39,
   "id": "0fec10a8",
   "metadata": {},
   "outputs": [
    {
     "data": {
      "text/plain": [
       "<seaborn.axisgrid.FacetGrid at 0x1f656db8940>"
      ]
     },
     "execution_count": 39,
     "metadata": {},
     "output_type": "execute_result"
    },
    {
     "data": {
      "image/png": "[encoded data removed]",
      "text/plain": [
       "<Figure size 360x360 with 1 Axes>"
      ]
     },
     "metadata": {
      "needs_background": "light"
     },
     "output_type": "display_data"
    }
   ],
   "source": [
    "sns.catplot(x=\"quality\",y=\"residual sugar\",kind=\"box\",data=Wine_Quality)\n",
    "#the outliers are highest when the quality is 5 and 6\n",
    "#the median is the highest when quality is 7 where the residual sugar is 2.3"
   ]
  },
  {
   "cell_type": "code",
   "execution_count": 40,
   "id": "9c23f4de",
   "metadata": {},
   "outputs": [
    {
     "data": {
      "text/plain": [
       "<seaborn.axisgrid.FacetGrid at 0x1f655c37eb0>"
      ]
     },
     "execution_count": 40,
     "metadata": {},
     "output_type": "execute_result"
    },
    {
     "data": {
      "image/png": "[encoded data removed]",
      "text/plain": [
       "<Figure size 360x360 with 1 Axes>"
      ]
     },
     "metadata": {
      "needs_background": "light"
     },
     "output_type": "display_data"
    }
   ],
   "source": [
    "sns.catplot(x=\"quality\",y=\"chlorides\",kind=\"box\",data=Wine_Quality)\n",
    "#the outliers are highest when the quality is 5\n",
    "#median is the highest when the quality is 3 where chloride content is 0.08."
   ]
  },
  {
   "cell_type": "code",
   "execution_count": 41,
   "id": "36fc93bd",
   "metadata": {},
   "outputs": [
    {
     "data": {
      "text/plain": [
       "<seaborn.axisgrid.FacetGrid at 0x1f656d4be50>"
      ]
     },
     "execution_count": 41,
     "metadata": {},
     "output_type": "execute_result"
    },
    {
     "data": {
      "image/png": "[encoded data removed]",
      "text/plain": [
       "<Figure size 360x360 with 1 Axes>"
      ]
     },
     "metadata": {
      "needs_background": "light"
     },
     "output_type": "display_data"
    }
   ],
   "source": [
    "sns.catplot(x=\"quality\",y=\"free sulfur dioxide\",kind=\"box\",data=Wine_Quality)\n",
    "#the outliers are highest when the quality is 5 and 6\n",
    "#median is the highest when the quality is 5 where free sulfur dioxide content is 14"
   ]
  },
  {
   "cell_type": "code",
   "execution_count": 42,
   "id": "311817cd",
   "metadata": {},
   "outputs": [
    {
     "data": {
      "text/plain": [
       "<seaborn.axisgrid.FacetGrid at 0x1f657123f70>"
      ]
     },
     "execution_count": 42,
     "metadata": {},
     "output_type": "execute_result"
    },
    {
     "data": {
      "image/png": "[encoded data removed]",
      "text/plain": [
       "<Figure size 360x360 with 1 Axes>"
      ]
     },
     "metadata": {
      "needs_background": "light"
     },
     "output_type": "display_data"
    }
   ],
   "source": [
    "sns.catplot(x=\"quality\",y=\"total sulfur dioxide\",kind=\"box\",data=Wine_Quality)\n",
    "#the outliers are highest when the quality is 6 and 7\n",
    "#median is the highest when the quality is 5 where total sulfur dioxide content is 38"
   ]
  },
  {
   "cell_type": "code",
   "execution_count": 43,
   "id": "62c75dff",
   "metadata": {},
   "outputs": [
    {
     "data": {
      "text/plain": [
       "<seaborn.axisgrid.FacetGrid at 0x1f657039910>"
      ]
     },
     "execution_count": 43,
     "metadata": {},
     "output_type": "execute_result"
    },
    {
     "data": {
      "image/png": "[encoded data removed]",
      "text/plain": [
       "<Figure size 360x360 with 1 Axes>"
      ]
     },
     "metadata": {
      "needs_background": "light"
     },
     "output_type": "display_data"
    }
   ],
   "source": [
    "sns.catplot(x=\"quality\",y=\"density\",kind=\"box\",data=Wine_Quality)\n",
    "#the outliers are highest when the quality is 5\n",
    "#median is the highest when the quality is 3 where density is 0.996"
   ]
  },
  {
   "cell_type": "code",
   "execution_count": 44,
   "id": "e5980994",
   "metadata": {},
   "outputs": [
    {
     "data": {
      "text/plain": [
       "<seaborn.axisgrid.FacetGrid at 0x1f656f7dd60>"
      ]
     },
     "execution_count": 44,
     "metadata": {},
     "output_type": "execute_result"
    },
    {
     "data": {
      "image/png": "[encoded data removed]",
      "text/plain": [
       "<Figure size 360x360 with 1 Axes>"
      ]
     },
     "metadata": {
      "needs_background": "light"
     },
     "output_type": "display_data"
    }
   ],
   "source": [
    "sns.catplot(x=\"quality\",y=\"pH\",kind=\"box\",data=Wine_Quality)\n",
    "#the outliers are highest when the quality is 6\n",
    "#median is the highest when the quality is 3 where pH is 3.3"
   ]
  },
  {
   "cell_type": "code",
   "execution_count": 45,
   "id": "6fe81678",
   "metadata": {},
   "outputs": [
    {
     "data": {
      "text/plain": [
       "<seaborn.axisgrid.FacetGrid at 0x1f6572e1f70>"
      ]
     },
     "execution_count": 45,
     "metadata": {},
     "output_type": "execute_result"
    },
    {
     "data": {
      "image/png": "[encoded data removed]",
      "text/plain": [
       "<Figure size 360x360 with 1 Axes>"
      ]
     },
     "metadata": {
      "needs_background": "light"
     },
     "output_type": "display_data"
    }
   ],
   "source": [
    "sns.catplot(x=\"quality\",y=\"sulphates\",kind=\"box\",data=Wine_Quality)\n",
    "#the outliers are highest when the quality is 5\n",
    "#median is the highest when the quality is 7 where pH is 0.62"
   ]
  },
  {
   "cell_type": "code",
   "execution_count": 46,
   "id": "fbd1f986",
   "metadata": {},
   "outputs": [
    {
     "data": {
      "text/plain": [
       "<seaborn.axisgrid.FacetGrid at 0x1f657212970>"
      ]
     },
     "execution_count": 46,
     "metadata": {},
     "output_type": "execute_result"
    },
    {
     "data": {
      "image/png": "[encoded data removed]",
      "text/plain": [
       "<Figure size 360x360 with 1 Axes>"
      ]
     },
     "metadata": {
      "needs_background": "light"
     },
     "output_type": "display_data"
    }
   ],
   "source": [
    "sns.catplot(x=\"quality\",y=\"alcohol\",kind=\"box\",data=Wine_Quality)\n",
    "#the outliers are highest when the quality is 5\n",
    "#median is the highest when the quality is 8 where alcohol content is 10.2"
   ]
  },
  {
   "cell_type": "code",
   "execution_count": 48,
   "id": "ad5620ef",
   "metadata": {},
   "outputs": [],
   "source": [
    "#Lets remove outliers. First lets try the zscore method to remove the outliers.\n"
   ]
  },
  {
   "cell_type": "code",
   "execution_count": null,
   "id": "c093fc0b",
   "metadata": {},
   "outputs": [],
   "source": [
    "zscore(Wine_Quality) z=np.abs(zscore(Wine_Quality)) print(z) print(np.where(z>3)) Wine_Quality_N=Wine_Quality[(z<3).all(axis=1)]\n",
    "\n",
    "Wine_Quality_N.shape"
   ]
  },
  {
   "cell_type": "code",
   "execution_count": 50,
   "id": "12482351",
   "metadata": {},
   "outputs": [
    {
     "name": "stdout",
     "output_type": "stream",
     "text": [
      "7.1 9.2 2.0999999999999996\n",
      "0.39 0.64 0.25\n",
      "1.9 2.6 0.7000000000000002\n",
      "0.07 0.09 0.01999999999999999\n",
      "7.0 21.0 14.0\n",
      "22.0 62.0 40.0\n",
      "0.9956 0.997835 0.002234999999999987\n",
      "3.21 3.4 0.18999999999999995\n",
      "0.55 0.73 0.17999999999999994\n",
      "9.5 11.1 1.5999999999999996\n"
     ]
    }
   ],
   "source": [
    "#We cannot use zscore to eliminate outliers as after using zscore, we are losing around 10% of the data. Hence we will use IQR method to treat the outliers\n",
    "\n",
    "#Lets remove the outliers using IQR method\n",
    "#Removing outliers from fixed acidity\n",
    "\n",
    "Q1_1=Wine_Quality[\"fixed acidity\"].quantile(0.25)\n",
    "Q3_1=Wine_Quality[\"fixed acidity\"].quantile(0.75)\n",
    "IQR1=Q3_1-Q1_1\n",
    "print(Q1_1,Q3_1,IQR1)\n",
    "lower_boundary_1=Q1_1-(1.5*IQR1)\n",
    "upper_boundary_1=Q3_1+(1.5*IQR1)\n",
    "Wine_Quality[\"fixed acidity\"].values[Wine_Quality[\"fixed acidity\"]>upper_boundary_1]=np.NaN\n",
    "\n",
    "#Removing outliers from volatile acidity\n",
    "Q1_2=Wine_Quality[\"volatile acidity\"].quantile(0.25)\n",
    "Q3_2=Wine_Quality[\"volatile acidity\"].quantile(0.75)\n",
    "IQR2=Q3_2-Q1_2\n",
    "print(Q1_2,Q3_2,IQR2)\n",
    "lower_boundary_2=Q1_2-(1.5*IQR2)\n",
    "upper_boundary_2=Q3_2+(1.5*IQR2)\n",
    "Wine_Quality[\"volatile acidity\"].values[Wine_Quality[\"volatile acidity\"]>upper_boundary_2]=np.NaN\n",
    "\n",
    "#Removing outliers from residual sugar\n",
    "Q1_3=Wine_Quality[\"residual sugar\"].quantile(0.25)\n",
    "Q3_3=Wine_Quality[\"residual sugar\"].quantile(0.75)\n",
    "IQR3=Q3_3-Q1_3\n",
    "print(Q1_3,Q3_3,IQR3)\n",
    "lower_boundary_3=Q1_3-(1.5*IQR3)\n",
    "upper_boundary_3=Q3_3+(1.5*IQR3)\n",
    "Wine_Quality[\"residual sugar\"].values[Wine_Quality[\"residual sugar\"]>upper_boundary_3]=np.NaN\n",
    "\n",
    "\n",
    "#Removing outliers from chlorides\n",
    "Q1_4=Wine_Quality[\"chlorides\"].quantile(0.25)\n",
    "Q3_4=Wine_Quality[\"chlorides\"].quantile(0.75)\n",
    "IQR4=Q3_4-Q1_4\n",
    "print(Q1_4,Q3_4,IQR4)\n",
    "lower_boundary_4=Q1_4-(1.5*IQR4)\n",
    "upper_boundary_4=Q3_4+(1.5*IQR4)\n",
    "Wine_Quality[\"chlorides\"].values[Wine_Quality[\"chlorides\"]>upper_boundary_4]=np.NaN\n",
    "Wine_Quality[\"chlorides\"].values[Wine_Quality[\"chlorides\"]<lower_boundary_4]=np.NaN\n",
    "\n",
    "#Removing outliers from free sulfur dioxide\n",
    "Q1_5=Wine_Quality[\"free sulfur dioxide\"].quantile(0.25)\n",
    "Q3_5=Wine_Quality[\"free sulfur dioxide\"].quantile(0.75)\n",
    "IQR5=Q3_5-Q1_5\n",
    "print(Q1_5,Q3_5,IQR5)\n",
    "lower_boundary_5=Q1_5-(1.5*IQR5)\n",
    "upper_boundary_5=Q3_5+(1.5*IQR5)\n",
    "Wine_Quality[\"free sulfur dioxide\"].values[Wine_Quality[\"free sulfur dioxide\"]>upper_boundary_5]=np.NaN\n",
    "\n",
    "#Removing outliers from total sulfur dioxide\n",
    "Q1_6=Wine_Quality[\"total sulfur dioxide\"].quantile(0.25)\n",
    "Q3_6=Wine_Quality[\"total sulfur dioxide\"].quantile(0.75)\n",
    "IQR6=Q3_6-Q1_6\n",
    "print(Q1_6,Q3_6,IQR6)\n",
    "lower_boundary_6=Q1_6-(1.5*IQR6)\n",
    "upper_boundary_6=Q3_6+(1.5*IQR6)\n",
    "Wine_Quality[\"total sulfur dioxide\"].values[Wine_Quality[\"total sulfur dioxide\"]>upper_boundary_6]=np.NaN\n",
    "\n",
    "#Removing outliers from density\n",
    "Q1_7=Wine_Quality[\"density\"].quantile(0.25)\n",
    "Q3_7=Wine_Quality[\"density\"].quantile(0.75)\n",
    "IQR7=Q3_7-Q1_7\n",
    "print(Q1_7,Q3_7,IQR7)\n",
    "lower_boundary_7=Q1_7-(1.5*IQR7)\n",
    "upper_boundary_7=Q3_7+(1.5*IQR7)\n",
    "Wine_Quality[\"density\"].values[Wine_Quality[\"density\"]>upper_boundary_7]=np.NaN\n",
    "Wine_Quality[\"density\"].values[Wine_Quality[\"density\"]<lower_boundary_7]=np.NaN\n",
    "\n",
    "#Removing outliers from pH\n",
    "Q1_8=Wine_Quality[\"pH\"].quantile(0.25)\n",
    "Q3_8=Wine_Quality[\"pH\"].quantile(0.75)\n",
    "IQR8=Q3_8-Q1_8\n",
    "print(Q1_8,Q3_8,IQR8)\n",
    "lower_boundary_8=Q1_8-(1.5*IQR8)\n",
    "upper_boundary_8=Q3_8+(1.5*IQR8)\n",
    "Wine_Quality[\"pH\"].values[Wine_Quality[\"pH\"]>upper_boundary_8]=np.NaN\n",
    "Wine_Quality[\"pH\"].values[Wine_Quality[\"pH\"]<lower_boundary_8]=np.NaN\n",
    "\n",
    "#Removing outliers from sulphates\n",
    "Q1_9=Wine_Quality[\"sulphates\"].quantile(0.25)\n",
    "Q3_9=Wine_Quality[\"sulphates\"].quantile(0.75)\n",
    "IQR9=Q3_9-Q1_9\n",
    "print(Q1_9,Q3_9,IQR9)\n",
    "lower_boundary_9=Q1_9-(1.5*IQR9)\n",
    "upper_boundary_9=Q3_9+(1.5*IQR9)\n",
    "Wine_Quality[\"sulphates\"].values[Wine_Quality[\"sulphates\"]>upper_boundary_9]=np.NaN\n",
    "\n",
    "#Removing outliers from sulphates\n",
    "Q1_10=Wine_Quality[\"alcohol\"].quantile(0.25)\n",
    "Q3_10=Wine_Quality[\"alcohol\"].quantile(0.75)\n",
    "IQR10=Q3_10-Q1_10\n",
    "print(Q1_10,Q3_10,IQR10)\n",
    "lower_boundary_10=Q1_10-(1.5*IQR10)\n",
    "upper_boundary_10=Q3_10+(1.5*IQR10)\n",
    "Wine_Quality[\"alcohol\"].values[Wine_Quality[\"alcohol\"]>upper_boundary_10]=np.NaN"
   ]
  },
  {
   "cell_type": "code",
   "execution_count": 51,
   "id": "da7105b7",
   "metadata": {},
   "outputs": [],
   "source": [
    "#Lets replace these nan values with median\n",
    "Wine_Quality[\"fixed acidity\"]=Wine_Quality[\"fixed acidity\"].fillna(Wine_Quality[\"fixed acidity\"].median())\n",
    "Wine_Quality[\"volatile acidity\"]=Wine_Quality[\"volatile acidity\"].fillna(Wine_Quality[\"volatile acidity\"].median())\n",
    "Wine_Quality[\"residual sugar\"]=Wine_Quality[\"residual sugar\"].fillna(Wine_Quality[\"residual sugar\"].median())\n",
    "Wine_Quality[\"chlorides\"]=Wine_Quality[\"chlorides\"].fillna(Wine_Quality[\"chlorides\"].median())\n",
    "Wine_Quality[\"free sulfur dioxide\"]=Wine_Quality[\"free sulfur dioxide\"].fillna(Wine_Quality[\"free sulfur dioxide\"].median())\n",
    "Wine_Quality[\"total sulfur dioxide\"]=Wine_Quality[\"total sulfur dioxide\"].fillna(Wine_Quality[\"total sulfur dioxide\"].median())\n",
    "Wine_Quality[\"density\"]=Wine_Quality[\"density\"].fillna(Wine_Quality[\"density\"].median())\n",
    "Wine_Quality[\"pH\"]=Wine_Quality[\"pH\"].fillna(Wine_Quality[\"pH\"].median())\n",
    "Wine_Quality[\"sulphates\"]=Wine_Quality[\"sulphates\"].fillna(Wine_Quality[\"sulphates\"].median())\n",
    "Wine_Quality[\"alcohol\"]=Wine_Quality[\"alcohol\"].fillna(Wine_Quality[\"alcohol\"].median())"
   ]
  },
  {
   "cell_type": "code",
   "execution_count": 52,
   "id": "566d7eff",
   "metadata": {},
   "outputs": [
    {
     "data": {
      "text/plain": [
       "fixed acidity           0.614884\n",
       "volatile acidity        0.289724\n",
       "citric acid             0.318337\n",
       "residual sugar          0.659258\n",
       "chlorides               0.209787\n",
       "free sulfur dioxide     0.800180\n",
       "total sulfur dioxide    0.951899\n",
       "density                 0.018819\n",
       "pH                      0.030546\n",
       "sulphates               0.612119\n",
       "alcohol                 0.741352\n",
       "quality                 0.217802\n",
       "dtype: float64"
      ]
     },
     "execution_count": 52,
     "metadata": {},
     "output_type": "execute_result"
    }
   ],
   "source": [
    "#Lets check the sknewss of the columns\n",
    "Wine_Quality.skew()"
   ]
  },
  {
   "cell_type": "code",
   "execution_count": 53,
   "id": "6f55fb98",
   "metadata": {},
   "outputs": [],
   "source": [
    "#Lets remove the skewness\n",
    "Wine_Quality[\"fixed acidity\"]=power_transform(Wine_Quality[\"fixed acidity\"].values.reshape(-1,1))\n",
    "Wine_Quality[\"residual sugar\"]=power_transform(Wine_Quality[\"residual sugar\"].values.reshape(-1,1))\n",
    "Wine_Quality[\"free sulfur dioxide\"]=power_transform(Wine_Quality[\"free sulfur dioxide\"].values.reshape(-1,1))\n",
    "Wine_Quality[\"total sulfur dioxide\"]=power_transform(Wine_Quality[\"total sulfur dioxide\"].values.reshape(-1,1))\n",
    "Wine_Quality[\"sulphates\"]=power_transform(Wine_Quality[\"sulphates\"].values.reshape(-1,1))\n",
    "Wine_Quality[\"alcohol\"]=power_transform(Wine_Quality[\"alcohol\"].values.reshape(-1,1))"
   ]
  },
  {
   "cell_type": "code",
   "execution_count": 54,
   "id": "6c8ca9eb",
   "metadata": {},
   "outputs": [
    {
     "data": {
      "text/plain": [
       "fixed acidity           0.003196\n",
       "volatile acidity        0.289724\n",
       "citric acid             0.318337\n",
       "residual sugar         -0.008372\n",
       "chlorides               0.209787\n",
       "free sulfur dioxide    -0.025675\n",
       "total sulfur dioxide   -0.018593\n",
       "density                 0.018819\n",
       "pH                      0.030546\n",
       "sulphates               0.018667\n",
       "alcohol                 0.106685\n",
       "quality                 0.217802\n",
       "dtype: float64"
      ]
     },
     "execution_count": 54,
     "metadata": {},
     "output_type": "execute_result"
    }
   ],
   "source": [
    "#The skewness has been removed\n",
    "Wine_Quality.skew()"
   ]
  },
  {
   "cell_type": "code",
   "execution_count": 55,
   "id": "489e7e19",
   "metadata": {},
   "outputs": [
    {
     "data": {
      "text/plain": [
       "quality                 1.000000\n",
       "alcohol                 0.454704\n",
       "sulphates               0.393424\n",
       "citric acid             0.226373\n",
       "fixed acidity           0.094788\n",
       "residual sugar          0.037331\n",
       "free sulfur dioxide    -0.047534\n",
       "pH                     -0.075837\n",
       "total sulfur dioxide   -0.151051\n",
       "chlorides              -0.161069\n",
       "density                -0.164229\n",
       "volatile acidity       -0.356247\n",
       "Name: quality, dtype: float64"
      ]
     },
     "execution_count": 55,
     "metadata": {},
     "output_type": "execute_result"
    }
   ],
   "source": [
    "Wine_Quality_corr=Wine_Quality.corr()\n",
    "Wine_Quality_corr[\"quality\"].sort_values(ascending=False)"
   ]
  },
  {
   "cell_type": "code",
   "execution_count": 56,
   "id": "e496046b",
   "metadata": {},
   "outputs": [],
   "source": [
    "#Lets start machine learning now by separating x and y variables"
   ]
  },
  {
   "cell_type": "code",
   "execution_count": 57,
   "id": "99efdadd",
   "metadata": {},
   "outputs": [
    {
     "data": {
      "text/html": [
       "<div>\n",
       "<style scoped>\n",
       "    .dataframe tbody tr th:only-of-type {\n",
       "        vertical-align: middle;\n",
       "    }\n",
       "\n",
       "    .dataframe tbody tr th {\n",
       "        vertical-align: top;\n",
       "    }\n",
       "\n",
       "    .dataframe thead th {\n",
       "        text-align: right;\n",
       "    }\n",
       "</style>\n",
       "<table border=\"1\" class=\"dataframe\">\n",
       "  <thead>\n",
       "    <tr style=\"text-align: right;\">\n",
       "      <th></th>\n",
       "      <th>fixed acidity</th>\n",
       "      <th>volatile acidity</th>\n",
       "      <th>citric acid</th>\n",
       "      <th>residual sugar</th>\n",
       "      <th>chlorides</th>\n",
       "      <th>free sulfur dioxide</th>\n",
       "      <th>total sulfur dioxide</th>\n",
       "      <th>density</th>\n",
       "      <th>pH</th>\n",
       "      <th>sulphates</th>\n",
       "      <th>alcohol</th>\n",
       "    </tr>\n",
       "  </thead>\n",
       "  <tbody>\n",
       "    <tr>\n",
       "      <th>0</th>\n",
       "      <td>-0.431292</td>\n",
       "      <td>0.700</td>\n",
       "      <td>0.00</td>\n",
       "      <td>-0.596165</td>\n",
       "      <td>0.076</td>\n",
       "      <td>-0.263053</td>\n",
       "      <td>-0.090379</td>\n",
       "      <td>0.99780</td>\n",
       "      <td>3.51</td>\n",
       "      <td>-0.590941</td>\n",
       "      <td>-1.075234</td>\n",
       "    </tr>\n",
       "    <tr>\n",
       "      <th>1</th>\n",
       "      <td>-0.131363</td>\n",
       "      <td>0.880</td>\n",
       "      <td>0.00</td>\n",
       "      <td>1.025935</td>\n",
       "      <td>0.098</td>\n",
       "      <td>1.095365</td>\n",
       "      <td>0.997467</td>\n",
       "      <td>0.99680</td>\n",
       "      <td>3.20</td>\n",
       "      <td>0.487825</td>\n",
       "      <td>-0.495281</td>\n",
       "    </tr>\n",
       "    <tr>\n",
       "      <th>2</th>\n",
       "      <td>-0.131363</td>\n",
       "      <td>0.760</td>\n",
       "      <td>0.04</td>\n",
       "      <td>0.390955</td>\n",
       "      <td>0.092</td>\n",
       "      <td>0.223027</td>\n",
       "      <td>0.640740</td>\n",
       "      <td>0.99700</td>\n",
       "      <td>3.26</td>\n",
       "      <td>0.242749</td>\n",
       "      <td>-0.495281</td>\n",
       "    </tr>\n",
       "    <tr>\n",
       "      <th>3</th>\n",
       "      <td>1.799527</td>\n",
       "      <td>0.280</td>\n",
       "      <td>0.56</td>\n",
       "      <td>-0.596165</td>\n",
       "      <td>0.075</td>\n",
       "      <td>0.428526</td>\n",
       "      <td>0.813720</td>\n",
       "      <td>0.99800</td>\n",
       "      <td>3.16</td>\n",
       "      <td>-0.391722</td>\n",
       "      <td>-0.495281</td>\n",
       "    </tr>\n",
       "    <tr>\n",
       "      <th>4</th>\n",
       "      <td>-0.431292</td>\n",
       "      <td>0.700</td>\n",
       "      <td>0.00</td>\n",
       "      <td>-0.596165</td>\n",
       "      <td>0.076</td>\n",
       "      <td>-0.263053</td>\n",
       "      <td>-0.090379</td>\n",
       "      <td>0.99780</td>\n",
       "      <td>3.51</td>\n",
       "      <td>-0.590941</td>\n",
       "      <td>-1.075234</td>\n",
       "    </tr>\n",
       "    <tr>\n",
       "      <th>...</th>\n",
       "      <td>...</td>\n",
       "      <td>...</td>\n",
       "      <td>...</td>\n",
       "      <td>...</td>\n",
       "      <td>...</td>\n",
       "      <td>...</td>\n",
       "      <td>...</td>\n",
       "      <td>...</td>\n",
       "      <td>...</td>\n",
       "      <td>...</td>\n",
       "      <td>...</td>\n",
       "    </tr>\n",
       "    <tr>\n",
       "      <th>1594</th>\n",
       "      <td>-1.473454</td>\n",
       "      <td>0.600</td>\n",
       "      <td>0.08</td>\n",
       "      <td>-0.331931</td>\n",
       "      <td>0.090</td>\n",
       "      <td>1.548952</td>\n",
       "      <td>0.311380</td>\n",
       "      <td>0.99490</td>\n",
       "      <td>3.45</td>\n",
       "      <td>-0.391722</td>\n",
       "      <td>0.311921</td>\n",
       "    </tr>\n",
       "    <tr>\n",
       "      <th>1595</th>\n",
       "      <td>-1.774767</td>\n",
       "      <td>0.550</td>\n",
       "      <td>0.10</td>\n",
       "      <td>0.160743</td>\n",
       "      <td>0.062</td>\n",
       "      <td>1.927656</td>\n",
       "      <td>0.547903</td>\n",
       "      <td>0.99512</td>\n",
       "      <td>3.52</td>\n",
       "      <td>1.074093</td>\n",
       "      <td>0.922397</td>\n",
       "    </tr>\n",
       "    <tr>\n",
       "      <th>1596</th>\n",
       "      <td>-1.377089</td>\n",
       "      <td>0.510</td>\n",
       "      <td>0.13</td>\n",
       "      <td>0.390955</td>\n",
       "      <td>0.076</td>\n",
       "      <td>1.365561</td>\n",
       "      <td>0.161188</td>\n",
       "      <td>0.99574</td>\n",
       "      <td>3.42</td>\n",
       "      <td>1.005719</td>\n",
       "      <td>0.764422</td>\n",
       "    </tr>\n",
       "    <tr>\n",
       "      <th>1597</th>\n",
       "      <td>-1.774767</td>\n",
       "      <td>0.645</td>\n",
       "      <td>0.12</td>\n",
       "      <td>-0.331931</td>\n",
       "      <td>0.075</td>\n",
       "      <td>1.548952</td>\n",
       "      <td>0.311380</td>\n",
       "      <td>0.99547</td>\n",
       "      <td>3.57</td>\n",
       "      <td>0.718556</td>\n",
       "      <td>-0.005872</td>\n",
       "    </tr>\n",
       "    <tr>\n",
       "      <th>1598</th>\n",
       "      <td>-1.672221</td>\n",
       "      <td>0.310</td>\n",
       "      <td>0.47</td>\n",
       "      <td>2.694100</td>\n",
       "      <td>0.067</td>\n",
       "      <td>0.524151</td>\n",
       "      <td>0.237827</td>\n",
       "      <td>0.99549</td>\n",
       "      <td>3.39</td>\n",
       "      <td>0.326105</td>\n",
       "      <td>0.764422</td>\n",
       "    </tr>\n",
       "  </tbody>\n",
       "</table>\n",
       "<p>1599 rows × 11 columns</p>\n",
       "</div>"
      ],
      "text/plain": [
       "      fixed acidity  volatile acidity  citric acid  residual sugar  chlorides  \\\n",
       "0         -0.431292             0.700         0.00       -0.596165      0.076   \n",
       "1         -0.131363             0.880         0.00        1.025935      0.098   \n",
       "2         -0.131363             0.760         0.04        0.390955      0.092   \n",
       "3          1.799527             0.280         0.56       -0.596165      0.075   \n",
       "4         -0.431292             0.700         0.00       -0.596165      0.076   \n",
       "...             ...               ...          ...             ...        ...   \n",
       "1594      -1.473454             0.600         0.08       -0.331931      0.090   \n",
       "1595      -1.774767             0.550         0.10        0.160743      0.062   \n",
       "1596      -1.377089             0.510         0.13        0.390955      0.076   \n",
       "1597      -1.774767             0.645         0.12       -0.331931      0.075   \n",
       "1598      -1.672221             0.310         0.47        2.694100      0.067   \n",
       "\n",
       "      free sulfur dioxide  total sulfur dioxide  density    pH  sulphates  \\\n",
       "0               -0.263053             -0.090379  0.99780  3.51  -0.590941   \n",
       "1                1.095365              0.997467  0.99680  3.20   0.487825   \n",
       "2                0.223027              0.640740  0.99700  3.26   0.242749   \n",
       "3                0.428526              0.813720  0.99800  3.16  -0.391722   \n",
       "4               -0.263053             -0.090379  0.99780  3.51  -0.590941   \n",
       "...                   ...                   ...      ...   ...        ...   \n",
       "1594             1.548952              0.311380  0.99490  3.45  -0.391722   \n",
       "1595             1.927656              0.547903  0.99512  3.52   1.074093   \n",
       "1596             1.365561              0.161188  0.99574  3.42   1.005719   \n",
       "1597             1.548952              0.311380  0.99547  3.57   0.718556   \n",
       "1598             0.524151              0.237827  0.99549  3.39   0.326105   \n",
       "\n",
       "       alcohol  \n",
       "0    -1.075234  \n",
       "1    -0.495281  \n",
       "2    -0.495281  \n",
       "3    -0.495281  \n",
       "4    -1.075234  \n",
       "...        ...  \n",
       "1594  0.311921  \n",
       "1595  0.922397  \n",
       "1596  0.764422  \n",
       "1597 -0.005872  \n",
       "1598  0.764422  \n",
       "\n",
       "[1599 rows x 11 columns]"
      ]
     },
     "execution_count": 57,
     "metadata": {},
     "output_type": "execute_result"
    }
   ],
   "source": [
    "x=Wine_Quality.iloc[:,0:-1]\n",
    "x"
   ]
  },
  {
   "cell_type": "code",
   "execution_count": 59,
   "id": "e21c6752",
   "metadata": {},
   "outputs": [],
   "source": [
    "#Lets perform standard scaler to independent variables.\n",
    "\n",
    "#S=StandardScaler() x=S.fit_transform(x) x"
   ]
  },
  {
   "cell_type": "code",
   "execution_count": 60,
   "id": "6085d5c2",
   "metadata": {},
   "outputs": [
    {
     "data": {
      "text/plain": [
       "(1599, 11)"
      ]
     },
     "execution_count": 60,
     "metadata": {},
     "output_type": "execute_result"
    }
   ],
   "source": [
    "x.shape"
   ]
  },
  {
   "cell_type": "code",
   "execution_count": 61,
   "id": "a6512d6a",
   "metadata": {},
   "outputs": [
    {
     "data": {
      "text/plain": [
       "0       5\n",
       "1       5\n",
       "2       5\n",
       "3       6\n",
       "4       5\n",
       "       ..\n",
       "1594    5\n",
       "1595    6\n",
       "1596    6\n",
       "1597    5\n",
       "1598    6\n",
       "Name: quality, Length: 1599, dtype: int64"
      ]
     },
     "execution_count": 61,
     "metadata": {},
     "output_type": "execute_result"
    }
   ],
   "source": [
    "y_1=Wine_Quality.iloc[:,-1]\n",
    "y_1"
   ]
  },
  {
   "cell_type": "code",
   "execution_count": 62,
   "id": "46589f99",
   "metadata": {},
   "outputs": [
    {
     "data": {
      "text/plain": [
       "0    not good/0\n",
       "1    not good/0\n",
       "2    not good/0\n",
       "3    not good/0\n",
       "4    not good/0\n",
       "5    not good/0\n",
       "6    not good/0\n",
       "7        good/1\n",
       "8        good/1\n",
       "9    not good/0\n",
       "Name: quality, dtype: category\n",
       "Categories (2, object): ['not good/0' < 'good/1']"
      ]
     },
     "execution_count": 62,
     "metadata": {},
     "output_type": "execute_result"
    }
   ],
   "source": [
    "y_2=pd.cut(y_1,bins=[0,6,10],labels=[\"not good/0\",\"good/1\"])\n",
    "y_2.head(10)"
   ]
  },
  {
   "cell_type": "code",
   "execution_count": 63,
   "id": "aa4c2f28",
   "metadata": {},
   "outputs": [
    {
     "data": {
      "text/plain": [
       "array([1, 1, 1, ..., 1, 1, 1])"
      ]
     },
     "execution_count": 63,
     "metadata": {},
     "output_type": "execute_result"
    }
   ],
   "source": [
    "le=LabelEncoder()\n",
    "y=le.fit_transform(y_2)\n",
    "y"
   ]
  },
  {
   "cell_type": "code",
   "execution_count": 64,
   "id": "d773096d",
   "metadata": {},
   "outputs": [
    {
     "data": {
      "text/html": [
       "<div>\n",
       "<style scoped>\n",
       "    .dataframe tbody tr th:only-of-type {\n",
       "        vertical-align: middle;\n",
       "    }\n",
       "\n",
       "    .dataframe tbody tr th {\n",
       "        vertical-align: top;\n",
       "    }\n",
       "\n",
       "    .dataframe thead th {\n",
       "        text-align: right;\n",
       "    }\n",
       "</style>\n",
       "<table border=\"1\" class=\"dataframe\">\n",
       "  <thead>\n",
       "    <tr style=\"text-align: right;\">\n",
       "      <th></th>\n",
       "      <th>0</th>\n",
       "    </tr>\n",
       "  </thead>\n",
       "  <tbody>\n",
       "    <tr>\n",
       "      <th>0</th>\n",
       "      <td>1</td>\n",
       "    </tr>\n",
       "    <tr>\n",
       "      <th>1</th>\n",
       "      <td>1</td>\n",
       "    </tr>\n",
       "    <tr>\n",
       "      <th>2</th>\n",
       "      <td>1</td>\n",
       "    </tr>\n",
       "    <tr>\n",
       "      <th>3</th>\n",
       "      <td>1</td>\n",
       "    </tr>\n",
       "    <tr>\n",
       "      <th>4</th>\n",
       "      <td>1</td>\n",
       "    </tr>\n",
       "    <tr>\n",
       "      <th>...</th>\n",
       "      <td>...</td>\n",
       "    </tr>\n",
       "    <tr>\n",
       "      <th>1594</th>\n",
       "      <td>1</td>\n",
       "    </tr>\n",
       "    <tr>\n",
       "      <th>1595</th>\n",
       "      <td>1</td>\n",
       "    </tr>\n",
       "    <tr>\n",
       "      <th>1596</th>\n",
       "      <td>1</td>\n",
       "    </tr>\n",
       "    <tr>\n",
       "      <th>1597</th>\n",
       "      <td>1</td>\n",
       "    </tr>\n",
       "    <tr>\n",
       "      <th>1598</th>\n",
       "      <td>1</td>\n",
       "    </tr>\n",
       "  </tbody>\n",
       "</table>\n",
       "<p>1599 rows × 1 columns</p>\n",
       "</div>"
      ],
      "text/plain": [
       "      0\n",
       "0     1\n",
       "1     1\n",
       "2     1\n",
       "3     1\n",
       "4     1\n",
       "...  ..\n",
       "1594  1\n",
       "1595  1\n",
       "1596  1\n",
       "1597  1\n",
       "1598  1\n",
       "\n",
       "[1599 rows x 1 columns]"
      ]
     },
     "execution_count": 64,
     "metadata": {},
     "output_type": "execute_result"
    }
   ],
   "source": [
    "y=pd.DataFrame(y)\n",
    "y"
   ]
  },
  {
   "cell_type": "code",
   "execution_count": 65,
   "id": "4726ee35",
   "metadata": {},
   "outputs": [
    {
     "name": "stdout",
     "output_type": "stream",
     "text": [
      "(1119, 11)\n",
      "(480, 11)\n",
      "(1119, 1)\n",
      "(480, 1)\n"
     ]
    }
   ],
   "source": [
    "x_train,x_test,y_train,y_test=train_test_split(x,y,test_size=0.3,random_state=42)\n",
    "print(x_train.shape)\n",
    "print(x_test.shape)\n",
    "print(y_train.shape)\n",
    "print(y_test.shape)"
   ]
  },
  {
   "cell_type": "code",
   "execution_count": 66,
   "id": "5c41a234",
   "metadata": {},
   "outputs": [],
   "source": [
    "#Lets use four algorithms to check the accuracy of the whoch model suits the best:1)Logistic Regression,2) KNN,3) Random Forest,4) AdaBoost"
   ]
  },
  {
   "cell_type": "code",
   "execution_count": 67,
   "id": "f843616f",
   "metadata": {},
   "outputs": [
    {
     "name": "stdout",
     "output_type": "stream",
     "text": [
      "0.8645833333333334\n",
      "[[ 16  14]\n",
      " [ 51 399]]\n",
      "              precision    recall  f1-score   support\n",
      "\n",
      "           0       0.24      0.53      0.33        30\n",
      "           1       0.97      0.89      0.92       450\n",
      "\n",
      "    accuracy                           0.86       480\n",
      "   macro avg       0.60      0.71      0.63       480\n",
      "weighted avg       0.92      0.86      0.89       480\n",
      "\n",
      "[0.875      0.8625     0.89375    0.88125    0.87774295]\n",
      "0.8780485893416928\n",
      "0.010078980819250117\n"
     ]
    }
   ],
   "source": [
    "#Logistic Regression\n",
    "lg=LogisticRegression()\n",
    "lg.fit(x_train,y_train)\n",
    "#Lets predict the y values\n",
    "pred1=lg.predict(x_test)\n",
    "print(accuracy_score(pred1,y_test))\n",
    "print(confusion_matrix(pred1,y_test))\n",
    "print(classification_report(pred1,y_test))\n",
    "score1=cross_val_score(lg,x,y,cv=5)\n",
    "print(score1)\n",
    "print(score1.mean())\n",
    "print(score1.std())"
   ]
  },
  {
   "cell_type": "code",
   "execution_count": 68,
   "id": "4d61f9fd",
   "metadata": {},
   "outputs": [
    {
     "name": "stdout",
     "output_type": "stream",
     "text": [
      "0.8729166666666667\n",
      "[[ 24  18]\n",
      " [ 43 395]]\n",
      "              precision    recall  f1-score   support\n",
      "\n",
      "           0       0.36      0.57      0.44        42\n",
      "           1       0.96      0.90      0.93       438\n",
      "\n",
      "    accuracy                           0.87       480\n",
      "   macro avg       0.66      0.74      0.68       480\n",
      "weighted avg       0.90      0.87      0.89       480\n",
      "\n",
      "[0.875      0.846875   0.85       0.79375    0.88087774]\n",
      "0.8493005485893417\n",
      "0.030821476191459918\n"
     ]
    }
   ],
   "source": [
    "#KNN\n",
    "knn=KNeighborsClassifier()\n",
    "knn.fit(x_train,y_train)\n",
    "#lets predict y values\n",
    "pred2=knn.predict(x_test)\n",
    "print(accuracy_score(pred2,y_test))\n",
    "print(confusion_matrix(pred2,y_test))\n",
    "print(classification_report(pred2,y_test))\n",
    "score2=cross_val_score(knn,x,y,cv=5)\n",
    "print(score2)\n",
    "print(score2.mean())\n",
    "print(score2.std())"
   ]
  },
  {
   "cell_type": "code",
   "execution_count": 69,
   "id": "019cac89",
   "metadata": {},
   "outputs": [
    {
     "name": "stdout",
     "output_type": "stream",
     "text": [
      "0.88125\n",
      "[[ 32  22]\n",
      " [ 35 391]]\n",
      "              precision    recall  f1-score   support\n",
      "\n",
      "           0       0.48      0.59      0.53        54\n",
      "           1       0.95      0.92      0.93       426\n",
      "\n",
      "    accuracy                           0.88       480\n",
      "   macro avg       0.71      0.76      0.73       480\n",
      "weighted avg       0.89      0.88      0.89       480\n",
      "\n",
      "[0.86875    0.8375     0.88125    0.859375   0.86833856]\n",
      "0.863042711598746\n",
      "0.014546523330673095\n"
     ]
    }
   ],
   "source": [
    "#Randomforest\n",
    "rf=RandomForestClassifier()\n",
    "rf.fit(x_train,y_train)\n",
    "#lets predict y values\n",
    "pred3=rf.predict(x_test)\n",
    "print(accuracy_score(pred3,y_test))\n",
    "print(confusion_matrix(pred3,y_test))\n",
    "print(classification_report(pred3,y_test))\n",
    "score3=cross_val_score(rf,x,y,cv=5)\n",
    "print(score3)\n",
    "print(score3.mean())\n",
    "print(score3.std())"
   ]
  },
  {
   "cell_type": "code",
   "execution_count": 70,
   "id": "e9c031eb",
   "metadata": {},
   "outputs": [
    {
     "name": "stdout",
     "output_type": "stream",
     "text": [
      "0.85625\n",
      "[[ 24  26]\n",
      " [ 43 387]]\n",
      "              precision    recall  f1-score   support\n",
      "\n",
      "           0       0.36      0.48      0.41        50\n",
      "           1       0.94      0.90      0.92       430\n",
      "\n",
      "    accuracy                           0.86       480\n",
      "   macro avg       0.65      0.69      0.66       480\n",
      "weighted avg       0.88      0.86      0.87       480\n",
      "\n",
      "[0.896875   0.83125    0.8875     0.85       0.85893417]\n",
      "0.8649118338557994\n",
      "0.024178848446487038\n"
     ]
    }
   ],
   "source": [
    "#Adaboost\n",
    "ad=AdaBoostClassifier()\n",
    "ad.fit(x_train,y_train)\n",
    "#lets predict y values\n",
    "pred4=ad.predict(x_test)\n",
    "print(accuracy_score(pred4,y_test))\n",
    "print(confusion_matrix(pred4,y_test))\n",
    "print(classification_report(pred4,y_test))\n",
    "score4=cross_val_score(ad,x,y,cv=5)\n",
    "print(score4)\n",
    "print(score4.mean())\n",
    "print(score4.std())"
   ]
  },
  {
   "cell_type": "code",
   "execution_count": 71,
   "id": "da56bd2c",
   "metadata": {},
   "outputs": [],
   "source": [
    "#As per the above results, it can be concluded that AdaBoost is the best model. Lets hypertune this model using gridsearch cv"
   ]
  },
  {
   "cell_type": "code",
   "execution_count": 72,
   "id": "af5bda5f",
   "metadata": {},
   "outputs": [
    {
     "data": {
      "text/plain": [
       "GridSearchCV(estimator=AdaBoostClassifier(),\n",
       "             param_grid={'algorithm': ['SAMME'], 'learning_rate': [0.8, 1, 1.2],\n",
       "                         'n_estimators': [60, 70, 50],\n",
       "                         'random_state': [50, 42, 60]})"
      ]
     },
     "execution_count": 72,
     "metadata": {},
     "output_type": "execute_result"
    }
   ],
   "source": [
    "#gridsearchcv\n",
    "parameters={\"n_estimators\":[60,70,50],\"learning_rate\":[0.8,1,1.2],\"algorithm\":[\"SAMME\"],\"random_state\":[50,42,60] }\n",
    "grid=GridSearchCV(ad,parameters)\n",
    "grid.fit(x_train,y_train)"
   ]
  },
  {
   "cell_type": "code",
   "execution_count": 73,
   "id": "8453b98f",
   "metadata": {},
   "outputs": [
    {
     "name": "stdout",
     "output_type": "stream",
     "text": [
      "AdaBoostClassifier(algorithm='SAMME', learning_rate=1, n_estimators=70,\n",
      "                   random_state=50)\n",
      "{'algorithm': 'SAMME', 'learning_rate': 1, 'n_estimators': 70, 'random_state': 50}\n",
      "0.8936619154388212\n"
     ]
    }
   ],
   "source": [
    "print(grid.best_estimator_)\n",
    "print(grid.best_params_)\n",
    "print(grid.best_score_)"
   ]
  },
  {
   "cell_type": "code",
   "execution_count": 74,
   "id": "25fba819",
   "metadata": {},
   "outputs": [
    {
     "name": "stdout",
     "output_type": "stream",
     "text": [
      "0.8541666666666666\n",
      "[[ 17  20]\n",
      " [ 50 393]]\n",
      "              precision    recall  f1-score   support\n",
      "\n",
      "           0       0.25      0.46      0.33        37\n",
      "           1       0.95      0.89      0.92       443\n",
      "\n",
      "    accuracy                           0.85       480\n",
      "   macro avg       0.60      0.67      0.62       480\n",
      "weighted avg       0.90      0.85      0.87       480\n",
      "\n"
     ]
    }
   ],
   "source": [
    "#Now put these parameters back to best fit model which is adaboost\n",
    "\n",
    "ad=AdaBoostClassifier(algorithm=\"SAMME\",learning_rate=1,n_estimators=70,random_state=50)\n",
    "ad.fit(x_train,y_train)\n",
    "#lets find the y values with this best fit model\n",
    "pred4=ad.predict(x_test)\n",
    "print(accuracy_score(pred4,y_test))\n",
    "print(confusion_matrix(pred4,y_test))\n",
    "print(classification_report(pred4,y_test))"
   ]
  },
  {
   "cell_type": "code",
   "execution_count": 75,
   "id": "f35a1421",
   "metadata": {},
   "outputs": [
    {
     "data": {
      "text/plain": [
       "array([0.55462726, 0.63363093, 0.61964014, 0.63462223, 0.60143235,\n",
       "       0.62806361, 0.59851664, 0.58692881, 0.53007722, 0.54062651,\n",
       "       0.50855979, 0.56935742, 0.56570727, 0.6344774 , 0.62153531,\n",
       "       0.50256367, 0.60282444, 0.55320444, 0.48026917, 0.56953328,\n",
       "       0.55797469, 0.61399103, 0.5322867 , 0.52815171, 0.59500264,\n",
       "       0.56061064, 0.48267967, 0.56598488, 0.5937129 , 0.55382942,\n",
       "       0.61841271, 0.56530486, 0.5488391 , 0.57894966, 0.56197592,\n",
       "       0.62722331, 0.522977  , 0.52140611, 0.56648539, 0.54168014,\n",
       "       0.58935933, 0.61683195, 0.50000148, 0.56632903, 0.58214537,\n",
       "       0.57555104, 0.51854166, 0.59148804, 0.58400483, 0.54975436,\n",
       "       0.60433538, 0.60193401, 0.56849665, 0.5393278 , 0.65261303,\n",
       "       0.60236217, 0.54103069, 0.5427925 , 0.57110698, 0.59023723,\n",
       "       0.5318712 , 0.52504235, 0.60342131, 0.60612198, 0.47577649,\n",
       "       0.62190066, 0.48481817, 0.55821907, 0.47308017, 0.60176818,\n",
       "       0.50072876, 0.63288611, 0.55760758, 0.5913262 , 0.49805584,\n",
       "       0.62213416, 0.54458079, 0.52984975, 0.52230856, 0.47148891,\n",
       "       0.59180478, 0.47295541, 0.5858376 , 0.58258494, 0.54390934,\n",
       "       0.50278741, 0.61916071, 0.53009734, 0.50009184, 0.57877913,\n",
       "       0.51143937, 0.56444254, 0.55927297, 0.56648539, 0.61039143,\n",
       "       0.56707546, 0.6196826 , 0.55465007, 0.58843364, 0.5644864 ,\n",
       "       0.6015474 , 0.64285083, 0.54698026, 0.55746305, 0.57296569,\n",
       "       0.52006986, 0.55518919, 0.55670831, 0.54285297, 0.60741076,\n",
       "       0.52804452, 0.62169796, 0.50914563, 0.60088899, 0.55714929,\n",
       "       0.53911202, 0.55384492, 0.5598495 , 0.64274241, 0.56318056,\n",
       "       0.52149972, 0.57313454, 0.58162384, 0.58719638, 0.59700278,\n",
       "       0.59473857, 0.52121861, 0.57444076, 0.5232117 , 0.59889916,\n",
       "       0.55760758, 0.62568256, 0.61444037, 0.49218068, 0.54975436,\n",
       "       0.61375909, 0.63664794, 0.62859936, 0.59622505, 0.55642874,\n",
       "       0.54677338, 0.5207729 , 0.49795108, 0.5950999 , 0.58214537,\n",
       "       0.58027558, 0.52396304, 0.5822195 , 0.54889334, 0.61050021,\n",
       "       0.58265694, 0.53644998, 0.59142837, 0.58924549, 0.55760758,\n",
       "       0.58514159, 0.57038923, 0.49137813, 0.61277145, 0.53048409,\n",
       "       0.5276479 , 0.53124021, 0.51143937, 0.64214602, 0.58082235,\n",
       "       0.6006368 , 0.60819426, 0.61421239, 0.59633347, 0.60269469,\n",
       "       0.62730402, 0.58084632, 0.52658008, 0.58870564, 0.49844299,\n",
       "       0.53862225, 0.51766421, 0.59602651, 0.60066997, 0.60569631,\n",
       "       0.58480028, 0.50084023, 0.55283747, 0.51911177, 0.61498619,\n",
       "       0.49480174, 0.54993559, 0.54396951, 0.45667854, 0.58870564,\n",
       "       0.55113206, 0.51233034, 0.58887307, 0.52022273, 0.53021956,\n",
       "       0.59043556, 0.61952106, 0.6036714 , 0.56454712, 0.52006986,\n",
       "       0.55905545, 0.56643014, 0.5744212 , 0.59372736, 0.47300718,\n",
       "       0.56757758, 0.65543954, 0.57703354, 0.53812184, 0.51384499,\n",
       "       0.5117591 , 0.62074066, 0.5488391 , 0.50203904, 0.50121878,\n",
       "       0.54706743, 0.58460986, 0.62955734, 0.52857893, 0.57864937,\n",
       "       0.5956693 , 0.48771267, 0.50051328, 0.5000312 , 0.56568649,\n",
       "       0.63023166, 0.61552534, 0.46631592, 0.58801786, 0.56087971,\n",
       "       0.62238851, 0.61615226, 0.50152243, 0.54026865, 0.52188374,\n",
       "       0.52006986, 0.58693076, 0.54390934, 0.63437013, 0.62792299,\n",
       "       0.54744808, 0.62649414, 0.52177732, 0.50865455, 0.57373093,\n",
       "       0.52535975, 0.53174971, 0.57815714, 0.47758516, 0.61429418,\n",
       "       0.53021956, 0.56648539, 0.58155216, 0.54071821, 0.56229533,\n",
       "       0.60303883, 0.59300162, 0.55091614, 0.54642272, 0.51707794,\n",
       "       0.49601862, 0.55384492, 0.59602651, 0.52307887, 0.52579714,\n",
       "       0.49795108, 0.61530426, 0.58559114, 0.54185528, 0.49088086,\n",
       "       0.64351243, 0.53565444, 0.62153531, 0.61946244, 0.57906206,\n",
       "       0.57175507, 0.56438291, 0.51149998, 0.50382833, 0.57154564,\n",
       "       0.46358255, 0.6219041 , 0.5935759 , 0.57991357, 0.55462726,\n",
       "       0.54640903, 0.63603015, 0.5207729 , 0.58539394, 0.53025375,\n",
       "       0.54825129, 0.50496253, 0.53350448, 0.62684303, 0.59072924,\n",
       "       0.51868211, 0.63053471, 0.48357861, 0.50457667, 0.51100255,\n",
       "       0.61503555, 0.62584306, 0.5068807 , 0.57887695, 0.61441453,\n",
       "       0.61175713, 0.54377808, 0.53919819, 0.48913818, 0.47317027,\n",
       "       0.56465639, 0.55793521, 0.59261756, 0.5403289 , 0.57894966,\n",
       "       0.54793695, 0.61198203, 0.59931276, 0.50949302, 0.61549757,\n",
       "       0.53128835, 0.51577271, 0.54917348, 0.62649414, 0.6107223 ,\n",
       "       0.58147683, 0.51816894, 0.54656322, 0.60236217, 0.55382942,\n",
       "       0.53701221, 0.47317027, 0.62714046, 0.5956693 , 0.57932453,\n",
       "       0.56677965, 0.5062309 , 0.55003717, 0.6474107 , 0.61066351,\n",
       "       0.49620935, 0.53937902, 0.55927297, 0.59526504, 0.50565436,\n",
       "       0.64214602, 0.49805584, 0.60333377, 0.55515919, 0.54298327,\n",
       "       0.57398155, 0.53279564, 0.59101512, 0.59247191, 0.54110185,\n",
       "       0.52972012, 0.56426819, 0.57407852, 0.60392467, 0.59280088,\n",
       "       0.54837961, 0.5782163 , 0.56463371, 0.55532996, 0.60853498,\n",
       "       0.53923786, 0.56698288, 0.60049501, 0.56632903, 0.61841271,\n",
       "       0.55603163, 0.58084632, 0.55315382, 0.56595568, 0.61141247,\n",
       "       0.54168014, 0.60618196, 0.5362367 , 0.57924571, 0.61374518,\n",
       "       0.6394696 , 0.55681896, 0.46634551, 0.57081593, 0.51181812,\n",
       "       0.54521028, 0.52121861, 0.60193401, 0.62028546, 0.58876244,\n",
       "       0.56648539, 0.57417288, 0.60772785, 0.59261756, 0.51835   ,\n",
       "       0.54386772, 0.54023345, 0.56197592, 0.58632655, 0.5152245 ,\n",
       "       0.62229671, 0.62229671, 0.56598488, 0.62700489, 0.57570164,\n",
       "       0.54756919, 0.481501  , 0.50855979, 0.57190033, 0.5982414 ,\n",
       "       0.6006368 , 0.52685014, 0.49902087, 0.51888691, 0.54530571,\n",
       "       0.52370099, 0.55670831, 0.48239922, 0.59647435, 0.46448979,\n",
       "       0.53419646, 0.56822784, 0.54757469, 0.61932388, 0.55938653,\n",
       "       0.53951417, 0.61325298, 0.59889739, 0.55746305, 0.61349895,\n",
       "       0.45667854, 0.61172229, 0.6119106 , 0.64321879, 0.48741259,\n",
       "       0.56787084, 0.60626824, 0.59809517, 0.58870564, 0.54680631,\n",
       "       0.58988724, 0.58303703, 0.50212544, 0.63089599, 0.57623556,\n",
       "       0.56269228, 0.55593437, 0.54279887, 0.53820297, 0.57849719,\n",
       "       0.53350863, 0.54793695, 0.58110588, 0.5893881 , 0.56395365,\n",
       "       0.50373797, 0.46640588, 0.59247191, 0.55475524, 0.59721602,\n",
       "       0.61441869, 0.57851198, 0.59341599, 0.60339287, 0.5613566 ,\n",
       "       0.55817887, 0.59517915, 0.63002259, 0.52041098, 0.51024823,\n",
       "       0.48324136, 0.58698762, 0.56677965, 0.58723989, 0.5809856 ,\n",
       "       0.54622582, 0.52510284, 0.60143235, 0.50855979, 0.57650669])"
      ]
     },
     "execution_count": 75,
     "metadata": {},
     "output_type": "execute_result"
    }
   ],
   "source": [
    "y_pred_prob=ad.predict_proba(x_test)[:,1]\n",
    "y_pred_prob"
   ]
  },
  {
   "cell_type": "code",
   "execution_count": 76,
   "id": "07f48e44",
   "metadata": {},
   "outputs": [
    {
     "name": "stdout",
     "output_type": "stream",
     "text": [
      "[0.         0.         0.         0.         0.         0.\n",
      " 0.         0.         0.         0.         0.         0.\n",
      " 0.         0.         0.         0.         0.         0.\n",
      " 0.         0.         0.         0.         0.         0.\n",
      " 0.         0.         0.         0.         0.         0.\n",
      " 0.         0.         0.         0.         0.         0.01492537\n",
      " 0.01492537 0.01492537 0.01492537 0.01492537 0.01492537 0.01492537\n",
      " 0.04477612 0.04477612 0.04477612 0.04477612 0.05970149 0.05970149\n",
      " 0.05970149 0.07462687 0.07462687 0.08955224 0.08955224 0.08955224\n",
      " 0.08955224 0.08955224 0.08955224 0.08955224 0.08955224 0.10447761\n",
      " 0.10447761 0.11940299 0.11940299 0.13432836 0.13432836 0.1641791\n",
      " 0.1641791  0.19402985 0.19402985 0.19402985 0.19402985 0.19402985\n",
      " 0.19402985 0.2238806  0.2238806  0.23880597 0.23880597 0.25373134\n",
      " 0.25373134 0.26865672 0.26865672 0.26865672 0.26865672 0.29850746\n",
      " 0.29850746 0.37313433 0.37313433 0.3880597  0.3880597  0.40298507\n",
      " 0.40298507 0.41791045 0.41791045 0.41791045 0.43283582 0.47761194\n",
      " 0.49253731 0.49253731 0.52238806 0.52238806 0.55223881 0.55223881\n",
      " 0.56716418 0.56716418 0.59701493 0.59701493 0.6119403  0.64179104\n",
      " 0.65671642 0.65671642 0.67164179 0.67164179 0.70149254 0.70149254\n",
      " 0.7761194  0.7761194  0.80597015 0.80597015 0.82089552 0.82089552\n",
      " 0.8358209  0.8358209  0.85074627 0.85074627 0.88059701 0.88059701\n",
      " 0.91044776 0.91044776 0.92537313 0.92537313 0.94029851 0.94029851\n",
      " 0.95522388 0.95522388 0.97014925 1.        ]\n",
      "[0.         0.00242131 0.01694915 0.02179177 0.07263923 0.07748184\n",
      " 0.08474576 0.08958838 0.09927361 0.10411622 0.12348668 0.1283293\n",
      " 0.23486683 0.24455206 0.24939467 0.25423729 0.2590799  0.26392252\n",
      " 0.29297821 0.30266344 0.32929782 0.33898305 0.37288136 0.38014528\n",
      " 0.42615012 0.43099274 0.44309927 0.44794189 0.46246973 0.46731235\n",
      " 0.5496368  0.55447942 0.56416465 0.56658596 0.57142857 0.57384988\n",
      " 0.61016949 0.61501211 0.62711864 0.63196126 0.6440678  0.65133172\n",
      " 0.65133172 0.65617433 0.66101695 0.67554479 0.67554479 0.6779661\n",
      " 0.69249395 0.69249395 0.70217918 0.70217918 0.70460048 0.7094431\n",
      " 0.71428571 0.71912833 0.72397094 0.72881356 0.73123487 0.73123487\n",
      " 0.73365617 0.73365617 0.73849879 0.73849879 0.7433414  0.7433414\n",
      " 0.74576271 0.74576271 0.74818402 0.75302663 0.76997579 0.7748184\n",
      " 0.79418886 0.79418886 0.79903148 0.79903148 0.80871671 0.80871671\n",
      " 0.81598063 0.81598063 0.8377724  0.84261501 0.85714286 0.85714286\n",
      " 0.85956416 0.85956416 0.86198547 0.86198547 0.86682809 0.86682809\n",
      " 0.87893462 0.88135593 0.88619855 0.88861985 0.88861985 0.88861985\n",
      " 0.88861985 0.89346247 0.89346247 0.9031477  0.9031477  0.90799031\n",
      " 0.90799031 0.91041162 0.91041162 0.92009685 0.92009685 0.92251816\n",
      " 0.92251816 0.92736077 0.92736077 0.9346247  0.9346247  0.95157385\n",
      " 0.95157385 0.95641646 0.95641646 0.97578692 0.97578692 0.97820823\n",
      " 0.97820823 0.98062954 0.98062954 0.98305085 0.98305085 0.98789346\n",
      " 0.98789346 0.99031477 0.99031477 0.99515738 0.99515738 0.99757869\n",
      " 0.99757869 1.         1.         1.        ]\n",
      "[1.65543954 0.65543954 0.64274241 0.64214602 0.62684303 0.62649414\n",
      " 0.62238851 0.62229671 0.62169796 0.62153531 0.61916071 0.61841271\n",
      " 0.60269469 0.60193401 0.6015474  0.60143235 0.60066997 0.6006368\n",
      " 0.59622505 0.5956693  0.59280088 0.59247191 0.58876244 0.58870564\n",
      " 0.5822195  0.58214537 0.5809856  0.58084632 0.57906206 0.57894966\n",
      " 0.56698288 0.56677965 0.56648539 0.56643014 0.56632903 0.56598488\n",
      " 0.56229533 0.56197592 0.55938653 0.55927297 0.55793521 0.55760758\n",
      " 0.55746305 0.55681896 0.55670831 0.55515919 0.55475524 0.55465007\n",
      " 0.55382942 0.55320444 0.55091614 0.55003717 0.54993559 0.54975436\n",
      " 0.54889334 0.5488391  0.54825129 0.54793695 0.54757469 0.54756919\n",
      " 0.54744808 0.54706743 0.54680631 0.54677338 0.54642272 0.54622582\n",
      " 0.54530571 0.54458079 0.54396951 0.54390934 0.54185528 0.54168014\n",
      " 0.53951417 0.5393278  0.53919819 0.53911202 0.53701221 0.53644998\n",
      " 0.53419646 0.53350863 0.53025375 0.53021956 0.52815171 0.5276479\n",
      " 0.52685014 0.52504235 0.52396304 0.52370099 0.52307887 0.522977\n",
      " 0.52140611 0.52121861 0.5207729  0.52041098 0.52022273 0.52006986\n",
      " 0.51911177 0.51868211 0.51835    0.51577271 0.51384499 0.51181812\n",
      " 0.5117591  0.51149998 0.51143937 0.50914563 0.50865455 0.50855979\n",
      " 0.5068807  0.50565436 0.50496253 0.50373797 0.50256367 0.50051328\n",
      " 0.49844299 0.49805584 0.49795108 0.48771267 0.48741259 0.48481817\n",
      " 0.48357861 0.48324136 0.48267967 0.48239922 0.48026917 0.47577649\n",
      " 0.47317027 0.47308017 0.47300718 0.47148891 0.46640588 0.46634551\n",
      " 0.46631592 0.46448979 0.46358255 0.45667854]\n"
     ]
    }
   ],
   "source": [
    "fpr,tpr,thresholds=roc_curve(y_test,y_pred_prob)\n",
    "print(fpr)\n",
    "print(tpr)\n",
    "print(thresholds)"
   ]
  },
  {
   "cell_type": "code",
   "execution_count": 77,
   "id": "ee754372",
   "metadata": {},
   "outputs": [
    {
     "data": {
      "text/plain": [
       "Text(0.5, 1.0, 'AdaBoost')"
      ]
     },
     "execution_count": 77,
     "metadata": {},
     "output_type": "execute_result"
    },
    {
     "data": {
      "image/png": "[encoded data removed]",
      "text/plain": [
       "<Figure size 432x288 with 1 Axes>"
      ]
     },
     "metadata": {
      "needs_background": "light"
     },
     "output_type": "display_data"
    }
   ],
   "source": [
    "plt.plot(fpr,tpr,label=\"AdaBoost\")\n",
    "plt.xlabel(\"False Positive Rate\")\n",
    "plt.ylabel(\"True Positive Rate\")\n",
    "plt.title(\"AdaBoost\")"
   ]
  },
  {
   "cell_type": "code",
   "execution_count": 78,
   "id": "482c0de7",
   "metadata": {},
   "outputs": [],
   "source": [
    "#Lets perform Serialisation and deserialisation to dump (save) and load the model\n",
    "\n",
    "joblib.dump(ad,\"adfile.obj\")\n",
    "ad_from_joblib=joblib.load(\"adfile.obj\")"
   ]
  },
  {
   "cell_type": "code",
   "execution_count": null,
   "id": "01b77363",
   "metadata": {},
   "outputs": [],
   "source": []
  }
 ],
 "metadata": {
  "kernelspec": {
   "display_name": "Python 3 (ipykernel)",
   "language": "python",
   "name": "python3"
  },
  "language_info": {
   "codemirror_mode": {
    "name": "ipython",
    "version": 3
   },
   "file_extension": ".py",
   "mimetype": "text/x-python",
   "name": "python",
   "nbconvert_exporter": "python",
   "pygments_lexer": "ipython3",
   "version": "3.9.7"
  }
 },
 "nbformat": 4,
 "nbformat_minor": 5
}
