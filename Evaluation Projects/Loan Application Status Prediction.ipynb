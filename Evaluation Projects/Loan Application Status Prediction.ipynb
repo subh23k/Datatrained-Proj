{
 "cells": [
  {
   "cell_type": "markdown",
   "id": "7ee76e2b",
   "metadata": {},
   "source": [
    "# Loan Application Status Prediction:\n",
    "Problem Statement:\n",
    "This dataset includes details of applicants who have applied for loan. The dataset includes details like credit history, loan amount, their income, dependents etc. \n",
    "\n",
    "Independent Variables:\n",
    "\n",
    "- Loan_ID\n",
    "\n",
    "- Gender\n",
    "\n",
    "- Married\n",
    "\n",
    "- Dependents\n",
    "\n",
    "- Education\n",
    "\n",
    "- Self_Employed\n",
    "\n",
    "- ApplicantIncome\n",
    "\n",
    "- CoapplicantIncome\n",
    "\n",
    "- Loan_Amount\n",
    "\n",
    "- Loan_Amount_Term\n",
    "\n",
    "- Credit History\n",
    "\n",
    "- Property_Area\n",
    "\n",
    "Dependent Variable (Target Variable):\n",
    "\n",
    "- Loan_Status\n",
    "\n",
    "You have to build a model that can predict whether the loan of the applicant will be approved or not on the basis of the details provided in the dataset. "
   ]
  },
  {
   "cell_type": "code",
   "execution_count": 1,
   "id": "68586425",
   "metadata": {},
   "outputs": [],
   "source": [
    "# Importing all required libraries\n",
    "import numpy as np\n",
    "import pandas as pd\n",
    "import seaborn as sns\n",
    "import matplotlib.pyplot as plt\n",
    "import warnings\n",
    "warnings.filterwarnings(\"ignore\")"
   ]
  },
  {
   "cell_type": "code",
   "execution_count": 2,
   "id": "333b08bb",
   "metadata": {},
   "outputs": [
    {
     "data": {
      "text/html": [
       "<div>\n",
       "<style scoped>\n",
       "    .dataframe tbody tr th:only-of-type {\n",
       "        vertical-align: middle;\n",
       "    }\n",
       "\n",
       "    .dataframe tbody tr th {\n",
       "        vertical-align: top;\n",
       "    }\n",
       "\n",
       "    .dataframe thead th {\n",
       "        text-align: right;\n",
       "    }\n",
       "</style>\n",
       "<table border=\"1\" class=\"dataframe\">\n",
       "  <thead>\n",
       "    <tr style=\"text-align: right;\">\n",
       "      <th></th>\n",
       "      <th>Loan_ID</th>\n",
       "      <th>Gender</th>\n",
       "      <th>Married</th>\n",
       "      <th>Dependents</th>\n",
       "      <th>Education</th>\n",
       "      <th>Self_Employed</th>\n",
       "      <th>ApplicantIncome</th>\n",
       "      <th>CoapplicantIncome</th>\n",
       "      <th>LoanAmount</th>\n",
       "      <th>Loan_Amount_Term</th>\n",
       "      <th>Credit_History</th>\n",
       "      <th>Property_Area</th>\n",
       "      <th>Loan_Status</th>\n",
       "    </tr>\n",
       "  </thead>\n",
       "  <tbody>\n",
       "    <tr>\n",
       "      <th>0</th>\n",
       "      <td>LP001002</td>\n",
       "      <td>Male</td>\n",
       "      <td>No</td>\n",
       "      <td>0</td>\n",
       "      <td>Graduate</td>\n",
       "      <td>No</td>\n",
       "      <td>5849</td>\n",
       "      <td>0.0</td>\n",
       "      <td>NaN</td>\n",
       "      <td>360.0</td>\n",
       "      <td>1.0</td>\n",
       "      <td>Urban</td>\n",
       "      <td>Y</td>\n",
       "    </tr>\n",
       "    <tr>\n",
       "      <th>1</th>\n",
       "      <td>LP001003</td>\n",
       "      <td>Male</td>\n",
       "      <td>Yes</td>\n",
       "      <td>1</td>\n",
       "      <td>Graduate</td>\n",
       "      <td>No</td>\n",
       "      <td>4583</td>\n",
       "      <td>1508.0</td>\n",
       "      <td>128.0</td>\n",
       "      <td>360.0</td>\n",
       "      <td>1.0</td>\n",
       "      <td>Rural</td>\n",
       "      <td>N</td>\n",
       "    </tr>\n",
       "    <tr>\n",
       "      <th>2</th>\n",
       "      <td>LP001005</td>\n",
       "      <td>Male</td>\n",
       "      <td>Yes</td>\n",
       "      <td>0</td>\n",
       "      <td>Graduate</td>\n",
       "      <td>Yes</td>\n",
       "      <td>3000</td>\n",
       "      <td>0.0</td>\n",
       "      <td>66.0</td>\n",
       "      <td>360.0</td>\n",
       "      <td>1.0</td>\n",
       "      <td>Urban</td>\n",
       "      <td>Y</td>\n",
       "    </tr>\n",
       "    <tr>\n",
       "      <th>3</th>\n",
       "      <td>LP001006</td>\n",
       "      <td>Male</td>\n",
       "      <td>Yes</td>\n",
       "      <td>0</td>\n",
       "      <td>Not Graduate</td>\n",
       "      <td>No</td>\n",
       "      <td>2583</td>\n",
       "      <td>2358.0</td>\n",
       "      <td>120.0</td>\n",
       "      <td>360.0</td>\n",
       "      <td>1.0</td>\n",
       "      <td>Urban</td>\n",
       "      <td>Y</td>\n",
       "    </tr>\n",
       "    <tr>\n",
       "      <th>4</th>\n",
       "      <td>LP001008</td>\n",
       "      <td>Male</td>\n",
       "      <td>No</td>\n",
       "      <td>0</td>\n",
       "      <td>Graduate</td>\n",
       "      <td>No</td>\n",
       "      <td>6000</td>\n",
       "      <td>0.0</td>\n",
       "      <td>141.0</td>\n",
       "      <td>360.0</td>\n",
       "      <td>1.0</td>\n",
       "      <td>Urban</td>\n",
       "      <td>Y</td>\n",
       "    </tr>\n",
       "    <tr>\n",
       "      <th>...</th>\n",
       "      <td>...</td>\n",
       "      <td>...</td>\n",
       "      <td>...</td>\n",
       "      <td>...</td>\n",
       "      <td>...</td>\n",
       "      <td>...</td>\n",
       "      <td>...</td>\n",
       "      <td>...</td>\n",
       "      <td>...</td>\n",
       "      <td>...</td>\n",
       "      <td>...</td>\n",
       "      <td>...</td>\n",
       "      <td>...</td>\n",
       "    </tr>\n",
       "    <tr>\n",
       "      <th>609</th>\n",
       "      <td>LP002978</td>\n",
       "      <td>Female</td>\n",
       "      <td>No</td>\n",
       "      <td>0</td>\n",
       "      <td>Graduate</td>\n",
       "      <td>No</td>\n",
       "      <td>2900</td>\n",
       "      <td>0.0</td>\n",
       "      <td>71.0</td>\n",
       "      <td>360.0</td>\n",
       "      <td>1.0</td>\n",
       "      <td>Rural</td>\n",
       "      <td>Y</td>\n",
       "    </tr>\n",
       "    <tr>\n",
       "      <th>610</th>\n",
       "      <td>LP002979</td>\n",
       "      <td>Male</td>\n",
       "      <td>Yes</td>\n",
       "      <td>3+</td>\n",
       "      <td>Graduate</td>\n",
       "      <td>No</td>\n",
       "      <td>4106</td>\n",
       "      <td>0.0</td>\n",
       "      <td>40.0</td>\n",
       "      <td>180.0</td>\n",
       "      <td>1.0</td>\n",
       "      <td>Rural</td>\n",
       "      <td>Y</td>\n",
       "    </tr>\n",
       "    <tr>\n",
       "      <th>611</th>\n",
       "      <td>LP002983</td>\n",
       "      <td>Male</td>\n",
       "      <td>Yes</td>\n",
       "      <td>1</td>\n",
       "      <td>Graduate</td>\n",
       "      <td>No</td>\n",
       "      <td>8072</td>\n",
       "      <td>240.0</td>\n",
       "      <td>253.0</td>\n",
       "      <td>360.0</td>\n",
       "      <td>1.0</td>\n",
       "      <td>Urban</td>\n",
       "      <td>Y</td>\n",
       "    </tr>\n",
       "    <tr>\n",
       "      <th>612</th>\n",
       "      <td>LP002984</td>\n",
       "      <td>Male</td>\n",
       "      <td>Yes</td>\n",
       "      <td>2</td>\n",
       "      <td>Graduate</td>\n",
       "      <td>No</td>\n",
       "      <td>7583</td>\n",
       "      <td>0.0</td>\n",
       "      <td>187.0</td>\n",
       "      <td>360.0</td>\n",
       "      <td>1.0</td>\n",
       "      <td>Urban</td>\n",
       "      <td>Y</td>\n",
       "    </tr>\n",
       "    <tr>\n",
       "      <th>613</th>\n",
       "      <td>LP002990</td>\n",
       "      <td>Female</td>\n",
       "      <td>No</td>\n",
       "      <td>0</td>\n",
       "      <td>Graduate</td>\n",
       "      <td>Yes</td>\n",
       "      <td>4583</td>\n",
       "      <td>0.0</td>\n",
       "      <td>133.0</td>\n",
       "      <td>360.0</td>\n",
       "      <td>0.0</td>\n",
       "      <td>Semiurban</td>\n",
       "      <td>N</td>\n",
       "    </tr>\n",
       "  </tbody>\n",
       "</table>\n",
       "<p>614 rows × 13 columns</p>\n",
       "</div>"
      ],
      "text/plain": [
       "      Loan_ID  Gender Married Dependents     Education Self_Employed  \\\n",
       "0    LP001002    Male      No          0      Graduate            No   \n",
       "1    LP001003    Male     Yes          1      Graduate            No   \n",
       "2    LP001005    Male     Yes          0      Graduate           Yes   \n",
       "3    LP001006    Male     Yes          0  Not Graduate            No   \n",
       "4    LP001008    Male      No          0      Graduate            No   \n",
       "..        ...     ...     ...        ...           ...           ...   \n",
       "609  LP002978  Female      No          0      Graduate            No   \n",
       "610  LP002979    Male     Yes         3+      Graduate            No   \n",
       "611  LP002983    Male     Yes          1      Graduate            No   \n",
       "612  LP002984    Male     Yes          2      Graduate            No   \n",
       "613  LP002990  Female      No          0      Graduate           Yes   \n",
       "\n",
       "     ApplicantIncome  CoapplicantIncome  LoanAmount  Loan_Amount_Term  \\\n",
       "0               5849                0.0         NaN             360.0   \n",
       "1               4583             1508.0       128.0             360.0   \n",
       "2               3000                0.0        66.0             360.0   \n",
       "3               2583             2358.0       120.0             360.0   \n",
       "4               6000                0.0       141.0             360.0   \n",
       "..               ...                ...         ...               ...   \n",
       "609             2900                0.0        71.0             360.0   \n",
       "610             4106                0.0        40.0             180.0   \n",
       "611             8072              240.0       253.0             360.0   \n",
       "612             7583                0.0       187.0             360.0   \n",
       "613             4583                0.0       133.0             360.0   \n",
       "\n",
       "     Credit_History Property_Area Loan_Status  \n",
       "0               1.0         Urban           Y  \n",
       "1               1.0         Rural           N  \n",
       "2               1.0         Urban           Y  \n",
       "3               1.0         Urban           Y  \n",
       "4               1.0         Urban           Y  \n",
       "..              ...           ...         ...  \n",
       "609             1.0         Rural           Y  \n",
       "610             1.0         Rural           Y  \n",
       "611             1.0         Urban           Y  \n",
       "612             1.0         Urban           Y  \n",
       "613             0.0     Semiurban           N  \n",
       "\n",
       "[614 rows x 13 columns]"
      ]
     },
     "execution_count": 2,
     "metadata": {},
     "output_type": "execute_result"
    }
   ],
   "source": [
    "# lets import data first using csv file\n",
    "df=pd.read_csv('loan_prediction.csv')\n",
    "df"
   ]
  },
  {
   "cell_type": "code",
   "execution_count": 3,
   "id": "a77caf5d",
   "metadata": {},
   "outputs": [
    {
     "data": {
      "text/html": [
       "<div>\n",
       "<style scoped>\n",
       "    .dataframe tbody tr th:only-of-type {\n",
       "        vertical-align: middle;\n",
       "    }\n",
       "\n",
       "    .dataframe tbody tr th {\n",
       "        vertical-align: top;\n",
       "    }\n",
       "\n",
       "    .dataframe thead th {\n",
       "        text-align: right;\n",
       "    }\n",
       "</style>\n",
       "<table border=\"1\" class=\"dataframe\">\n",
       "  <thead>\n",
       "    <tr style=\"text-align: right;\">\n",
       "      <th></th>\n",
       "      <th>Loan_ID</th>\n",
       "      <th>Gender</th>\n",
       "      <th>Married</th>\n",
       "      <th>Dependents</th>\n",
       "      <th>Education</th>\n",
       "      <th>Self_Employed</th>\n",
       "      <th>ApplicantIncome</th>\n",
       "      <th>CoapplicantIncome</th>\n",
       "      <th>LoanAmount</th>\n",
       "      <th>Loan_Amount_Term</th>\n",
       "      <th>Credit_History</th>\n",
       "      <th>Property_Area</th>\n",
       "      <th>Loan_Status</th>\n",
       "    </tr>\n",
       "  </thead>\n",
       "  <tbody>\n",
       "    <tr>\n",
       "      <th>0</th>\n",
       "      <td>LP001002</td>\n",
       "      <td>Male</td>\n",
       "      <td>No</td>\n",
       "      <td>0</td>\n",
       "      <td>Graduate</td>\n",
       "      <td>No</td>\n",
       "      <td>5849</td>\n",
       "      <td>0.0</td>\n",
       "      <td>NaN</td>\n",
       "      <td>360.0</td>\n",
       "      <td>1.0</td>\n",
       "      <td>Urban</td>\n",
       "      <td>Y</td>\n",
       "    </tr>\n",
       "    <tr>\n",
       "      <th>1</th>\n",
       "      <td>LP001003</td>\n",
       "      <td>Male</td>\n",
       "      <td>Yes</td>\n",
       "      <td>1</td>\n",
       "      <td>Graduate</td>\n",
       "      <td>No</td>\n",
       "      <td>4583</td>\n",
       "      <td>1508.0</td>\n",
       "      <td>128.0</td>\n",
       "      <td>360.0</td>\n",
       "      <td>1.0</td>\n",
       "      <td>Rural</td>\n",
       "      <td>N</td>\n",
       "    </tr>\n",
       "    <tr>\n",
       "      <th>2</th>\n",
       "      <td>LP001005</td>\n",
       "      <td>Male</td>\n",
       "      <td>Yes</td>\n",
       "      <td>0</td>\n",
       "      <td>Graduate</td>\n",
       "      <td>Yes</td>\n",
       "      <td>3000</td>\n",
       "      <td>0.0</td>\n",
       "      <td>66.0</td>\n",
       "      <td>360.0</td>\n",
       "      <td>1.0</td>\n",
       "      <td>Urban</td>\n",
       "      <td>Y</td>\n",
       "    </tr>\n",
       "    <tr>\n",
       "      <th>3</th>\n",
       "      <td>LP001006</td>\n",
       "      <td>Male</td>\n",
       "      <td>Yes</td>\n",
       "      <td>0</td>\n",
       "      <td>Not Graduate</td>\n",
       "      <td>No</td>\n",
       "      <td>2583</td>\n",
       "      <td>2358.0</td>\n",
       "      <td>120.0</td>\n",
       "      <td>360.0</td>\n",
       "      <td>1.0</td>\n",
       "      <td>Urban</td>\n",
       "      <td>Y</td>\n",
       "    </tr>\n",
       "    <tr>\n",
       "      <th>4</th>\n",
       "      <td>LP001008</td>\n",
       "      <td>Male</td>\n",
       "      <td>No</td>\n",
       "      <td>0</td>\n",
       "      <td>Graduate</td>\n",
       "      <td>No</td>\n",
       "      <td>6000</td>\n",
       "      <td>0.0</td>\n",
       "      <td>141.0</td>\n",
       "      <td>360.0</td>\n",
       "      <td>1.0</td>\n",
       "      <td>Urban</td>\n",
       "      <td>Y</td>\n",
       "    </tr>\n",
       "    <tr>\n",
       "      <th>5</th>\n",
       "      <td>LP001011</td>\n",
       "      <td>Male</td>\n",
       "      <td>Yes</td>\n",
       "      <td>2</td>\n",
       "      <td>Graduate</td>\n",
       "      <td>Yes</td>\n",
       "      <td>5417</td>\n",
       "      <td>4196.0</td>\n",
       "      <td>267.0</td>\n",
       "      <td>360.0</td>\n",
       "      <td>1.0</td>\n",
       "      <td>Urban</td>\n",
       "      <td>Y</td>\n",
       "    </tr>\n",
       "    <tr>\n",
       "      <th>6</th>\n",
       "      <td>LP001013</td>\n",
       "      <td>Male</td>\n",
       "      <td>Yes</td>\n",
       "      <td>0</td>\n",
       "      <td>Not Graduate</td>\n",
       "      <td>No</td>\n",
       "      <td>2333</td>\n",
       "      <td>1516.0</td>\n",
       "      <td>95.0</td>\n",
       "      <td>360.0</td>\n",
       "      <td>1.0</td>\n",
       "      <td>Urban</td>\n",
       "      <td>Y</td>\n",
       "    </tr>\n",
       "    <tr>\n",
       "      <th>7</th>\n",
       "      <td>LP001014</td>\n",
       "      <td>Male</td>\n",
       "      <td>Yes</td>\n",
       "      <td>3+</td>\n",
       "      <td>Graduate</td>\n",
       "      <td>No</td>\n",
       "      <td>3036</td>\n",
       "      <td>2504.0</td>\n",
       "      <td>158.0</td>\n",
       "      <td>360.0</td>\n",
       "      <td>0.0</td>\n",
       "      <td>Semiurban</td>\n",
       "      <td>N</td>\n",
       "    </tr>\n",
       "    <tr>\n",
       "      <th>8</th>\n",
       "      <td>LP001018</td>\n",
       "      <td>Male</td>\n",
       "      <td>Yes</td>\n",
       "      <td>2</td>\n",
       "      <td>Graduate</td>\n",
       "      <td>No</td>\n",
       "      <td>4006</td>\n",
       "      <td>1526.0</td>\n",
       "      <td>168.0</td>\n",
       "      <td>360.0</td>\n",
       "      <td>1.0</td>\n",
       "      <td>Urban</td>\n",
       "      <td>Y</td>\n",
       "    </tr>\n",
       "    <tr>\n",
       "      <th>9</th>\n",
       "      <td>LP001020</td>\n",
       "      <td>Male</td>\n",
       "      <td>Yes</td>\n",
       "      <td>1</td>\n",
       "      <td>Graduate</td>\n",
       "      <td>No</td>\n",
       "      <td>12841</td>\n",
       "      <td>10968.0</td>\n",
       "      <td>349.0</td>\n",
       "      <td>360.0</td>\n",
       "      <td>1.0</td>\n",
       "      <td>Semiurban</td>\n",
       "      <td>N</td>\n",
       "    </tr>\n",
       "  </tbody>\n",
       "</table>\n",
       "</div>"
      ],
      "text/plain": [
       "    Loan_ID Gender Married Dependents     Education Self_Employed  \\\n",
       "0  LP001002   Male      No          0      Graduate            No   \n",
       "1  LP001003   Male     Yes          1      Graduate            No   \n",
       "2  LP001005   Male     Yes          0      Graduate           Yes   \n",
       "3  LP001006   Male     Yes          0  Not Graduate            No   \n",
       "4  LP001008   Male      No          0      Graduate            No   \n",
       "5  LP001011   Male     Yes          2      Graduate           Yes   \n",
       "6  LP001013   Male     Yes          0  Not Graduate            No   \n",
       "7  LP001014   Male     Yes         3+      Graduate            No   \n",
       "8  LP001018   Male     Yes          2      Graduate            No   \n",
       "9  LP001020   Male     Yes          1      Graduate            No   \n",
       "\n",
       "   ApplicantIncome  CoapplicantIncome  LoanAmount  Loan_Amount_Term  \\\n",
       "0             5849                0.0         NaN             360.0   \n",
       "1             4583             1508.0       128.0             360.0   \n",
       "2             3000                0.0        66.0             360.0   \n",
       "3             2583             2358.0       120.0             360.0   \n",
       "4             6000                0.0       141.0             360.0   \n",
       "5             5417             4196.0       267.0             360.0   \n",
       "6             2333             1516.0        95.0             360.0   \n",
       "7             3036             2504.0       158.0             360.0   \n",
       "8             4006             1526.0       168.0             360.0   \n",
       "9            12841            10968.0       349.0             360.0   \n",
       "\n",
       "   Credit_History Property_Area Loan_Status  \n",
       "0             1.0         Urban           Y  \n",
       "1             1.0         Rural           N  \n",
       "2             1.0         Urban           Y  \n",
       "3             1.0         Urban           Y  \n",
       "4             1.0         Urban           Y  \n",
       "5             1.0         Urban           Y  \n",
       "6             1.0         Urban           Y  \n",
       "7             0.0     Semiurban           N  \n",
       "8             1.0         Urban           Y  \n",
       "9             1.0     Semiurban           N  "
      ]
     },
     "execution_count": 3,
     "metadata": {},
     "output_type": "execute_result"
    }
   ],
   "source": [
    "# lets check top 10 rows of the dataset\n",
    "df.head(10)"
   ]
  },
  {
   "cell_type": "code",
   "execution_count": 4,
   "id": "fadcebc3",
   "metadata": {},
   "outputs": [
    {
     "data": {
      "text/html": [
       "<div>\n",
       "<style scoped>\n",
       "    .dataframe tbody tr th:only-of-type {\n",
       "        vertical-align: middle;\n",
       "    }\n",
       "\n",
       "    .dataframe tbody tr th {\n",
       "        vertical-align: top;\n",
       "    }\n",
       "\n",
       "    .dataframe thead th {\n",
       "        text-align: right;\n",
       "    }\n",
       "</style>\n",
       "<table border=\"1\" class=\"dataframe\">\n",
       "  <thead>\n",
       "    <tr style=\"text-align: right;\">\n",
       "      <th></th>\n",
       "      <th>Loan_ID</th>\n",
       "      <th>Gender</th>\n",
       "      <th>Married</th>\n",
       "      <th>Dependents</th>\n",
       "      <th>Education</th>\n",
       "      <th>Self_Employed</th>\n",
       "      <th>ApplicantIncome</th>\n",
       "      <th>CoapplicantIncome</th>\n",
       "      <th>LoanAmount</th>\n",
       "      <th>Loan_Amount_Term</th>\n",
       "      <th>Credit_History</th>\n",
       "      <th>Property_Area</th>\n",
       "      <th>Loan_Status</th>\n",
       "    </tr>\n",
       "  </thead>\n",
       "  <tbody>\n",
       "    <tr>\n",
       "      <th>604</th>\n",
       "      <td>LP002959</td>\n",
       "      <td>Female</td>\n",
       "      <td>Yes</td>\n",
       "      <td>1</td>\n",
       "      <td>Graduate</td>\n",
       "      <td>No</td>\n",
       "      <td>12000</td>\n",
       "      <td>0.0</td>\n",
       "      <td>496.0</td>\n",
       "      <td>360.0</td>\n",
       "      <td>1.0</td>\n",
       "      <td>Semiurban</td>\n",
       "      <td>Y</td>\n",
       "    </tr>\n",
       "    <tr>\n",
       "      <th>605</th>\n",
       "      <td>LP002960</td>\n",
       "      <td>Male</td>\n",
       "      <td>Yes</td>\n",
       "      <td>0</td>\n",
       "      <td>Not Graduate</td>\n",
       "      <td>No</td>\n",
       "      <td>2400</td>\n",
       "      <td>3800.0</td>\n",
       "      <td>NaN</td>\n",
       "      <td>180.0</td>\n",
       "      <td>1.0</td>\n",
       "      <td>Urban</td>\n",
       "      <td>N</td>\n",
       "    </tr>\n",
       "    <tr>\n",
       "      <th>606</th>\n",
       "      <td>LP002961</td>\n",
       "      <td>Male</td>\n",
       "      <td>Yes</td>\n",
       "      <td>1</td>\n",
       "      <td>Graduate</td>\n",
       "      <td>No</td>\n",
       "      <td>3400</td>\n",
       "      <td>2500.0</td>\n",
       "      <td>173.0</td>\n",
       "      <td>360.0</td>\n",
       "      <td>1.0</td>\n",
       "      <td>Semiurban</td>\n",
       "      <td>Y</td>\n",
       "    </tr>\n",
       "    <tr>\n",
       "      <th>607</th>\n",
       "      <td>LP002964</td>\n",
       "      <td>Male</td>\n",
       "      <td>Yes</td>\n",
       "      <td>2</td>\n",
       "      <td>Not Graduate</td>\n",
       "      <td>No</td>\n",
       "      <td>3987</td>\n",
       "      <td>1411.0</td>\n",
       "      <td>157.0</td>\n",
       "      <td>360.0</td>\n",
       "      <td>1.0</td>\n",
       "      <td>Rural</td>\n",
       "      <td>Y</td>\n",
       "    </tr>\n",
       "    <tr>\n",
       "      <th>608</th>\n",
       "      <td>LP002974</td>\n",
       "      <td>Male</td>\n",
       "      <td>Yes</td>\n",
       "      <td>0</td>\n",
       "      <td>Graduate</td>\n",
       "      <td>No</td>\n",
       "      <td>3232</td>\n",
       "      <td>1950.0</td>\n",
       "      <td>108.0</td>\n",
       "      <td>360.0</td>\n",
       "      <td>1.0</td>\n",
       "      <td>Rural</td>\n",
       "      <td>Y</td>\n",
       "    </tr>\n",
       "    <tr>\n",
       "      <th>609</th>\n",
       "      <td>LP002978</td>\n",
       "      <td>Female</td>\n",
       "      <td>No</td>\n",
       "      <td>0</td>\n",
       "      <td>Graduate</td>\n",
       "      <td>No</td>\n",
       "      <td>2900</td>\n",
       "      <td>0.0</td>\n",
       "      <td>71.0</td>\n",
       "      <td>360.0</td>\n",
       "      <td>1.0</td>\n",
       "      <td>Rural</td>\n",
       "      <td>Y</td>\n",
       "    </tr>\n",
       "    <tr>\n",
       "      <th>610</th>\n",
       "      <td>LP002979</td>\n",
       "      <td>Male</td>\n",
       "      <td>Yes</td>\n",
       "      <td>3+</td>\n",
       "      <td>Graduate</td>\n",
       "      <td>No</td>\n",
       "      <td>4106</td>\n",
       "      <td>0.0</td>\n",
       "      <td>40.0</td>\n",
       "      <td>180.0</td>\n",
       "      <td>1.0</td>\n",
       "      <td>Rural</td>\n",
       "      <td>Y</td>\n",
       "    </tr>\n",
       "    <tr>\n",
       "      <th>611</th>\n",
       "      <td>LP002983</td>\n",
       "      <td>Male</td>\n",
       "      <td>Yes</td>\n",
       "      <td>1</td>\n",
       "      <td>Graduate</td>\n",
       "      <td>No</td>\n",
       "      <td>8072</td>\n",
       "      <td>240.0</td>\n",
       "      <td>253.0</td>\n",
       "      <td>360.0</td>\n",
       "      <td>1.0</td>\n",
       "      <td>Urban</td>\n",
       "      <td>Y</td>\n",
       "    </tr>\n",
       "    <tr>\n",
       "      <th>612</th>\n",
       "      <td>LP002984</td>\n",
       "      <td>Male</td>\n",
       "      <td>Yes</td>\n",
       "      <td>2</td>\n",
       "      <td>Graduate</td>\n",
       "      <td>No</td>\n",
       "      <td>7583</td>\n",
       "      <td>0.0</td>\n",
       "      <td>187.0</td>\n",
       "      <td>360.0</td>\n",
       "      <td>1.0</td>\n",
       "      <td>Urban</td>\n",
       "      <td>Y</td>\n",
       "    </tr>\n",
       "    <tr>\n",
       "      <th>613</th>\n",
       "      <td>LP002990</td>\n",
       "      <td>Female</td>\n",
       "      <td>No</td>\n",
       "      <td>0</td>\n",
       "      <td>Graduate</td>\n",
       "      <td>Yes</td>\n",
       "      <td>4583</td>\n",
       "      <td>0.0</td>\n",
       "      <td>133.0</td>\n",
       "      <td>360.0</td>\n",
       "      <td>0.0</td>\n",
       "      <td>Semiurban</td>\n",
       "      <td>N</td>\n",
       "    </tr>\n",
       "  </tbody>\n",
       "</table>\n",
       "</div>"
      ],
      "text/plain": [
       "      Loan_ID  Gender Married Dependents     Education Self_Employed  \\\n",
       "604  LP002959  Female     Yes          1      Graduate            No   \n",
       "605  LP002960    Male     Yes          0  Not Graduate            No   \n",
       "606  LP002961    Male     Yes          1      Graduate            No   \n",
       "607  LP002964    Male     Yes          2  Not Graduate            No   \n",
       "608  LP002974    Male     Yes          0      Graduate            No   \n",
       "609  LP002978  Female      No          0      Graduate            No   \n",
       "610  LP002979    Male     Yes         3+      Graduate            No   \n",
       "611  LP002983    Male     Yes          1      Graduate            No   \n",
       "612  LP002984    Male     Yes          2      Graduate            No   \n",
       "613  LP002990  Female      No          0      Graduate           Yes   \n",
       "\n",
       "     ApplicantIncome  CoapplicantIncome  LoanAmount  Loan_Amount_Term  \\\n",
       "604            12000                0.0       496.0             360.0   \n",
       "605             2400             3800.0         NaN             180.0   \n",
       "606             3400             2500.0       173.0             360.0   \n",
       "607             3987             1411.0       157.0             360.0   \n",
       "608             3232             1950.0       108.0             360.0   \n",
       "609             2900                0.0        71.0             360.0   \n",
       "610             4106                0.0        40.0             180.0   \n",
       "611             8072              240.0       253.0             360.0   \n",
       "612             7583                0.0       187.0             360.0   \n",
       "613             4583                0.0       133.0             360.0   \n",
       "\n",
       "     Credit_History Property_Area Loan_Status  \n",
       "604             1.0     Semiurban           Y  \n",
       "605             1.0         Urban           N  \n",
       "606             1.0     Semiurban           Y  \n",
       "607             1.0         Rural           Y  \n",
       "608             1.0         Rural           Y  \n",
       "609             1.0         Rural           Y  \n",
       "610             1.0         Rural           Y  \n",
       "611             1.0         Urban           Y  \n",
       "612             1.0         Urban           Y  \n",
       "613             0.0     Semiurban           N  "
      ]
     },
     "execution_count": 4,
     "metadata": {},
     "output_type": "execute_result"
    }
   ],
   "source": [
    "# Checking last 10 rows of the DataFrame\n",
    "df.tail(10)"
   ]
  },
  {
   "cell_type": "markdown",
   "id": "66179460",
   "metadata": {},
   "source": [
    "# Exploratory Data Analysis(EDA) & PreProcessing:"
   ]
  },
  {
   "cell_type": "code",
   "execution_count": 5,
   "id": "ed981f4f",
   "metadata": {},
   "outputs": [
    {
     "data": {
      "text/plain": [
       "(614, 13)"
      ]
     },
     "execution_count": 5,
     "metadata": {},
     "output_type": "execute_result"
    }
   ],
   "source": [
    "# lets check the shape of the dataframe\n",
    "df.shape"
   ]
  },
  {
   "cell_type": "markdown",
   "id": "39bf35d1",
   "metadata": {},
   "source": [
    "* Here we can see that there are 614 rows in 13 columns present in the dataset."
   ]
  },
  {
   "cell_type": "code",
   "execution_count": 6,
   "id": "09c957e8",
   "metadata": {},
   "outputs": [
    {
     "data": {
      "text/plain": [
       "Index(['Loan_ID', 'Gender', 'Married', 'Dependents', 'Education',\n",
       "       'Self_Employed', 'ApplicantIncome', 'CoapplicantIncome', 'LoanAmount',\n",
       "       'Loan_Amount_Term', 'Credit_History', 'Property_Area', 'Loan_Status'],\n",
       "      dtype='object')"
      ]
     },
     "execution_count": 6,
     "metadata": {},
     "output_type": "execute_result"
    }
   ],
   "source": [
    "# lets check the name of columns present in dataframe\n",
    "df.columns"
   ]
  },
  {
   "cell_type": "markdown",
   "id": "95e08736",
   "metadata": {},
   "source": [
    "* Here in this dataframe, there is a column named load_id, this is very important column for banks as there are many people with same name and age apply for loans with loan ID it is simpler for banks to find the right person.but we need this data for analysis purpose only, so we don't require this column in our project analysis as id might complicate our project and we might not get proper predictions.so we will drop this column"
   ]
  },
  {
   "cell_type": "code",
   "execution_count": 7,
   "id": "47403f72",
   "metadata": {},
   "outputs": [
    {
     "data": {
      "text/plain": [
       "Loan_ID               object\n",
       "Gender                object\n",
       "Married               object\n",
       "Dependents            object\n",
       "Education             object\n",
       "Self_Employed         object\n",
       "ApplicantIncome        int64\n",
       "CoapplicantIncome    float64\n",
       "LoanAmount           float64\n",
       "Loan_Amount_Term     float64\n",
       "Credit_History       float64\n",
       "Property_Area         object\n",
       "Loan_Status           object\n",
       "dtype: object"
      ]
     },
     "execution_count": 7,
     "metadata": {},
     "output_type": "execute_result"
    }
   ],
   "source": [
    "# lets check the data types of all the columns in the dataframe\n",
    "df.dtypes"
   ]
  },
  {
   "cell_type": "markdown",
   "id": "e0984a6f",
   "metadata": {},
   "source": [
    "* This dataset have all 3 types of datatypes i.e. integer, float and object dtypes."
   ]
  },
  {
   "cell_type": "code",
   "execution_count": 8,
   "id": "6b08ad03",
   "metadata": {},
   "outputs": [
    {
     "name": "stdout",
     "output_type": "stream",
     "text": [
      "<class 'pandas.core.frame.DataFrame'>\n",
      "RangeIndex: 614 entries, 0 to 613\n",
      "Data columns (total 13 columns):\n",
      " #   Column             Non-Null Count  Dtype  \n",
      "---  ------             --------------  -----  \n",
      " 0   Loan_ID            614 non-null    object \n",
      " 1   Gender             601 non-null    object \n",
      " 2   Married            611 non-null    object \n",
      " 3   Dependents         599 non-null    object \n",
      " 4   Education          614 non-null    object \n",
      " 5   Self_Employed      582 non-null    object \n",
      " 6   ApplicantIncome    614 non-null    int64  \n",
      " 7   CoapplicantIncome  614 non-null    float64\n",
      " 8   LoanAmount         592 non-null    float64\n",
      " 9   Loan_Amount_Term   600 non-null    float64\n",
      " 10  Credit_History     564 non-null    float64\n",
      " 11  Property_Area      614 non-null    object \n",
      " 12  Loan_Status        614 non-null    object \n",
      "dtypes: float64(4), int64(1), object(8)\n",
      "memory usage: 62.5+ KB\n"
     ]
    }
   ],
   "source": [
    "# lets check information of this dataset\n",
    "df.info()"
   ]
  },
  {
   "cell_type": "markdown",
   "id": "68b43cc0",
   "metadata": {},
   "source": [
    "* Here we can see that there are some columns with null values, we have to fix them."
   ]
  },
  {
   "cell_type": "code",
   "execution_count": 9,
   "id": "d3ea2664",
   "metadata": {},
   "outputs": [
    {
     "data": {
      "text/plain": [
       "Loan_ID               0\n",
       "Gender               13\n",
       "Married               3\n",
       "Dependents           15\n",
       "Education             0\n",
       "Self_Employed        32\n",
       "ApplicantIncome       0\n",
       "CoapplicantIncome     0\n",
       "LoanAmount           22\n",
       "Loan_Amount_Term     14\n",
       "Credit_History       50\n",
       "Property_Area         0\n",
       "Loan_Status           0\n",
       "dtype: int64"
      ]
     },
     "execution_count": 9,
     "metadata": {},
     "output_type": "execute_result"
    }
   ],
   "source": [
    "# Checking null values in the dataset\n",
    "df.isnull().sum()"
   ]
  },
  {
   "cell_type": "markdown",
   "id": "953eb49d",
   "metadata": {},
   "source": [
    "* We are getting clear information regarding null values present in the columns. There are null values present in Gender, Married, Dependents, Self_Employed, LoanAmount, Loan_Amount_term and credit_History. which we need to fix."
   ]
  },
  {
   "cell_type": "code",
   "execution_count": 10,
   "id": "5a4a96ab",
   "metadata": {},
   "outputs": [
    {
     "data": {
      "image/png": "[encoded data removed]",
      "text/plain": [
       "<Figure size 720x504 with 2 Axes>"
      ]
     },
     "metadata": {
      "needs_background": "light"
     },
     "output_type": "display_data"
    }
   ],
   "source": [
    "# Lets visualize null Values present in the dataset.\n",
    "plt.figure(figsize=(10,7))\n",
    "sns.heatmap(df.isnull(),cmap=\"Paired\")\n",
    "plt.title(\"Null Values\")\n",
    "plt.show()"
   ]
  },
  {
   "cell_type": "markdown",
   "id": "39efc936",
   "metadata": {},
   "source": [
    "* Heatmap visualization also confirms presence of null values in the columns."
   ]
  },
  {
   "cell_type": "code",
   "execution_count": 11,
   "id": "e7ac4799",
   "metadata": {},
   "outputs": [
    {
     "data": {
      "text/plain": [
       "Loan_ID              614\n",
       "Gender                 2\n",
       "Married                2\n",
       "Dependents             4\n",
       "Education              2\n",
       "Self_Employed          2\n",
       "ApplicantIncome      505\n",
       "CoapplicantIncome    287\n",
       "LoanAmount           203\n",
       "Loan_Amount_Term      10\n",
       "Credit_History         2\n",
       "Property_Area          3\n",
       "Loan_Status            2\n",
       "dtype: int64"
      ]
     },
     "execution_count": 11,
     "metadata": {},
     "output_type": "execute_result"
    }
   ],
   "source": [
    "# Now lets check the unique values in all the columns of the dataset.\n",
    "df.nunique()"
   ]
  },
  {
   "cell_type": "markdown",
   "id": "0f4aa723",
   "metadata": {},
   "source": [
    "* Here we can see that all values  of column Loan_ID is unique as expected, but this will not help us in analysis."
   ]
  },
  {
   "cell_type": "code",
   "execution_count": 12,
   "id": "dcce8f75",
   "metadata": {},
   "outputs": [
    {
     "name": "stdout",
     "output_type": "stream",
     "text": [
      "LP001356    1\n",
      "LP002555    1\n",
      "LP002917    1\n",
      "LP001005    1\n",
      "LP001594    1\n",
      "           ..\n",
      "LP002603    1\n",
      "LP001949    1\n",
      "LP001253    1\n",
      "LP002367    1\n",
      "LP002236    1\n",
      "Name: Loan_ID, Length: 614, dtype: int64\n",
      "_______________________________________________________\n",
      "-------------------------------------------------------\n",
      "Male      489\n",
      "Female    112\n",
      "Name: Gender, dtype: int64\n",
      "_______________________________________________________\n",
      "-------------------------------------------------------\n",
      "Yes    398\n",
      "No     213\n",
      "Name: Married, dtype: int64\n",
      "_______________________________________________________\n",
      "-------------------------------------------------------\n",
      "0     345\n",
      "1     102\n",
      "2     101\n",
      "3+     51\n",
      "Name: Dependents, dtype: int64\n",
      "_______________________________________________________\n",
      "-------------------------------------------------------\n",
      "Graduate        480\n",
      "Not Graduate    134\n",
      "Name: Education, dtype: int64\n",
      "_______________________________________________________\n",
      "-------------------------------------------------------\n",
      "No     500\n",
      "Yes     82\n",
      "Name: Self_Employed, dtype: int64\n",
      "_______________________________________________________\n",
      "-------------------------------------------------------\n",
      "2500    9\n",
      "6000    6\n",
      "2600    6\n",
      "4583    6\n",
      "4166    5\n",
      "       ..\n",
      "5503    1\n",
      "3450    1\n",
      "2425    1\n",
      "2423    1\n",
      "4095    1\n",
      "Name: ApplicantIncome, Length: 505, dtype: int64\n",
      "_______________________________________________________\n",
      "-------------------------------------------------------\n",
      "0.0       273\n",
      "2500.0      5\n",
      "2083.0      5\n",
      "1666.0      5\n",
      "1625.0      3\n",
      "         ... \n",
      "2365.0      1\n",
      "1695.0      1\n",
      "2466.0      1\n",
      "2375.0      1\n",
      "1700.0      1\n",
      "Name: CoapplicantIncome, Length: 287, dtype: int64\n",
      "_______________________________________________________\n",
      "-------------------------------------------------------\n",
      "120.0    20\n",
      "110.0    17\n",
      "100.0    15\n",
      "160.0    12\n",
      "187.0    12\n",
      "         ..\n",
      "211.0     1\n",
      "250.0     1\n",
      "62.0      1\n",
      "85.0      1\n",
      "436.0     1\n",
      "Name: LoanAmount, Length: 203, dtype: int64\n",
      "_______________________________________________________\n",
      "-------------------------------------------------------\n",
      "360.0    512\n",
      "180.0     44\n",
      "480.0     15\n",
      "300.0     13\n",
      "84.0       4\n",
      "240.0      4\n",
      "120.0      3\n",
      "36.0       2\n",
      "60.0       2\n",
      "12.0       1\n",
      "Name: Loan_Amount_Term, dtype: int64\n",
      "_______________________________________________________\n",
      "-------------------------------------------------------\n",
      "1.0    475\n",
      "0.0     89\n",
      "Name: Credit_History, dtype: int64\n",
      "_______________________________________________________\n",
      "-------------------------------------------------------\n",
      "Semiurban    233\n",
      "Urban        202\n",
      "Rural        179\n",
      "Name: Property_Area, dtype: int64\n",
      "_______________________________________________________\n",
      "-------------------------------------------------------\n",
      "Y    422\n",
      "N    192\n",
      "Name: Loan_Status, dtype: int64\n",
      "_______________________________________________________\n",
      "-------------------------------------------------------\n"
     ]
    }
   ],
   "source": [
    "# Checking value count of all the columns present in the dataset.\n",
    "for i in df.columns:\n",
    "    print(df[i].value_counts())\n",
    "    print(\"_______________________________________________________\")\n",
    "    print(\"-------------------------------------------------------\")"
   ]
  },
  {
   "cell_type": "markdown",
   "id": "5ae65567",
   "metadata": {},
   "source": [
    "* Here we are confirmed once more that all values present in the loan ID column are Unique, which will not help in our analysis\n",
    "* There is one more column named Coapplicant Income where there are 273 rows with 0.0 values, we have to fix that as well, else it will affect in our model performance."
   ]
  },
  {
   "cell_type": "code",
   "execution_count": 13,
   "id": "e5d00c96",
   "metadata": {},
   "outputs": [],
   "source": [
    "# lets drop the loan id column first\n",
    "df.drop([\"Loan_ID\"],axis=1,inplace=True)"
   ]
  },
  {
   "cell_type": "code",
   "execution_count": 14,
   "id": "3c7bd163",
   "metadata": {},
   "outputs": [
    {
     "data": {
      "text/html": [
       "<div>\n",
       "<style scoped>\n",
       "    .dataframe tbody tr th:only-of-type {\n",
       "        vertical-align: middle;\n",
       "    }\n",
       "\n",
       "    .dataframe tbody tr th {\n",
       "        vertical-align: top;\n",
       "    }\n",
       "\n",
       "    .dataframe thead th {\n",
       "        text-align: right;\n",
       "    }\n",
       "</style>\n",
       "<table border=\"1\" class=\"dataframe\">\n",
       "  <thead>\n",
       "    <tr style=\"text-align: right;\">\n",
       "      <th></th>\n",
       "      <th>Gender</th>\n",
       "      <th>Married</th>\n",
       "      <th>Dependents</th>\n",
       "      <th>Education</th>\n",
       "      <th>Self_Employed</th>\n",
       "      <th>ApplicantIncome</th>\n",
       "      <th>CoapplicantIncome</th>\n",
       "      <th>LoanAmount</th>\n",
       "      <th>Loan_Amount_Term</th>\n",
       "      <th>Credit_History</th>\n",
       "      <th>Property_Area</th>\n",
       "      <th>Loan_Status</th>\n",
       "    </tr>\n",
       "  </thead>\n",
       "  <tbody>\n",
       "    <tr>\n",
       "      <th>count</th>\n",
       "      <td>601</td>\n",
       "      <td>611</td>\n",
       "      <td>599</td>\n",
       "      <td>614</td>\n",
       "      <td>582</td>\n",
       "      <td>614.000000</td>\n",
       "      <td>614.000000</td>\n",
       "      <td>592.000000</td>\n",
       "      <td>600.00000</td>\n",
       "      <td>564.000000</td>\n",
       "      <td>614</td>\n",
       "      <td>614</td>\n",
       "    </tr>\n",
       "    <tr>\n",
       "      <th>unique</th>\n",
       "      <td>2</td>\n",
       "      <td>2</td>\n",
       "      <td>4</td>\n",
       "      <td>2</td>\n",
       "      <td>2</td>\n",
       "      <td>NaN</td>\n",
       "      <td>NaN</td>\n",
       "      <td>NaN</td>\n",
       "      <td>NaN</td>\n",
       "      <td>NaN</td>\n",
       "      <td>3</td>\n",
       "      <td>2</td>\n",
       "    </tr>\n",
       "    <tr>\n",
       "      <th>top</th>\n",
       "      <td>Male</td>\n",
       "      <td>Yes</td>\n",
       "      <td>0</td>\n",
       "      <td>Graduate</td>\n",
       "      <td>No</td>\n",
       "      <td>NaN</td>\n",
       "      <td>NaN</td>\n",
       "      <td>NaN</td>\n",
       "      <td>NaN</td>\n",
       "      <td>NaN</td>\n",
       "      <td>Semiurban</td>\n",
       "      <td>Y</td>\n",
       "    </tr>\n",
       "    <tr>\n",
       "      <th>freq</th>\n",
       "      <td>489</td>\n",
       "      <td>398</td>\n",
       "      <td>345</td>\n",
       "      <td>480</td>\n",
       "      <td>500</td>\n",
       "      <td>NaN</td>\n",
       "      <td>NaN</td>\n",
       "      <td>NaN</td>\n",
       "      <td>NaN</td>\n",
       "      <td>NaN</td>\n",
       "      <td>233</td>\n",
       "      <td>422</td>\n",
       "    </tr>\n",
       "    <tr>\n",
       "      <th>mean</th>\n",
       "      <td>NaN</td>\n",
       "      <td>NaN</td>\n",
       "      <td>NaN</td>\n",
       "      <td>NaN</td>\n",
       "      <td>NaN</td>\n",
       "      <td>5403.459283</td>\n",
       "      <td>1621.245798</td>\n",
       "      <td>146.412162</td>\n",
       "      <td>342.00000</td>\n",
       "      <td>0.842199</td>\n",
       "      <td>NaN</td>\n",
       "      <td>NaN</td>\n",
       "    </tr>\n",
       "    <tr>\n",
       "      <th>std</th>\n",
       "      <td>NaN</td>\n",
       "      <td>NaN</td>\n",
       "      <td>NaN</td>\n",
       "      <td>NaN</td>\n",
       "      <td>NaN</td>\n",
       "      <td>6109.041673</td>\n",
       "      <td>2926.248369</td>\n",
       "      <td>85.587325</td>\n",
       "      <td>65.12041</td>\n",
       "      <td>0.364878</td>\n",
       "      <td>NaN</td>\n",
       "      <td>NaN</td>\n",
       "    </tr>\n",
       "    <tr>\n",
       "      <th>min</th>\n",
       "      <td>NaN</td>\n",
       "      <td>NaN</td>\n",
       "      <td>NaN</td>\n",
       "      <td>NaN</td>\n",
       "      <td>NaN</td>\n",
       "      <td>150.000000</td>\n",
       "      <td>0.000000</td>\n",
       "      <td>9.000000</td>\n",
       "      <td>12.00000</td>\n",
       "      <td>0.000000</td>\n",
       "      <td>NaN</td>\n",
       "      <td>NaN</td>\n",
       "    </tr>\n",
       "    <tr>\n",
       "      <th>25%</th>\n",
       "      <td>NaN</td>\n",
       "      <td>NaN</td>\n",
       "      <td>NaN</td>\n",
       "      <td>NaN</td>\n",
       "      <td>NaN</td>\n",
       "      <td>2877.500000</td>\n",
       "      <td>0.000000</td>\n",
       "      <td>100.000000</td>\n",
       "      <td>360.00000</td>\n",
       "      <td>1.000000</td>\n",
       "      <td>NaN</td>\n",
       "      <td>NaN</td>\n",
       "    </tr>\n",
       "    <tr>\n",
       "      <th>50%</th>\n",
       "      <td>NaN</td>\n",
       "      <td>NaN</td>\n",
       "      <td>NaN</td>\n",
       "      <td>NaN</td>\n",
       "      <td>NaN</td>\n",
       "      <td>3812.500000</td>\n",
       "      <td>1188.500000</td>\n",
       "      <td>128.000000</td>\n",
       "      <td>360.00000</td>\n",
       "      <td>1.000000</td>\n",
       "      <td>NaN</td>\n",
       "      <td>NaN</td>\n",
       "    </tr>\n",
       "    <tr>\n",
       "      <th>75%</th>\n",
       "      <td>NaN</td>\n",
       "      <td>NaN</td>\n",
       "      <td>NaN</td>\n",
       "      <td>NaN</td>\n",
       "      <td>NaN</td>\n",
       "      <td>5795.000000</td>\n",
       "      <td>2297.250000</td>\n",
       "      <td>168.000000</td>\n",
       "      <td>360.00000</td>\n",
       "      <td>1.000000</td>\n",
       "      <td>NaN</td>\n",
       "      <td>NaN</td>\n",
       "    </tr>\n",
       "    <tr>\n",
       "      <th>max</th>\n",
       "      <td>NaN</td>\n",
       "      <td>NaN</td>\n",
       "      <td>NaN</td>\n",
       "      <td>NaN</td>\n",
       "      <td>NaN</td>\n",
       "      <td>81000.000000</td>\n",
       "      <td>41667.000000</td>\n",
       "      <td>700.000000</td>\n",
       "      <td>480.00000</td>\n",
       "      <td>1.000000</td>\n",
       "      <td>NaN</td>\n",
       "      <td>NaN</td>\n",
       "    </tr>\n",
       "  </tbody>\n",
       "</table>\n",
       "</div>"
      ],
      "text/plain": [
       "       Gender Married Dependents Education Self_Employed  ApplicantIncome  \\\n",
       "count     601     611        599       614           582       614.000000   \n",
       "unique      2       2          4         2             2              NaN   \n",
       "top      Male     Yes          0  Graduate            No              NaN   \n",
       "freq      489     398        345       480           500              NaN   \n",
       "mean      NaN     NaN        NaN       NaN           NaN      5403.459283   \n",
       "std       NaN     NaN        NaN       NaN           NaN      6109.041673   \n",
       "min       NaN     NaN        NaN       NaN           NaN       150.000000   \n",
       "25%       NaN     NaN        NaN       NaN           NaN      2877.500000   \n",
       "50%       NaN     NaN        NaN       NaN           NaN      3812.500000   \n",
       "75%       NaN     NaN        NaN       NaN           NaN      5795.000000   \n",
       "max       NaN     NaN        NaN       NaN           NaN     81000.000000   \n",
       "\n",
       "        CoapplicantIncome  LoanAmount  Loan_Amount_Term  Credit_History  \\\n",
       "count          614.000000  592.000000         600.00000      564.000000   \n",
       "unique                NaN         NaN               NaN             NaN   \n",
       "top                   NaN         NaN               NaN             NaN   \n",
       "freq                  NaN         NaN               NaN             NaN   \n",
       "mean          1621.245798  146.412162         342.00000        0.842199   \n",
       "std           2926.248369   85.587325          65.12041        0.364878   \n",
       "min              0.000000    9.000000          12.00000        0.000000   \n",
       "25%              0.000000  100.000000         360.00000        1.000000   \n",
       "50%           1188.500000  128.000000         360.00000        1.000000   \n",
       "75%           2297.250000  168.000000         360.00000        1.000000   \n",
       "max          41667.000000  700.000000         480.00000        1.000000   \n",
       "\n",
       "       Property_Area Loan_Status  \n",
       "count            614         614  \n",
       "unique             3           2  \n",
       "top        Semiurban           Y  \n",
       "freq             233         422  \n",
       "mean             NaN         NaN  \n",
       "std              NaN         NaN  \n",
       "min              NaN         NaN  \n",
       "25%              NaN         NaN  \n",
       "50%              NaN         NaN  \n",
       "75%              NaN         NaN  \n",
       "max              NaN         NaN  "
      ]
     },
     "execution_count": 14,
     "metadata": {},
     "output_type": "execute_result"
    }
   ],
   "source": [
    "# lets check statistical Summary if the dataset provided and trying to study and observe the data.\n",
    "df.describe(include=\"all\")"
   ]
  },
  {
   "cell_type": "markdown",
   "id": "df3b1c95",
   "metadata": {},
   "source": [
    "Initial Observations:\n",
    "    \n",
    "    * Here we can clearly see that huge amount of outliers are present in ApplicantIncome,CoapplicantIncome, LoanAmount, Loan_Amount_Term.\n",
    "    \n",
    "    * There is skewness present in all the Numeric columns.\n",
    "    \n",
    "    * Standard Deviation is high in ApplicantIncome, coapplicantincom,loanAmount and Loan_Amount_Term\n",
    "    "
   ]
  },
  {
   "cell_type": "code",
   "execution_count": 15,
   "id": "bc12eab0",
   "metadata": {},
   "outputs": [
    {
     "data": {
      "text/plain": [
       "ApplicantIncome      6.539513\n",
       "CoapplicantIncome    7.491531\n",
       "LoanAmount           2.677552\n",
       "Loan_Amount_Term    -2.362414\n",
       "Credit_History      -1.882361\n",
       "dtype: float64"
      ]
     },
     "execution_count": 15,
     "metadata": {},
     "output_type": "execute_result"
    }
   ],
   "source": [
    "# Lets check the presence of skewness now\n",
    "df.skew()"
   ]
  },
  {
   "cell_type": "markdown",
   "id": "505f679f",
   "metadata": {},
   "source": [
    "Ideal skewness range is +/- 0.50. Here we can clearly see that skewness if present in all numerical columns "
   ]
  },
  {
   "cell_type": "markdown",
   "id": "d545551a",
   "metadata": {},
   "source": [
    "Imputation Technique:\n",
    "    It is used to Replace NaN values:\n",
    "        there is skewness in all the numerical columns amd we have to use mean or median to replace NaN values. i am using mean to replace null values in coapplicant income column and median to replace null values in LoanAmount column.\n",
    "        And i am using mode to replace nan values in all other columns including two numerical columns loan_amount_term and credit history as there are only 10 amd 2 unique values present in that column."
   ]
  },
  {
   "cell_type": "code",
   "execution_count": 16,
   "id": "9c2a74cd",
   "metadata": {},
   "outputs": [
    {
     "data": {
      "text/html": [
       "<div>\n",
       "<style scoped>\n",
       "    .dataframe tbody tr th:only-of-type {\n",
       "        vertical-align: middle;\n",
       "    }\n",
       "\n",
       "    .dataframe tbody tr th {\n",
       "        vertical-align: top;\n",
       "    }\n",
       "\n",
       "    .dataframe thead th {\n",
       "        text-align: right;\n",
       "    }\n",
       "</style>\n",
       "<table border=\"1\" class=\"dataframe\">\n",
       "  <thead>\n",
       "    <tr style=\"text-align: right;\">\n",
       "      <th></th>\n",
       "      <th>Gender</th>\n",
       "      <th>Married</th>\n",
       "      <th>Dependents</th>\n",
       "      <th>Education</th>\n",
       "      <th>Self_Employed</th>\n",
       "      <th>ApplicantIncome</th>\n",
       "      <th>CoapplicantIncome</th>\n",
       "      <th>LoanAmount</th>\n",
       "      <th>Loan_Amount_Term</th>\n",
       "      <th>Credit_History</th>\n",
       "      <th>Property_Area</th>\n",
       "      <th>Loan_Status</th>\n",
       "    </tr>\n",
       "  </thead>\n",
       "  <tbody>\n",
       "    <tr>\n",
       "      <th>0</th>\n",
       "      <td>Male</td>\n",
       "      <td>No</td>\n",
       "      <td>0</td>\n",
       "      <td>Graduate</td>\n",
       "      <td>No</td>\n",
       "      <td>5849</td>\n",
       "      <td>1621.245798</td>\n",
       "      <td>NaN</td>\n",
       "      <td>360.0</td>\n",
       "      <td>1.0</td>\n",
       "      <td>Urban</td>\n",
       "      <td>Y</td>\n",
       "    </tr>\n",
       "    <tr>\n",
       "      <th>1</th>\n",
       "      <td>Male</td>\n",
       "      <td>Yes</td>\n",
       "      <td>1</td>\n",
       "      <td>Graduate</td>\n",
       "      <td>No</td>\n",
       "      <td>4583</td>\n",
       "      <td>1508.000000</td>\n",
       "      <td>128.0</td>\n",
       "      <td>360.0</td>\n",
       "      <td>1.0</td>\n",
       "      <td>Rural</td>\n",
       "      <td>N</td>\n",
       "    </tr>\n",
       "    <tr>\n",
       "      <th>2</th>\n",
       "      <td>Male</td>\n",
       "      <td>Yes</td>\n",
       "      <td>0</td>\n",
       "      <td>Graduate</td>\n",
       "      <td>Yes</td>\n",
       "      <td>3000</td>\n",
       "      <td>1621.245798</td>\n",
       "      <td>66.0</td>\n",
       "      <td>360.0</td>\n",
       "      <td>1.0</td>\n",
       "      <td>Urban</td>\n",
       "      <td>Y</td>\n",
       "    </tr>\n",
       "    <tr>\n",
       "      <th>3</th>\n",
       "      <td>Male</td>\n",
       "      <td>Yes</td>\n",
       "      <td>0</td>\n",
       "      <td>Not Graduate</td>\n",
       "      <td>No</td>\n",
       "      <td>2583</td>\n",
       "      <td>2358.000000</td>\n",
       "      <td>120.0</td>\n",
       "      <td>360.0</td>\n",
       "      <td>1.0</td>\n",
       "      <td>Urban</td>\n",
       "      <td>Y</td>\n",
       "    </tr>\n",
       "    <tr>\n",
       "      <th>4</th>\n",
       "      <td>Male</td>\n",
       "      <td>No</td>\n",
       "      <td>0</td>\n",
       "      <td>Graduate</td>\n",
       "      <td>No</td>\n",
       "      <td>6000</td>\n",
       "      <td>1621.245798</td>\n",
       "      <td>141.0</td>\n",
       "      <td>360.0</td>\n",
       "      <td>1.0</td>\n",
       "      <td>Urban</td>\n",
       "      <td>Y</td>\n",
       "    </tr>\n",
       "    <tr>\n",
       "      <th>...</th>\n",
       "      <td>...</td>\n",
       "      <td>...</td>\n",
       "      <td>...</td>\n",
       "      <td>...</td>\n",
       "      <td>...</td>\n",
       "      <td>...</td>\n",
       "      <td>...</td>\n",
       "      <td>...</td>\n",
       "      <td>...</td>\n",
       "      <td>...</td>\n",
       "      <td>...</td>\n",
       "      <td>...</td>\n",
       "    </tr>\n",
       "    <tr>\n",
       "      <th>609</th>\n",
       "      <td>Female</td>\n",
       "      <td>No</td>\n",
       "      <td>0</td>\n",
       "      <td>Graduate</td>\n",
       "      <td>No</td>\n",
       "      <td>2900</td>\n",
       "      <td>1621.245798</td>\n",
       "      <td>71.0</td>\n",
       "      <td>360.0</td>\n",
       "      <td>1.0</td>\n",
       "      <td>Rural</td>\n",
       "      <td>Y</td>\n",
       "    </tr>\n",
       "    <tr>\n",
       "      <th>610</th>\n",
       "      <td>Male</td>\n",
       "      <td>Yes</td>\n",
       "      <td>3+</td>\n",
       "      <td>Graduate</td>\n",
       "      <td>No</td>\n",
       "      <td>4106</td>\n",
       "      <td>1621.245798</td>\n",
       "      <td>40.0</td>\n",
       "      <td>180.0</td>\n",
       "      <td>1.0</td>\n",
       "      <td>Rural</td>\n",
       "      <td>Y</td>\n",
       "    </tr>\n",
       "    <tr>\n",
       "      <th>611</th>\n",
       "      <td>Male</td>\n",
       "      <td>Yes</td>\n",
       "      <td>1</td>\n",
       "      <td>Graduate</td>\n",
       "      <td>No</td>\n",
       "      <td>8072</td>\n",
       "      <td>240.000000</td>\n",
       "      <td>253.0</td>\n",
       "      <td>360.0</td>\n",
       "      <td>1.0</td>\n",
       "      <td>Urban</td>\n",
       "      <td>Y</td>\n",
       "    </tr>\n",
       "    <tr>\n",
       "      <th>612</th>\n",
       "      <td>Male</td>\n",
       "      <td>Yes</td>\n",
       "      <td>2</td>\n",
       "      <td>Graduate</td>\n",
       "      <td>No</td>\n",
       "      <td>7583</td>\n",
       "      <td>1621.245798</td>\n",
       "      <td>187.0</td>\n",
       "      <td>360.0</td>\n",
       "      <td>1.0</td>\n",
       "      <td>Urban</td>\n",
       "      <td>Y</td>\n",
       "    </tr>\n",
       "    <tr>\n",
       "      <th>613</th>\n",
       "      <td>Female</td>\n",
       "      <td>No</td>\n",
       "      <td>0</td>\n",
       "      <td>Graduate</td>\n",
       "      <td>Yes</td>\n",
       "      <td>4583</td>\n",
       "      <td>1621.245798</td>\n",
       "      <td>133.0</td>\n",
       "      <td>360.0</td>\n",
       "      <td>0.0</td>\n",
       "      <td>Semiurban</td>\n",
       "      <td>N</td>\n",
       "    </tr>\n",
       "  </tbody>\n",
       "</table>\n",
       "<p>614 rows × 12 columns</p>\n",
       "</div>"
      ],
      "text/plain": [
       "     Gender Married Dependents     Education Self_Employed  ApplicantIncome  \\\n",
       "0      Male      No          0      Graduate            No             5849   \n",
       "1      Male     Yes          1      Graduate            No             4583   \n",
       "2      Male     Yes          0      Graduate           Yes             3000   \n",
       "3      Male     Yes          0  Not Graduate            No             2583   \n",
       "4      Male      No          0      Graduate            No             6000   \n",
       "..      ...     ...        ...           ...           ...              ...   \n",
       "609  Female      No          0      Graduate            No             2900   \n",
       "610    Male     Yes         3+      Graduate            No             4106   \n",
       "611    Male     Yes          1      Graduate            No             8072   \n",
       "612    Male     Yes          2      Graduate            No             7583   \n",
       "613  Female      No          0      Graduate           Yes             4583   \n",
       "\n",
       "     CoapplicantIncome  LoanAmount  Loan_Amount_Term  Credit_History  \\\n",
       "0          1621.245798         NaN             360.0             1.0   \n",
       "1          1508.000000       128.0             360.0             1.0   \n",
       "2          1621.245798        66.0             360.0             1.0   \n",
       "3          2358.000000       120.0             360.0             1.0   \n",
       "4          1621.245798       141.0             360.0             1.0   \n",
       "..                 ...         ...               ...             ...   \n",
       "609        1621.245798        71.0             360.0             1.0   \n",
       "610        1621.245798        40.0             180.0             1.0   \n",
       "611         240.000000       253.0             360.0             1.0   \n",
       "612        1621.245798       187.0             360.0             1.0   \n",
       "613        1621.245798       133.0             360.0             0.0   \n",
       "\n",
       "    Property_Area Loan_Status  \n",
       "0           Urban           Y  \n",
       "1           Rural           N  \n",
       "2           Urban           Y  \n",
       "3           Urban           Y  \n",
       "4           Urban           Y  \n",
       "..            ...         ...  \n",
       "609         Rural           Y  \n",
       "610         Rural           Y  \n",
       "611         Urban           Y  \n",
       "612         Urban           Y  \n",
       "613     Semiurban           N  \n",
       "\n",
       "[614 rows x 12 columns]"
      ]
     },
     "execution_count": 16,
     "metadata": {},
     "output_type": "execute_result"
    }
   ],
   "source": [
    "# lets replace zeros in coapplicantIncome column with mean\n",
    "df[\"CoapplicantIncome\"].replace(0,df[\"CoapplicantIncome\"].mean(),inplace=True)\n",
    "df"
   ]
  },
  {
   "cell_type": "markdown",
   "id": "2f017ff1",
   "metadata": {},
   "source": [
    "* Here we have successfully replaced null values in column CoapplicantIncome with mean of the column."
   ]
  },
  {
   "cell_type": "code",
   "execution_count": 17,
   "id": "5cf877f6",
   "metadata": {},
   "outputs": [],
   "source": [
    "# Replacing NaN values in LoanAmount column with median\n",
    "df[\"LoanAmount\"] = df[\"LoanAmount\"].fillna(df[\"LoanAmount\"].median())"
   ]
  },
  {
   "cell_type": "code",
   "execution_count": 18,
   "id": "01fc2210",
   "metadata": {},
   "outputs": [],
   "source": [
    "# replacing Nan Or Null values in all other categorical columns with mode of that column\n",
    "df[\"Gender\"]=df[\"Gender\"].fillna(df[\"Gender\"].mode()[0])\n",
    "df[\"Married\"]=df[\"Married\"].fillna(df[\"Married\"].mode()[0])\n",
    "df[\"Dependents\"]=df[\"Dependents\"].fillna(df[\"Dependents\"].mode()[0])\n",
    "df[\"Self_Employed\"]=df[\"Self_Employed\"].fillna(df[\"Self_Employed\"].mode()[0])\n",
    "df[\"Credit_History\"]=df[\"Credit_History\"].fillna(df[\"Credit_History\"].mode()[0])\n",
    "df[\"Loan_Amount_Term\"]=df[\"Loan_Amount_Term\"].fillna(df[\"Loan_Amount_Term\"].mode()[0])"
   ]
  },
  {
   "cell_type": "code",
   "execution_count": 19,
   "id": "e3c3cc90",
   "metadata": {},
   "outputs": [
    {
     "data": {
      "text/plain": [
       "Gender               0\n",
       "Married              0\n",
       "Dependents           0\n",
       "Education            0\n",
       "Self_Employed        0\n",
       "ApplicantIncome      0\n",
       "CoapplicantIncome    0\n",
       "LoanAmount           0\n",
       "Loan_Amount_Term     0\n",
       "Credit_History       0\n",
       "Property_Area        0\n",
       "Loan_Status          0\n",
       "dtype: int64"
      ]
     },
     "execution_count": 19,
     "metadata": {},
     "output_type": "execute_result"
    }
   ],
   "source": [
    "# lets re-check null values\n",
    "df.isnull().sum()"
   ]
  },
  {
   "cell_type": "markdown",
   "id": "dcd5ea7b",
   "metadata": {},
   "source": [
    "* Successfully replaced all null or NaN values present in the dataset."
   ]
  },
  {
   "cell_type": "code",
   "execution_count": 20,
   "id": "8edcaec6",
   "metadata": {},
   "outputs": [
    {
     "data": {
      "text/html": [
       "<div>\n",
       "<style scoped>\n",
       "    .dataframe tbody tr th:only-of-type {\n",
       "        vertical-align: middle;\n",
       "    }\n",
       "\n",
       "    .dataframe tbody tr th {\n",
       "        vertical-align: top;\n",
       "    }\n",
       "\n",
       "    .dataframe thead th {\n",
       "        text-align: right;\n",
       "    }\n",
       "</style>\n",
       "<table border=\"1\" class=\"dataframe\">\n",
       "  <thead>\n",
       "    <tr style=\"text-align: right;\">\n",
       "      <th></th>\n",
       "      <th>Gender</th>\n",
       "      <th>Married</th>\n",
       "      <th>Dependents</th>\n",
       "      <th>Education</th>\n",
       "      <th>Self_Employed</th>\n",
       "      <th>ApplicantIncome</th>\n",
       "      <th>CoapplicantIncome</th>\n",
       "      <th>LoanAmount</th>\n",
       "      <th>Loan_Amount_Term</th>\n",
       "      <th>Credit_History</th>\n",
       "      <th>Property_Area</th>\n",
       "      <th>Loan_Status</th>\n",
       "    </tr>\n",
       "  </thead>\n",
       "  <tbody>\n",
       "  </tbody>\n",
       "</table>\n",
       "</div>"
      ],
      "text/plain": [
       "Empty DataFrame\n",
       "Columns: [Gender, Married, Dependents, Education, Self_Employed, ApplicantIncome, CoapplicantIncome, LoanAmount, Loan_Amount_Term, Credit_History, Property_Area, Loan_Status]\n",
       "Index: []"
      ]
     },
     "execution_count": 20,
     "metadata": {},
     "output_type": "execute_result"
    }
   ],
   "source": [
    "# Lets check if there is any empty observation present in the dataset\n",
    "df.loc[df[\"Loan_Status\"]== \"  \"]"
   ]
  },
  {
   "cell_type": "markdown",
   "id": "f8344d88",
   "metadata": {},
   "source": [
    "* Here we can see that there are no empty observation present in any columns of this dataset."
   ]
  },
  {
   "cell_type": "markdown",
   "id": "5be66297",
   "metadata": {},
   "source": [
    "# Visualization:"
   ]
  },
  {
   "cell_type": "markdown",
   "id": "575e622a",
   "metadata": {},
   "source": [
    "# UniVariate Analysis:"
   ]
  },
  {
   "cell_type": "code",
   "execution_count": 21,
   "id": "bbb7dd50",
   "metadata": {},
   "outputs": [
    {
     "name": "stdout",
     "output_type": "stream",
     "text": [
      "['Gender', 'Married', 'Dependents', 'Education', 'Self_Employed', 'Property_Area', 'Loan_Status']\n",
      "['ApplicantIncome', 'CoapplicantIncome', 'LoanAmount', 'Loan_Amount_Term', 'Credit_History']\n"
     ]
    }
   ],
   "source": [
    "# Lets divide integer and categorical columns in two different variables\n",
    "category=[]\n",
    "integer=[]\n",
    "for i in df.dtypes.index:\n",
    "    if df.dtypes[i]==\"object\":\n",
    "        category.append(i)\n",
    "    else:\n",
    "        integer.append(i)\n",
    "print(category)\n",
    "print(integer)"
   ]
  },
  {
   "cell_type": "markdown",
   "id": "1b90aa2b",
   "metadata": {},
   "source": [
    "* Here we have successfully separated categorical and integer/float data."
   ]
  },
  {
   "cell_type": "code",
   "execution_count": 22,
   "id": "eae31e13",
   "metadata": {},
   "outputs": [
    {
     "data": {
      "image/png": "[encoded data removed]",
      "text/plain": [
       "<Figure size 648x360 with 1 Axes>"
      ]
     },
     "metadata": {
      "needs_background": "light"
     },
     "output_type": "display_data"
    },
    {
     "data": {
      "image/png": "[encoded data removed]",
      "text/plain": [
       "<Figure size 648x360 with 1 Axes>"
      ]
     },
     "metadata": {
      "needs_background": "light"
     },
     "output_type": "display_data"
    },
    {
     "data": {
      "image/png": "[encoded data removed]",
      "text/plain": [
       "<Figure size 648x360 with 1 Axes>"
      ]
     },
     "metadata": {
      "needs_background": "light"
     },
     "output_type": "display_data"
    },
    {
     "data": {
      "image/png": "[encoded data removed]",
      "text/plain": [
       "<Figure size 648x360 with 1 Axes>"
      ]
     },
     "metadata": {
      "needs_background": "light"
     },
     "output_type": "display_data"
    },
    {
     "data": {
      "image/png": "[encoded data removed]",
      "text/plain": [
       "<Figure size 648x360 with 1 Axes>"
      ]
     },
     "metadata": {
      "needs_background": "light"
     },
     "output_type": "display_data"
    }
   ],
   "source": [
    "# Lets visualize all numerical columns using distribution plot.\n",
    "for i in df[integer]:\n",
    "    plt.figure(figsize=(9,5))\n",
    "    sns.distplot(df[i], bins=10)\n",
    "    plt.title(i)\n",
    "    plt.show()"
   ]
  },
  {
   "cell_type": "markdown",
   "id": "4cffa3d2",
   "metadata": {},
   "source": [
    "* Here also we can see that skewness is present in all the Numerical columns."
   ]
  },
  {
   "cell_type": "code",
   "execution_count": 23,
   "id": "62457190",
   "metadata": {},
   "outputs": [
    {
     "data": {
      "image/png": "[encoded data removed]",
      "text/plain": [
       "<Figure size 648x360 with 1 Axes>"
      ]
     },
     "metadata": {
      "needs_background": "light"
     },
     "output_type": "display_data"
    },
    {
     "data": {
      "image/png": "[encoded data removed]",
      "text/plain": [
       "<Figure size 648x360 with 1 Axes>"
      ]
     },
     "metadata": {
      "needs_background": "light"
     },
     "output_type": "display_data"
    },
    {
     "data": {
      "image/png": "[encoded data removed]",
      "text/plain": [
       "<Figure size 648x360 with 1 Axes>"
      ]
     },
     "metadata": {
      "needs_background": "light"
     },
     "output_type": "display_data"
    },
    {
     "data": {
      "image/png": "[encoded data removed]",
      "text/plain": [
       "<Figure size 648x360 with 1 Axes>"
      ]
     },
     "metadata": {
      "needs_background": "light"
     },
     "output_type": "display_data"
    },
    {
     "data": {
      "image/png": "[encoded data removed]",
      "text/plain": [
       "<Figure size 648x360 with 1 Axes>"
      ]
     },
     "metadata": {
      "needs_background": "light"
     },
     "output_type": "display_data"
    },
    {
     "data": {
      "image/png": "[encoded data removed]",
      "text/plain": [
       "<Figure size 648x360 with 1 Axes>"
      ]
     },
     "metadata": {
      "needs_background": "light"
     },
     "output_type": "display_data"
    },
    {
     "data": {
      "image/png": "[encoded data removed]",
      "text/plain": [
       "<Figure size 648x360 with 1 Axes>"
      ]
     },
     "metadata": {
      "needs_background": "light"
     },
     "output_type": "display_data"
    }
   ],
   "source": [
    "for i in df[category]:\n",
    "    plt.figure(figsize=(9,5))\n",
    "    sns.countplot(df[i])\n",
    "    plt.title(i)\n",
    "    plt.show()"
   ]
  },
  {
   "cell_type": "markdown",
   "id": "ceffb68e",
   "metadata": {},
   "source": [
    "Key Observations:\n",
    "    \n",
    "    * In Column gender we can clearly see that most of the applicants are Male.\n",
    "    \n",
    "    * In Column Married we can clearly see that most of the applicants are Married.\n",
    "    \n",
    "    * In Dependents column we can clearly see that most of the applicants have 0 dependents.\n",
    "    \n",
    "    * In Education column we can clearly see that most of the applicants are minimum Graduate.\n",
    "    \n",
    "    * In Self_Employed column we can clearly see that most of the applicants are salaried.\n",
    "    \n",
    "    * In Property_Area column we can clearly see that most of the properties are from semiurban than urban and least in Rural Area.\n",
    "    \n",
    "    * In Our Target column Loan_Status most of the applicants are elidgible for loan."
   ]
  },
  {
   "cell_type": "markdown",
   "id": "e7705a45",
   "metadata": {},
   "source": [
    "# BiVariate Analysis:\n",
    "    Here we will find correlation in two columns."
   ]
  },
  {
   "cell_type": "code",
   "execution_count": 35,
   "id": "8d148478",
   "metadata": {},
   "outputs": [
    {
     "data": {
      "image/png": "[encoded data removed]",
      "text/plain": [
       "<Figure size 432x288 with 1 Axes>"
      ]
     },
     "metadata": {
      "needs_background": "light"
     },
     "output_type": "display_data"
    }
   ],
   "source": [
    "# checking correlation of our target column with ApplicantIncome\n",
    "sns.barplot(x=\"Loan_Status\",y=\"ApplicantIncome\",data=df)\n",
    "plt.show()"
   ]
  },
  {
   "cell_type": "code",
   "execution_count": 36,
   "id": "85863e65",
   "metadata": {},
   "outputs": [
    {
     "data": {
      "text/plain": [
       "<AxesSubplot:xlabel='Loan_Status', ylabel='CoapplicantIncome'>"
      ]
     },
     "execution_count": 36,
     "metadata": {},
     "output_type": "execute_result"
    },
    {
     "data": {
      "image/png": "[encoded data removed]",
      "text/plain": [
       "<Figure size 432x288 with 1 Axes>"
      ]
     },
     "metadata": {
      "needs_background": "light"
     },
     "output_type": "display_data"
    }
   ],
   "source": [
    "#checking correlation of our target column with CoapplicantIncome\n",
    "sns.barplot(x=\"Loan_Status\",y=\"CoapplicantIncome\",data=df)"
   ]
  },
  {
   "cell_type": "code",
   "execution_count": 38,
   "id": "f609030f",
   "metadata": {},
   "outputs": [
    {
     "data": {
      "image/png": "[encoded data removed]",
      "text/plain": [
       "<Figure size 432x288 with 1 Axes>"
      ]
     },
     "metadata": {
      "needs_background": "light"
     },
     "output_type": "display_data"
    }
   ],
   "source": [
    "#checking correlation of our target column  with LoanAmount\n",
    "sns.barplot(x=\"Loan_Status\",y=\"LoanAmount\",data=df)\n",
    "plt.show()"
   ]
  },
  {
   "cell_type": "code",
   "execution_count": 39,
   "id": "4a7c5c4d",
   "metadata": {},
   "outputs": [
    {
     "data": {
      "image/png": "[encoded data removed]",
      "text/plain": [
       "<Figure size 432x288 with 1 Axes>"
      ]
     },
     "metadata": {
      "needs_background": "light"
     },
     "output_type": "display_data"
    }
   ],
   "source": [
    "#checking correlation of our target column  with Loan_Amount_Term\n",
    "sns.barplot(x=\"Loan_Status\",y=\"Loan_Amount_Term\",data=df)\n",
    "plt.show()"
   ]
  },
  {
   "cell_type": "code",
   "execution_count": 40,
   "id": "0246c822",
   "metadata": {},
   "outputs": [
    {
     "data": {
      "image/png": "[encoded data removed]",
      "text/plain": [
       "<Figure size 432x288 with 1 Axes>"
      ]
     },
     "metadata": {
      "needs_background": "light"
     },
     "output_type": "display_data"
    }
   ],
   "source": [
    "#checking correlation of our target column  with credit history\n",
    "sns.barplot(x=\"Loan_Status\",y=\"Credit_History\",data=df)\n",
    "plt.show()"
   ]
  },
  {
   "cell_type": "code",
   "execution_count": 43,
   "id": "5b43033f",
   "metadata": {},
   "outputs": [
    {
     "data": {
      "image/png": "[encoded data removed]",
      "text/plain": [
       "<Figure size 432x288 with 1 Axes>"
      ]
     },
     "metadata": {
      "needs_background": "light"
     },
     "output_type": "display_data"
    }
   ],
   "source": [
    "#checking correlation of our target column  with credit history\n",
    "sns.scatterplot(x=\"Credit_History\",y=\"ApplicantIncome\",hue=\"Loan_Status\",data=df)\n",
    "plt.show()"
   ]
  },
  {
   "cell_type": "markdown",
   "id": "7a86118c",
   "metadata": {},
   "source": [
    "* Here we can clearly see that if the applicant has good credit score the loan approval chances are more."
   ]
  },
  {
   "cell_type": "code",
   "execution_count": 44,
   "id": "ed0755a2",
   "metadata": {},
   "outputs": [
    {
     "data": {
      "text/plain": [
       "(array([0, 1]), [Text(0, 0, 'Male'), Text(1, 0, 'Female')])"
      ]
     },
     "execution_count": 44,
     "metadata": {},
     "output_type": "execute_result"
    },
    {
     "data": {
      "image/png": "[encoded data removed]",
      "text/plain": [
       "<Figure size 428.625x360 with 1 Axes>"
      ]
     },
     "metadata": {
      "needs_background": "light"
     },
     "output_type": "display_data"
    }
   ],
   "source": [
    "# lets correlate gender with applicantIncome with loan_status as hue\n",
    "sns.catplot(x = \"Gender\", y = \"ApplicantIncome\", hue = \"Loan_Status\", kind = \"violin\", data=df, split=True)\n",
    "plt.xticks(rotation=90)"
   ]
  },
  {
   "cell_type": "markdown",
   "id": "b6bd31b7",
   "metadata": {},
   "source": [
    "* Here we can see that male applicant has more chance of getting loan approved as compared to female."
   ]
  },
  {
   "cell_type": "code",
   "execution_count": 45,
   "id": "27e873e2",
   "metadata": {},
   "outputs": [
    {
     "data": {
      "image/png": "[encoded data removed]",
      "text/plain": [
       "<Figure size 428.625x360 with 1 Axes>"
      ]
     },
     "metadata": {
      "needs_background": "light"
     },
     "output_type": "display_data"
    }
   ],
   "source": [
    "# lets compare education with loanAmount\n",
    "sns.catplot(x = \"Education\", y = \"LoanAmount\", hue = \"Loan_Status\", kind = \"violin\", data=df, split=True)\n",
    "plt.xticks(rotation=90);"
   ]
  },
  {
   "cell_type": "markdown",
   "id": "532dd4df",
   "metadata": {},
   "source": [
    "* Graduate applicants have more chances of getting loans approved."
   ]
  },
  {
   "cell_type": "code",
   "execution_count": 46,
   "id": "24313ccd",
   "metadata": {},
   "outputs": [
    {
     "data": {
      "image/png": "[encoded data removed]",
      "text/plain": [
       "<Figure size 428.625x360 with 1 Axes>"
      ]
     },
     "metadata": {
      "needs_background": "light"
     },
     "output_type": "display_data"
    }
   ],
   "source": [
    "# Lets compare self employed with credit history\n",
    "sns.catplot(x = \"Self_Employed\", y = \"Credit_History\", hue = \"Loan_Status\", kind = \"violin\", data=df, split=True)\n",
    "plt.xticks(rotation=90);"
   ]
  },
  {
   "cell_type": "markdown",
   "id": "1605b489",
   "metadata": {},
   "source": [
    "* Here we can clearly see that applicants who are self employed have very low chances of getting loan approved."
   ]
  },
  {
   "cell_type": "markdown",
   "id": "c6187479",
   "metadata": {},
   "source": [
    "# Multivariate Analysis:\n",
    "            \n",
    "            * here we can correlate or compare 3 or more columns together."
   ]
  },
  {
   "cell_type": "code",
   "execution_count": 50,
   "id": "5168b803",
   "metadata": {},
   "outputs": [
    {
     "data": {
      "text/html": [
       "<div>\n",
       "<style scoped>\n",
       "    .dataframe tbody tr th:only-of-type {\n",
       "        vertical-align: middle;\n",
       "    }\n",
       "\n",
       "    .dataframe tbody tr th {\n",
       "        vertical-align: top;\n",
       "    }\n",
       "\n",
       "    .dataframe thead th {\n",
       "        text-align: right;\n",
       "    }\n",
       "</style>\n",
       "<table border=\"1\" class=\"dataframe\">\n",
       "  <thead>\n",
       "    <tr style=\"text-align: right;\">\n",
       "      <th></th>\n",
       "      <th>ApplicantIncome</th>\n",
       "      <th>CoapplicantIncome</th>\n",
       "      <th>LoanAmount</th>\n",
       "      <th>Loan_Amount_Term</th>\n",
       "      <th>Credit_History</th>\n",
       "    </tr>\n",
       "  </thead>\n",
       "  <tbody>\n",
       "    <tr>\n",
       "      <th>ApplicantIncome</th>\n",
       "      <td>1.000000</td>\n",
       "      <td>-0.050734</td>\n",
       "      <td>0.565181</td>\n",
       "      <td>-0.046531</td>\n",
       "      <td>-0.018615</td>\n",
       "    </tr>\n",
       "    <tr>\n",
       "      <th>CoapplicantIncome</th>\n",
       "      <td>-0.050734</td>\n",
       "      <td>1.000000</td>\n",
       "      <td>0.206453</td>\n",
       "      <td>-0.073210</td>\n",
       "      <td>0.008339</td>\n",
       "    </tr>\n",
       "    <tr>\n",
       "      <th>LoanAmount</th>\n",
       "      <td>0.565181</td>\n",
       "      <td>0.206453</td>\n",
       "      <td>1.000000</td>\n",
       "      <td>0.036960</td>\n",
       "      <td>-0.000607</td>\n",
       "    </tr>\n",
       "    <tr>\n",
       "      <th>Loan_Amount_Term</th>\n",
       "      <td>-0.046531</td>\n",
       "      <td>-0.073210</td>\n",
       "      <td>0.036960</td>\n",
       "      <td>1.000000</td>\n",
       "      <td>-0.004705</td>\n",
       "    </tr>\n",
       "    <tr>\n",
       "      <th>Credit_History</th>\n",
       "      <td>-0.018615</td>\n",
       "      <td>0.008339</td>\n",
       "      <td>-0.000607</td>\n",
       "      <td>-0.004705</td>\n",
       "      <td>1.000000</td>\n",
       "    </tr>\n",
       "  </tbody>\n",
       "</table>\n",
       "</div>"
      ],
      "text/plain": [
       "                   ApplicantIncome  CoapplicantIncome  LoanAmount  \\\n",
       "ApplicantIncome           1.000000          -0.050734    0.565181   \n",
       "CoapplicantIncome        -0.050734           1.000000    0.206453   \n",
       "LoanAmount                0.565181           0.206453    1.000000   \n",
       "Loan_Amount_Term         -0.046531          -0.073210    0.036960   \n",
       "Credit_History           -0.018615           0.008339   -0.000607   \n",
       "\n",
       "                   Loan_Amount_Term  Credit_History  \n",
       "ApplicantIncome           -0.046531       -0.018615  \n",
       "CoapplicantIncome         -0.073210        0.008339  \n",
       "LoanAmount                 0.036960       -0.000607  \n",
       "Loan_Amount_Term           1.000000       -0.004705  \n",
       "Credit_History            -0.004705        1.000000  "
      ]
     },
     "execution_count": 50,
     "metadata": {},
     "output_type": "execute_result"
    }
   ],
   "source": [
    "# Lets see correlation between all the columns of the dataset\n",
    "df.corr()"
   ]
  },
  {
   "cell_type": "markdown",
   "id": "eb23cc7f",
   "metadata": {},
   "source": [
    "* here we can see that there is good positive correlation between applicantIncome and LoanAmount"
   ]
  },
  {
   "cell_type": "code",
   "execution_count": 51,
   "id": "b9d83bad",
   "metadata": {},
   "outputs": [
    {
     "data": {
      "text/plain": [
       "<seaborn.axisgrid.PairGrid at 0x2566a3e7790>"
      ]
     },
     "execution_count": 51,
     "metadata": {},
     "output_type": "execute_result"
    },
    {
     "data": {
      "image/png": "[encoded data removed]",
      "text/plain": [
       "<Figure size 968.625x900 with 30 Axes>"
      ]
     },
     "metadata": {
      "needs_background": "light"
     },
     "output_type": "display_data"
    }
   ],
   "source": [
    "# lets correlate all the columns in dataset using pairplot\n",
    "sns.pairplot(df,hue=\"Loan_Status\")"
   ]
  },
  {
   "cell_type": "markdown",
   "id": "656bee42",
   "metadata": {},
   "source": [
    "# Data Cleaning:"
   ]
  },
  {
   "cell_type": "markdown",
   "id": "3a6e2f29",
   "metadata": {},
   "source": [
    "# Outliers:"
   ]
  },
  {
   "cell_type": "code",
   "execution_count": 52,
   "id": "fd42d2a1",
   "metadata": {},
   "outputs": [
    {
     "data": {
      "text/plain": [
       "<AxesSubplot:>"
      ]
     },
     "execution_count": 52,
     "metadata": {},
     "output_type": "execute_result"
    },
    {
     "data": {
      "image/png": "[encoded data removed]",
      "text/plain": [
       "<Figure size 1080x1080 with 1 Axes>"
      ]
     },
     "metadata": {
      "needs_background": "light"
     },
     "output_type": "display_data"
    }
   ],
   "source": [
    "# Checking outliers using boxplot\n",
    "df.plot(kind=\"box\", figsize=(15,15),fontsize=16, rot=90)"
   ]
  },
  {
   "cell_type": "markdown",
   "id": "66fd5602",
   "metadata": {},
   "source": [
    "* There are high value of outliers present in ApplicantIncome and CoapplicantIncome and few outliers are present in other 3 columns.\n",
    "loan_amount_term and credit_history are categorical columns. so we wont remove there outliers."
   ]
  },
  {
   "cell_type": "markdown",
   "id": "e7990c4d",
   "metadata": {},
   "source": [
    "# Removing Outliers using Zscore Method:"
   ]
  },
  {
   "cell_type": "code",
   "execution_count": 53,
   "id": "97b8f745",
   "metadata": {},
   "outputs": [],
   "source": [
    "out=df[[\"ApplicantIncome\",\"CoapplicantIncome\",\"LoanAmount\"]]"
   ]
  },
  {
   "cell_type": "markdown",
   "id": "19dc7d1d",
   "metadata": {},
   "source": [
    "* we have created a list of columns to remove outliers from these columns"
   ]
  },
  {
   "cell_type": "code",
   "execution_count": 54,
   "id": "1c5d30b6",
   "metadata": {},
   "outputs": [
    {
     "data": {
      "text/html": [
       "<div>\n",
       "<style scoped>\n",
       "    .dataframe tbody tr th:only-of-type {\n",
       "        vertical-align: middle;\n",
       "    }\n",
       "\n",
       "    .dataframe tbody tr th {\n",
       "        vertical-align: top;\n",
       "    }\n",
       "\n",
       "    .dataframe thead th {\n",
       "        text-align: right;\n",
       "    }\n",
       "</style>\n",
       "<table border=\"1\" class=\"dataframe\">\n",
       "  <thead>\n",
       "    <tr style=\"text-align: right;\">\n",
       "      <th></th>\n",
       "      <th>Gender</th>\n",
       "      <th>Married</th>\n",
       "      <th>Dependents</th>\n",
       "      <th>Education</th>\n",
       "      <th>Self_Employed</th>\n",
       "      <th>ApplicantIncome</th>\n",
       "      <th>CoapplicantIncome</th>\n",
       "      <th>LoanAmount</th>\n",
       "      <th>Loan_Amount_Term</th>\n",
       "      <th>Credit_History</th>\n",
       "      <th>Property_Area</th>\n",
       "      <th>Loan_Status</th>\n",
       "    </tr>\n",
       "  </thead>\n",
       "  <tbody>\n",
       "    <tr>\n",
       "      <th>0</th>\n",
       "      <td>Male</td>\n",
       "      <td>No</td>\n",
       "      <td>0</td>\n",
       "      <td>Graduate</td>\n",
       "      <td>No</td>\n",
       "      <td>5849</td>\n",
       "      <td>1621.245798</td>\n",
       "      <td>128.0</td>\n",
       "      <td>360.0</td>\n",
       "      <td>1.0</td>\n",
       "      <td>Urban</td>\n",
       "      <td>Y</td>\n",
       "    </tr>\n",
       "    <tr>\n",
       "      <th>1</th>\n",
       "      <td>Male</td>\n",
       "      <td>Yes</td>\n",
       "      <td>1</td>\n",
       "      <td>Graduate</td>\n",
       "      <td>No</td>\n",
       "      <td>4583</td>\n",
       "      <td>1508.000000</td>\n",
       "      <td>128.0</td>\n",
       "      <td>360.0</td>\n",
       "      <td>1.0</td>\n",
       "      <td>Rural</td>\n",
       "      <td>N</td>\n",
       "    </tr>\n",
       "    <tr>\n",
       "      <th>2</th>\n",
       "      <td>Male</td>\n",
       "      <td>Yes</td>\n",
       "      <td>0</td>\n",
       "      <td>Graduate</td>\n",
       "      <td>Yes</td>\n",
       "      <td>3000</td>\n",
       "      <td>1621.245798</td>\n",
       "      <td>66.0</td>\n",
       "      <td>360.0</td>\n",
       "      <td>1.0</td>\n",
       "      <td>Urban</td>\n",
       "      <td>Y</td>\n",
       "    </tr>\n",
       "    <tr>\n",
       "      <th>3</th>\n",
       "      <td>Male</td>\n",
       "      <td>Yes</td>\n",
       "      <td>0</td>\n",
       "      <td>Not Graduate</td>\n",
       "      <td>No</td>\n",
       "      <td>2583</td>\n",
       "      <td>2358.000000</td>\n",
       "      <td>120.0</td>\n",
       "      <td>360.0</td>\n",
       "      <td>1.0</td>\n",
       "      <td>Urban</td>\n",
       "      <td>Y</td>\n",
       "    </tr>\n",
       "    <tr>\n",
       "      <th>4</th>\n",
       "      <td>Male</td>\n",
       "      <td>No</td>\n",
       "      <td>0</td>\n",
       "      <td>Graduate</td>\n",
       "      <td>No</td>\n",
       "      <td>6000</td>\n",
       "      <td>1621.245798</td>\n",
       "      <td>141.0</td>\n",
       "      <td>360.0</td>\n",
       "      <td>1.0</td>\n",
       "      <td>Urban</td>\n",
       "      <td>Y</td>\n",
       "    </tr>\n",
       "    <tr>\n",
       "      <th>...</th>\n",
       "      <td>...</td>\n",
       "      <td>...</td>\n",
       "      <td>...</td>\n",
       "      <td>...</td>\n",
       "      <td>...</td>\n",
       "      <td>...</td>\n",
       "      <td>...</td>\n",
       "      <td>...</td>\n",
       "      <td>...</td>\n",
       "      <td>...</td>\n",
       "      <td>...</td>\n",
       "      <td>...</td>\n",
       "    </tr>\n",
       "    <tr>\n",
       "      <th>609</th>\n",
       "      <td>Female</td>\n",
       "      <td>No</td>\n",
       "      <td>0</td>\n",
       "      <td>Graduate</td>\n",
       "      <td>No</td>\n",
       "      <td>2900</td>\n",
       "      <td>1621.245798</td>\n",
       "      <td>71.0</td>\n",
       "      <td>360.0</td>\n",
       "      <td>1.0</td>\n",
       "      <td>Rural</td>\n",
       "      <td>Y</td>\n",
       "    </tr>\n",
       "    <tr>\n",
       "      <th>610</th>\n",
       "      <td>Male</td>\n",
       "      <td>Yes</td>\n",
       "      <td>3+</td>\n",
       "      <td>Graduate</td>\n",
       "      <td>No</td>\n",
       "      <td>4106</td>\n",
       "      <td>1621.245798</td>\n",
       "      <td>40.0</td>\n",
       "      <td>180.0</td>\n",
       "      <td>1.0</td>\n",
       "      <td>Rural</td>\n",
       "      <td>Y</td>\n",
       "    </tr>\n",
       "    <tr>\n",
       "      <th>611</th>\n",
       "      <td>Male</td>\n",
       "      <td>Yes</td>\n",
       "      <td>1</td>\n",
       "      <td>Graduate</td>\n",
       "      <td>No</td>\n",
       "      <td>8072</td>\n",
       "      <td>240.000000</td>\n",
       "      <td>253.0</td>\n",
       "      <td>360.0</td>\n",
       "      <td>1.0</td>\n",
       "      <td>Urban</td>\n",
       "      <td>Y</td>\n",
       "    </tr>\n",
       "    <tr>\n",
       "      <th>612</th>\n",
       "      <td>Male</td>\n",
       "      <td>Yes</td>\n",
       "      <td>2</td>\n",
       "      <td>Graduate</td>\n",
       "      <td>No</td>\n",
       "      <td>7583</td>\n",
       "      <td>1621.245798</td>\n",
       "      <td>187.0</td>\n",
       "      <td>360.0</td>\n",
       "      <td>1.0</td>\n",
       "      <td>Urban</td>\n",
       "      <td>Y</td>\n",
       "    </tr>\n",
       "    <tr>\n",
       "      <th>613</th>\n",
       "      <td>Female</td>\n",
       "      <td>No</td>\n",
       "      <td>0</td>\n",
       "      <td>Graduate</td>\n",
       "      <td>Yes</td>\n",
       "      <td>4583</td>\n",
       "      <td>1621.245798</td>\n",
       "      <td>133.0</td>\n",
       "      <td>360.0</td>\n",
       "      <td>0.0</td>\n",
       "      <td>Semiurban</td>\n",
       "      <td>N</td>\n",
       "    </tr>\n",
       "  </tbody>\n",
       "</table>\n",
       "<p>589 rows × 12 columns</p>\n",
       "</div>"
      ],
      "text/plain": [
       "     Gender Married Dependents     Education Self_Employed  ApplicantIncome  \\\n",
       "0      Male      No          0      Graduate            No             5849   \n",
       "1      Male     Yes          1      Graduate            No             4583   \n",
       "2      Male     Yes          0      Graduate           Yes             3000   \n",
       "3      Male     Yes          0  Not Graduate            No             2583   \n",
       "4      Male      No          0      Graduate            No             6000   \n",
       "..      ...     ...        ...           ...           ...              ...   \n",
       "609  Female      No          0      Graduate            No             2900   \n",
       "610    Male     Yes         3+      Graduate            No             4106   \n",
       "611    Male     Yes          1      Graduate            No             8072   \n",
       "612    Male     Yes          2      Graduate            No             7583   \n",
       "613  Female      No          0      Graduate           Yes             4583   \n",
       "\n",
       "     CoapplicantIncome  LoanAmount  Loan_Amount_Term  Credit_History  \\\n",
       "0          1621.245798       128.0             360.0             1.0   \n",
       "1          1508.000000       128.0             360.0             1.0   \n",
       "2          1621.245798        66.0             360.0             1.0   \n",
       "3          2358.000000       120.0             360.0             1.0   \n",
       "4          1621.245798       141.0             360.0             1.0   \n",
       "..                 ...         ...               ...             ...   \n",
       "609        1621.245798        71.0             360.0             1.0   \n",
       "610        1621.245798        40.0             180.0             1.0   \n",
       "611         240.000000       253.0             360.0             1.0   \n",
       "612        1621.245798       187.0             360.0             1.0   \n",
       "613        1621.245798       133.0             360.0             0.0   \n",
       "\n",
       "    Property_Area Loan_Status  \n",
       "0           Urban           Y  \n",
       "1           Rural           N  \n",
       "2           Urban           Y  \n",
       "3           Urban           Y  \n",
       "4           Urban           Y  \n",
       "..            ...         ...  \n",
       "609         Rural           Y  \n",
       "610         Rural           Y  \n",
       "611         Urban           Y  \n",
       "612         Urban           Y  \n",
       "613     Semiurban           N  \n",
       "\n",
       "[589 rows x 12 columns]"
      ]
     },
     "execution_count": 54,
     "metadata": {},
     "output_type": "execute_result"
    }
   ],
   "source": [
    "# importing required library for zscore\n",
    "from scipy.stats import zscore\n",
    "z=np.abs(zscore(out))\n",
    "df1=df[(z<3).all(axis=1)]\n",
    "df1"
   ]
  },
  {
   "cell_type": "markdown",
   "id": "4573aa76",
   "metadata": {},
   "source": [
    "* We have successfully removed outliers from the dataset"
   ]
  },
  {
   "cell_type": "code",
   "execution_count": 55,
   "id": "75107bb2",
   "metadata": {},
   "outputs": [
    {
     "data": {
      "text/plain": [
       "(589, 12)"
      ]
     },
     "execution_count": 55,
     "metadata": {},
     "output_type": "execute_result"
    }
   ],
   "source": [
    "# checking the shape of new dataset\n",
    "df1.shape"
   ]
  },
  {
   "cell_type": "markdown",
   "id": "698fc441",
   "metadata": {},
   "source": [
    "* we have got 589 rows in 12 columns"
   ]
  },
  {
   "cell_type": "code",
   "execution_count": 56,
   "id": "78b61eeb",
   "metadata": {},
   "outputs": [
    {
     "data": {
      "text/plain": [
       "4.071661237785016"
      ]
     },
     "execution_count": 56,
     "metadata": {},
     "output_type": "execute_result"
    }
   ],
   "source": [
    "# Checking the Percentage of dataloss using zscore\n",
    "dataloss=(((df.shape[0]-df1.shape[0])/df.shape[0])*100)\n",
    "dataloss"
   ]
  },
  {
   "cell_type": "markdown",
   "id": "1b99569e",
   "metadata": {},
   "source": [
    "* We have just lost 4.07% of data which is quite good."
   ]
  },
  {
   "cell_type": "markdown",
   "id": "a3672790",
   "metadata": {},
   "source": [
    "# Skewness:"
   ]
  },
  {
   "cell_type": "code",
   "execution_count": 57,
   "id": "ce0aa60b",
   "metadata": {},
   "outputs": [
    {
     "data": {
      "text/plain": [
       "ApplicantIncome      2.164762\n",
       "CoapplicantIncome    2.554282\n",
       "LoanAmount           1.114173\n",
       "Loan_Amount_Term    -2.446026\n",
       "Credit_History      -2.010069\n",
       "dtype: float64"
      ]
     },
     "execution_count": 57,
     "metadata": {},
     "output_type": "execute_result"
    }
   ],
   "source": [
    "# Lets check skewness in new dataset\n",
    "df1.skew()"
   ]
  },
  {
   "cell_type": "markdown",
   "id": "114636f6",
   "metadata": {},
   "source": [
    "* we can see presence of skewness in all the columns as ideal skewness limit is considered as +/-0.50."
   ]
  },
  {
   "cell_type": "markdown",
   "id": "6fd56926",
   "metadata": {},
   "source": [
    "# Removing skewness using yeo-johnson method:"
   ]
  },
  {
   "cell_type": "code",
   "execution_count": 58,
   "id": "6aff48c8",
   "metadata": {},
   "outputs": [
    {
     "data": {
      "text/plain": [
       "\"\\nparameters:\\nmethod='box_cox' or 'yeo-johnson'\\n\""
      ]
     },
     "execution_count": 58,
     "metadata": {},
     "output_type": "execute_result"
    }
   ],
   "source": [
    "# lets remove skewness from 3 columns only as Loan_amount_term(10 unique values) and credit_history(2 unique values) are like categorical columns\n",
    "# Lets import required library\n",
    "from sklearn.preprocessing import PowerTransformer\n",
    "scaler = PowerTransformer(method=\"yeo-johnson\")\n",
    "'''\n",
    "parameters:\n",
    "method='box_cox' or 'yeo-johnson'\n",
    "'''"
   ]
  },
  {
   "cell_type": "code",
   "execution_count": 65,
   "id": "f2c9acce",
   "metadata": {},
   "outputs": [],
   "source": [
    "skew=[\"ApplicantIncome\",\"CoapplicantIncome\",\"LoanAmount\"]"
   ]
  },
  {
   "cell_type": "code",
   "execution_count": 66,
   "id": "a8ca2953",
   "metadata": {},
   "outputs": [],
   "source": [
    "df1[skew]=scaler.fit_transform(df1[skew].values)"
   ]
  },
  {
   "cell_type": "code",
   "execution_count": 67,
   "id": "a47b5c3a",
   "metadata": {},
   "outputs": [
    {
     "data": {
      "text/plain": [
       "ApplicantIncome      0.028063\n",
       "CoapplicantIncome    0.202442\n",
       "LoanAmount           0.061412\n",
       "dtype: float64"
      ]
     },
     "execution_count": 67,
     "metadata": {},
     "output_type": "execute_result"
    }
   ],
   "source": [
    "df1[skew].skew()"
   ]
  },
  {
   "cell_type": "markdown",
   "id": "d797c759",
   "metadata": {},
   "source": [
    "* Now we can see that we have successfully removed the skewness from all three columns."
   ]
  },
  {
   "cell_type": "code",
   "execution_count": 76,
   "id": "c028fdc0",
   "metadata": {},
   "outputs": [
    {
     "data": {
      "image/png": "[encoded data removed]",
      "text/plain": [
       "<Figure size 720x1080 with 3 Axes>"
      ]
     },
     "metadata": {},
     "output_type": "display_data"
    }
   ],
   "source": [
    "# lets visualize the distribution of data in each column using distribution plot\n",
    "\n",
    "\n",
    "plt.figure(figsize=(10,15), facecolor='white')\n",
    "plotnumber = 1\n",
    "\n",
    "for column in df1[skew]:\n",
    "    if plotnumber<=4:\n",
    "        ax = plt.subplot(2,2,plotnumber)\n",
    "        sns.distplot(df1[column],color='r',kde_kws={\"shade\": True},hist=False)\n",
    "        plt.xlabel(column,fontsize=20)\n",
    "    plotnumber+=1\n",
    "plt.show()"
   ]
  },
  {
   "cell_type": "markdown",
   "id": "c32d774a",
   "metadata": {},
   "source": [
    "* It seems very close to perfect curve"
   ]
  },
  {
   "cell_type": "markdown",
   "id": "bbf47ee3",
   "metadata": {},
   "source": [
    "# Label Encoding:"
   ]
  },
  {
   "cell_type": "code",
   "execution_count": 77,
   "id": "d88cbe73",
   "metadata": {},
   "outputs": [
    {
     "name": "stdout",
     "output_type": "stream",
     "text": [
      "['Gender', 'Married', 'Dependents', 'Education', 'Self_Employed', 'Property_Area', 'Loan_Status']\n"
     ]
    }
   ],
   "source": [
    "# lets separate category columns in new dataset\n",
    "category1=[]\n",
    "for i in df1.dtypes.index:\n",
    "    if df1.dtypes[i]=='object':\n",
    "        category1.append(i)\n",
    "print(category1)"
   ]
  },
  {
   "cell_type": "code",
   "execution_count": null,
   "id": "5be2027c",
   "metadata": {},
   "outputs": [],
   "source": []
  },
  {
   "cell_type": "code",
   "execution_count": 78,
   "id": "974ca50c",
   "metadata": {},
   "outputs": [
    {
     "data": {
      "text/html": [
       "<div>\n",
       "<style scoped>\n",
       "    .dataframe tbody tr th:only-of-type {\n",
       "        vertical-align: middle;\n",
       "    }\n",
       "\n",
       "    .dataframe tbody tr th {\n",
       "        vertical-align: top;\n",
       "    }\n",
       "\n",
       "    .dataframe thead th {\n",
       "        text-align: right;\n",
       "    }\n",
       "</style>\n",
       "<table border=\"1\" class=\"dataframe\">\n",
       "  <thead>\n",
       "    <tr style=\"text-align: right;\">\n",
       "      <th></th>\n",
       "      <th>Gender</th>\n",
       "      <th>Married</th>\n",
       "      <th>Dependents</th>\n",
       "      <th>Education</th>\n",
       "      <th>Self_Employed</th>\n",
       "      <th>Property_Area</th>\n",
       "      <th>Loan_Status</th>\n",
       "    </tr>\n",
       "  </thead>\n",
       "  <tbody>\n",
       "    <tr>\n",
       "      <th>0</th>\n",
       "      <td>1</td>\n",
       "      <td>0</td>\n",
       "      <td>0</td>\n",
       "      <td>0</td>\n",
       "      <td>0</td>\n",
       "      <td>2</td>\n",
       "      <td>1</td>\n",
       "    </tr>\n",
       "    <tr>\n",
       "      <th>1</th>\n",
       "      <td>1</td>\n",
       "      <td>1</td>\n",
       "      <td>1</td>\n",
       "      <td>0</td>\n",
       "      <td>0</td>\n",
       "      <td>0</td>\n",
       "      <td>0</td>\n",
       "    </tr>\n",
       "    <tr>\n",
       "      <th>2</th>\n",
       "      <td>1</td>\n",
       "      <td>1</td>\n",
       "      <td>0</td>\n",
       "      <td>0</td>\n",
       "      <td>1</td>\n",
       "      <td>2</td>\n",
       "      <td>1</td>\n",
       "    </tr>\n",
       "    <tr>\n",
       "      <th>3</th>\n",
       "      <td>1</td>\n",
       "      <td>1</td>\n",
       "      <td>0</td>\n",
       "      <td>1</td>\n",
       "      <td>0</td>\n",
       "      <td>2</td>\n",
       "      <td>1</td>\n",
       "    </tr>\n",
       "    <tr>\n",
       "      <th>4</th>\n",
       "      <td>1</td>\n",
       "      <td>0</td>\n",
       "      <td>0</td>\n",
       "      <td>0</td>\n",
       "      <td>0</td>\n",
       "      <td>2</td>\n",
       "      <td>1</td>\n",
       "    </tr>\n",
       "  </tbody>\n",
       "</table>\n",
       "</div>"
      ],
      "text/plain": [
       "   Gender  Married  Dependents  Education  Self_Employed  Property_Area  \\\n",
       "0       1        0           0          0              0              2   \n",
       "1       1        1           1          0              0              0   \n",
       "2       1        1           0          0              1              2   \n",
       "3       1        1           0          1              0              2   \n",
       "4       1        0           0          0              0              2   \n",
       "\n",
       "   Loan_Status  \n",
       "0            1  \n",
       "1            0  \n",
       "2            1  \n",
       "3            1  \n",
       "4            1  "
      ]
     },
     "execution_count": 78,
     "metadata": {},
     "output_type": "execute_result"
    }
   ],
   "source": [
    "# importing required library\n",
    "from sklearn.preprocessing import LabelEncoder\n",
    "le=LabelEncoder()\n",
    "df1[category1]=df1[category1].apply(le.fit_transform)\n",
    "df1[category1].head()"
   ]
  },
  {
   "cell_type": "markdown",
   "id": "be71ce82",
   "metadata": {},
   "source": [
    "* We have successfully converted object datatype columns to integer datatype columns"
   ]
  },
  {
   "cell_type": "code",
   "execution_count": 79,
   "id": "114f83be",
   "metadata": {},
   "outputs": [
    {
     "data": {
      "text/html": [
       "<div>\n",
       "<style scoped>\n",
       "    .dataframe tbody tr th:only-of-type {\n",
       "        vertical-align: middle;\n",
       "    }\n",
       "\n",
       "    .dataframe tbody tr th {\n",
       "        vertical-align: top;\n",
       "    }\n",
       "\n",
       "    .dataframe thead th {\n",
       "        text-align: right;\n",
       "    }\n",
       "</style>\n",
       "<table border=\"1\" class=\"dataframe\">\n",
       "  <thead>\n",
       "    <tr style=\"text-align: right;\">\n",
       "      <th></th>\n",
       "      <th>Gender</th>\n",
       "      <th>Married</th>\n",
       "      <th>Dependents</th>\n",
       "      <th>Education</th>\n",
       "      <th>Self_Employed</th>\n",
       "      <th>ApplicantIncome</th>\n",
       "      <th>CoapplicantIncome</th>\n",
       "      <th>LoanAmount</th>\n",
       "      <th>Loan_Amount_Term</th>\n",
       "      <th>Credit_History</th>\n",
       "      <th>Property_Area</th>\n",
       "      <th>Loan_Status</th>\n",
       "    </tr>\n",
       "  </thead>\n",
       "  <tbody>\n",
       "    <tr>\n",
       "      <th>Gender</th>\n",
       "      <td>1.000000</td>\n",
       "      <td>0.374745</td>\n",
       "      <td>0.184580</td>\n",
       "      <td>0.050036</td>\n",
       "      <td>0.000841</td>\n",
       "      <td>0.058502</td>\n",
       "      <td>0.091815</td>\n",
       "      <td>0.157432</td>\n",
       "      <td>-0.084919</td>\n",
       "      <td>0.013432</td>\n",
       "      <td>-0.022807</td>\n",
       "      <td>0.021942</td>\n",
       "    </tr>\n",
       "    <tr>\n",
       "      <th>Married</th>\n",
       "      <td>0.374745</td>\n",
       "      <td>1.000000</td>\n",
       "      <td>0.333887</td>\n",
       "      <td>0.015846</td>\n",
       "      <td>-0.004453</td>\n",
       "      <td>-0.022535</td>\n",
       "      <td>0.046542</td>\n",
       "      <td>0.173073</td>\n",
       "      <td>-0.100776</td>\n",
       "      <td>0.019377</td>\n",
       "      <td>0.010586</td>\n",
       "      <td>0.095124</td>\n",
       "    </tr>\n",
       "    <tr>\n",
       "      <th>Dependents</th>\n",
       "      <td>0.184580</td>\n",
       "      <td>0.333887</td>\n",
       "      <td>1.000000</td>\n",
       "      <td>0.068588</td>\n",
       "      <td>0.055481</td>\n",
       "      <td>0.105559</td>\n",
       "      <td>-0.092968</td>\n",
       "      <td>0.128368</td>\n",
       "      <td>-0.091158</td>\n",
       "      <td>-0.017650</td>\n",
       "      <td>0.006005</td>\n",
       "      <td>0.021937</td>\n",
       "    </tr>\n",
       "    <tr>\n",
       "      <th>Education</th>\n",
       "      <td>0.050036</td>\n",
       "      <td>0.015846</td>\n",
       "      <td>0.068588</td>\n",
       "      <td>1.000000</td>\n",
       "      <td>-0.003507</td>\n",
       "      <td>-0.168924</td>\n",
       "      <td>-0.093711</td>\n",
       "      <td>-0.133962</td>\n",
       "      <td>-0.076546</td>\n",
       "      <td>-0.073799</td>\n",
       "      <td>-0.065623</td>\n",
       "      <td>-0.092852</td>\n",
       "    </tr>\n",
       "    <tr>\n",
       "      <th>Self_Employed</th>\n",
       "      <td>0.000841</td>\n",
       "      <td>-0.004453</td>\n",
       "      <td>0.055481</td>\n",
       "      <td>-0.003507</td>\n",
       "      <td>1.000000</td>\n",
       "      <td>0.215911</td>\n",
       "      <td>0.010388</td>\n",
       "      <td>0.105322</td>\n",
       "      <td>-0.053868</td>\n",
       "      <td>-0.012954</td>\n",
       "      <td>-0.030248</td>\n",
       "      <td>-0.016617</td>\n",
       "    </tr>\n",
       "    <tr>\n",
       "      <th>ApplicantIncome</th>\n",
       "      <td>0.058502</td>\n",
       "      <td>-0.022535</td>\n",
       "      <td>0.105559</td>\n",
       "      <td>-0.168924</td>\n",
       "      <td>0.215911</td>\n",
       "      <td>1.000000</td>\n",
       "      <td>-0.090870</td>\n",
       "      <td>0.436309</td>\n",
       "      <td>-0.041597</td>\n",
       "      <td>0.026989</td>\n",
       "      <td>-0.016277</td>\n",
       "      <td>-0.003320</td>\n",
       "    </tr>\n",
       "    <tr>\n",
       "      <th>CoapplicantIncome</th>\n",
       "      <td>0.091815</td>\n",
       "      <td>0.046542</td>\n",
       "      <td>-0.092968</td>\n",
       "      <td>-0.093711</td>\n",
       "      <td>0.010388</td>\n",
       "      <td>-0.090870</td>\n",
       "      <td>1.000000</td>\n",
       "      <td>0.311612</td>\n",
       "      <td>-0.048582</td>\n",
       "      <td>-0.041050</td>\n",
       "      <td>-0.079278</td>\n",
       "      <td>-0.026858</td>\n",
       "    </tr>\n",
       "    <tr>\n",
       "      <th>LoanAmount</th>\n",
       "      <td>0.157432</td>\n",
       "      <td>0.173073</td>\n",
       "      <td>0.128368</td>\n",
       "      <td>-0.133962</td>\n",
       "      <td>0.105322</td>\n",
       "      <td>0.436309</td>\n",
       "      <td>0.311612</td>\n",
       "      <td>1.000000</td>\n",
       "      <td>0.094441</td>\n",
       "      <td>-0.008701</td>\n",
       "      <td>-0.102290</td>\n",
       "      <td>-0.034886</td>\n",
       "    </tr>\n",
       "    <tr>\n",
       "      <th>Loan_Amount_Term</th>\n",
       "      <td>-0.084919</td>\n",
       "      <td>-0.100776</td>\n",
       "      <td>-0.091158</td>\n",
       "      <td>-0.076546</td>\n",
       "      <td>-0.053868</td>\n",
       "      <td>-0.041597</td>\n",
       "      <td>-0.048582</td>\n",
       "      <td>0.094441</td>\n",
       "      <td>1.000000</td>\n",
       "      <td>-0.013960</td>\n",
       "      <td>-0.070405</td>\n",
       "      <td>-0.023119</td>\n",
       "    </tr>\n",
       "    <tr>\n",
       "      <th>Credit_History</th>\n",
       "      <td>0.013432</td>\n",
       "      <td>0.019377</td>\n",
       "      <td>-0.017650</td>\n",
       "      <td>-0.073799</td>\n",
       "      <td>-0.012954</td>\n",
       "      <td>0.026989</td>\n",
       "      <td>-0.041050</td>\n",
       "      <td>-0.008701</td>\n",
       "      <td>-0.013960</td>\n",
       "      <td>1.000000</td>\n",
       "      <td>-0.005694</td>\n",
       "      <td>0.555908</td>\n",
       "    </tr>\n",
       "    <tr>\n",
       "      <th>Property_Area</th>\n",
       "      <td>-0.022807</td>\n",
       "      <td>0.010586</td>\n",
       "      <td>0.006005</td>\n",
       "      <td>-0.065623</td>\n",
       "      <td>-0.030248</td>\n",
       "      <td>-0.016277</td>\n",
       "      <td>-0.079278</td>\n",
       "      <td>-0.102290</td>\n",
       "      <td>-0.070405</td>\n",
       "      <td>-0.005694</td>\n",
       "      <td>1.000000</td>\n",
       "      <td>0.034894</td>\n",
       "    </tr>\n",
       "    <tr>\n",
       "      <th>Loan_Status</th>\n",
       "      <td>0.021942</td>\n",
       "      <td>0.095124</td>\n",
       "      <td>0.021937</td>\n",
       "      <td>-0.092852</td>\n",
       "      <td>-0.016617</td>\n",
       "      <td>-0.003320</td>\n",
       "      <td>-0.026858</td>\n",
       "      <td>-0.034886</td>\n",
       "      <td>-0.023119</td>\n",
       "      <td>0.555908</td>\n",
       "      <td>0.034894</td>\n",
       "      <td>1.000000</td>\n",
       "    </tr>\n",
       "  </tbody>\n",
       "</table>\n",
       "</div>"
      ],
      "text/plain": [
       "                     Gender   Married  Dependents  Education  Self_Employed  \\\n",
       "Gender             1.000000  0.374745    0.184580   0.050036       0.000841   \n",
       "Married            0.374745  1.000000    0.333887   0.015846      -0.004453   \n",
       "Dependents         0.184580  0.333887    1.000000   0.068588       0.055481   \n",
       "Education          0.050036  0.015846    0.068588   1.000000      -0.003507   \n",
       "Self_Employed      0.000841 -0.004453    0.055481  -0.003507       1.000000   \n",
       "ApplicantIncome    0.058502 -0.022535    0.105559  -0.168924       0.215911   \n",
       "CoapplicantIncome  0.091815  0.046542   -0.092968  -0.093711       0.010388   \n",
       "LoanAmount         0.157432  0.173073    0.128368  -0.133962       0.105322   \n",
       "Loan_Amount_Term  -0.084919 -0.100776   -0.091158  -0.076546      -0.053868   \n",
       "Credit_History     0.013432  0.019377   -0.017650  -0.073799      -0.012954   \n",
       "Property_Area     -0.022807  0.010586    0.006005  -0.065623      -0.030248   \n",
       "Loan_Status        0.021942  0.095124    0.021937  -0.092852      -0.016617   \n",
       "\n",
       "                   ApplicantIncome  CoapplicantIncome  LoanAmount  \\\n",
       "Gender                    0.058502           0.091815    0.157432   \n",
       "Married                  -0.022535           0.046542    0.173073   \n",
       "Dependents                0.105559          -0.092968    0.128368   \n",
       "Education                -0.168924          -0.093711   -0.133962   \n",
       "Self_Employed             0.215911           0.010388    0.105322   \n",
       "ApplicantIncome           1.000000          -0.090870    0.436309   \n",
       "CoapplicantIncome        -0.090870           1.000000    0.311612   \n",
       "LoanAmount                0.436309           0.311612    1.000000   \n",
       "Loan_Amount_Term         -0.041597          -0.048582    0.094441   \n",
       "Credit_History            0.026989          -0.041050   -0.008701   \n",
       "Property_Area            -0.016277          -0.079278   -0.102290   \n",
       "Loan_Status              -0.003320          -0.026858   -0.034886   \n",
       "\n",
       "                   Loan_Amount_Term  Credit_History  Property_Area  \\\n",
       "Gender                    -0.084919        0.013432      -0.022807   \n",
       "Married                   -0.100776        0.019377       0.010586   \n",
       "Dependents                -0.091158       -0.017650       0.006005   \n",
       "Education                 -0.076546       -0.073799      -0.065623   \n",
       "Self_Employed             -0.053868       -0.012954      -0.030248   \n",
       "ApplicantIncome           -0.041597        0.026989      -0.016277   \n",
       "CoapplicantIncome         -0.048582       -0.041050      -0.079278   \n",
       "LoanAmount                 0.094441       -0.008701      -0.102290   \n",
       "Loan_Amount_Term           1.000000       -0.013960      -0.070405   \n",
       "Credit_History            -0.013960        1.000000      -0.005694   \n",
       "Property_Area             -0.070405       -0.005694       1.000000   \n",
       "Loan_Status               -0.023119        0.555908       0.034894   \n",
       "\n",
       "                   Loan_Status  \n",
       "Gender                0.021942  \n",
       "Married               0.095124  \n",
       "Dependents            0.021937  \n",
       "Education            -0.092852  \n",
       "Self_Employed        -0.016617  \n",
       "ApplicantIncome      -0.003320  \n",
       "CoapplicantIncome    -0.026858  \n",
       "LoanAmount           -0.034886  \n",
       "Loan_Amount_Term     -0.023119  \n",
       "Credit_History        0.555908  \n",
       "Property_Area         0.034894  \n",
       "Loan_Status           1.000000  "
      ]
     },
     "execution_count": 79,
     "metadata": {},
     "output_type": "execute_result"
    }
   ],
   "source": [
    "# Lets check the correlation in all the columns present in this database\n",
    "df1.corr()"
   ]
  },
  {
   "cell_type": "code",
   "execution_count": 80,
   "id": "67291e8f",
   "metadata": {},
   "outputs": [
    {
     "data": {
      "image/png": "[encoded data removed]",
      "text/plain": [
       "<Figure size 720x648 with 2 Axes>"
      ]
     },
     "metadata": {
      "needs_background": "light"
     },
     "output_type": "display_data"
    }
   ],
   "source": [
    "# Lets visualize correlation in all the columns using heatmap\n",
    "plt.figure(figsize=(10,9))\n",
    "sns.heatmap(df1.corr(),linewidths=.1,vmin=-1, vmax=1, fmt='.1g', annot = True, linecolor=\"black\",annot_kws={'size':10})\n",
    "plt.yticks(rotation=0);"
   ]
  },
  {
   "cell_type": "markdown",
   "id": "d64d21be",
   "metadata": {},
   "source": [
    "* Multicolinearity issue is not there in this dataset.\n",
    "* we can clearly see that target column loan_status have very strong correlation with Credit_history"
   ]
  },
  {
   "cell_type": "code",
   "execution_count": 81,
   "id": "69adcb4b",
   "metadata": {},
   "outputs": [
    {
     "data": {
      "image/png": "[encoded data removed]",
      "text/plain": [
       "<Figure size 1080x720 with 1 Axes>"
      ]
     },
     "metadata": {
      "needs_background": "light"
     },
     "output_type": "display_data"
    }
   ],
   "source": [
    "plt.figure(figsize=(15,10))\n",
    "df1.corr()['Loan_Status'].sort_values(ascending=False).drop(['Loan_Status']).plot(kind='bar',color='g')\n",
    "plt.xlabel('Feature',fontsize=14)\n",
    "plt.ylabel('column with target names',fontsize=16)\n",
    "plt.title('correlation',fontsize=18)\n",
    "plt.show()"
   ]
  },
  {
   "cell_type": "markdown",
   "id": "b8f08add",
   "metadata": {},
   "source": [
    "* Here we can clearly see that ApplicantIncome and CoapplicantIncome is negatively correlated to our target column loan_status."
   ]
  },
  {
   "cell_type": "markdown",
   "id": "6d3b7274",
   "metadata": {},
   "source": [
    "# Scaling:"
   ]
  },
  {
   "cell_type": "code",
   "execution_count": 83,
   "id": "cdf282e3",
   "metadata": {},
   "outputs": [],
   "source": [
    "# lets assing features to x and target variable to y\n",
    "x1=df1.drop(\"Loan_Status\",axis=1)\n",
    "y=df1[\"Loan_Status\"]"
   ]
  },
  {
   "cell_type": "markdown",
   "id": "a7d55774",
   "metadata": {},
   "source": [
    "* We have successfully assigned values to x and y"
   ]
  },
  {
   "cell_type": "markdown",
   "id": "177ae980",
   "metadata": {},
   "source": [
    "# Standard Scaler:"
   ]
  },
  {
   "cell_type": "code",
   "execution_count": 84,
   "id": "9b6edfbf",
   "metadata": {},
   "outputs": [],
   "source": [
    "# importing required library\n",
    "from sklearn.preprocessing import StandardScaler\n",
    "scaler=StandardScaler()\n",
    "x=pd.DataFrame(scaler.fit_transform(x1), columns=x1.columns)"
   ]
  },
  {
   "cell_type": "markdown",
   "id": "9213bbb1",
   "metadata": {},
   "source": [
    "* I have successfully scaled the data in this dataset using StandardScaler."
   ]
  },
  {
   "cell_type": "code",
   "execution_count": 85,
   "id": "c3b5984a",
   "metadata": {},
   "outputs": [
    {
     "data": {
      "text/html": [
       "<div>\n",
       "<style scoped>\n",
       "    .dataframe tbody tr th:only-of-type {\n",
       "        vertical-align: middle;\n",
       "    }\n",
       "\n",
       "    .dataframe tbody tr th {\n",
       "        vertical-align: top;\n",
       "    }\n",
       "\n",
       "    .dataframe thead th {\n",
       "        text-align: right;\n",
       "    }\n",
       "</style>\n",
       "<table border=\"1\" class=\"dataframe\">\n",
       "  <thead>\n",
       "    <tr style=\"text-align: right;\">\n",
       "      <th></th>\n",
       "      <th>Gender</th>\n",
       "      <th>Married</th>\n",
       "      <th>Dependents</th>\n",
       "      <th>Education</th>\n",
       "      <th>Self_Employed</th>\n",
       "      <th>ApplicantIncome</th>\n",
       "      <th>CoapplicantIncome</th>\n",
       "      <th>LoanAmount</th>\n",
       "      <th>Loan_Amount_Term</th>\n",
       "      <th>Credit_History</th>\n",
       "      <th>Property_Area</th>\n",
       "    </tr>\n",
       "  </thead>\n",
       "  <tbody>\n",
       "    <tr>\n",
       "      <th>0</th>\n",
       "      <td>0.476533</td>\n",
       "      <td>-1.363533</td>\n",
       "      <td>-0.728402</td>\n",
       "      <td>-0.542684</td>\n",
       "      <td>-0.384900</td>\n",
       "      <td>0.688986</td>\n",
       "      <td>-0.374510</td>\n",
       "      <td>0.003682</td>\n",
       "      <td>0.272306</td>\n",
       "      <td>0.41349</td>\n",
       "      <td>1.222929</td>\n",
       "    </tr>\n",
       "    <tr>\n",
       "      <th>1</th>\n",
       "      <td>0.476533</td>\n",
       "      <td>0.733389</td>\n",
       "      <td>0.276349</td>\n",
       "      <td>-0.542684</td>\n",
       "      <td>-0.384900</td>\n",
       "      <td>0.239843</td>\n",
       "      <td>-0.522855</td>\n",
       "      <td>0.003682</td>\n",
       "      <td>0.272306</td>\n",
       "      <td>0.41349</td>\n",
       "      <td>-1.313356</td>\n",
       "    </tr>\n",
       "    <tr>\n",
       "      <th>2</th>\n",
       "      <td>0.476533</td>\n",
       "      <td>0.733389</td>\n",
       "      <td>-0.728402</td>\n",
       "      <td>-0.542684</td>\n",
       "      <td>2.598076</td>\n",
       "      <td>-0.525799</td>\n",
       "      <td>-0.374510</td>\n",
       "      <td>-1.384802</td>\n",
       "      <td>0.272306</td>\n",
       "      <td>0.41349</td>\n",
       "      <td>1.222929</td>\n",
       "    </tr>\n",
       "    <tr>\n",
       "      <th>3</th>\n",
       "      <td>0.476533</td>\n",
       "      <td>0.733389</td>\n",
       "      <td>-0.728402</td>\n",
       "      <td>1.842694</td>\n",
       "      <td>-0.384900</td>\n",
       "      <td>-0.791841</td>\n",
       "      <td>0.424361</td>\n",
       "      <td>-0.148052</td>\n",
       "      <td>0.272306</td>\n",
       "      <td>0.41349</td>\n",
       "      <td>1.222929</td>\n",
       "    </tr>\n",
       "    <tr>\n",
       "      <th>4</th>\n",
       "      <td>0.476533</td>\n",
       "      <td>-1.363533</td>\n",
       "      <td>-0.728402</td>\n",
       "      <td>-0.542684</td>\n",
       "      <td>-0.384900</td>\n",
       "      <td>0.736280</td>\n",
       "      <td>-0.374510</td>\n",
       "      <td>0.238407</td>\n",
       "      <td>0.272306</td>\n",
       "      <td>0.41349</td>\n",
       "      <td>1.222929</td>\n",
       "    </tr>\n",
       "  </tbody>\n",
       "</table>\n",
       "</div>"
      ],
      "text/plain": [
       "     Gender   Married  Dependents  Education  Self_Employed  ApplicantIncome  \\\n",
       "0  0.476533 -1.363533   -0.728402  -0.542684      -0.384900         0.688986   \n",
       "1  0.476533  0.733389    0.276349  -0.542684      -0.384900         0.239843   \n",
       "2  0.476533  0.733389   -0.728402  -0.542684       2.598076        -0.525799   \n",
       "3  0.476533  0.733389   -0.728402   1.842694      -0.384900        -0.791841   \n",
       "4  0.476533 -1.363533   -0.728402  -0.542684      -0.384900         0.736280   \n",
       "\n",
       "   CoapplicantIncome  LoanAmount  Loan_Amount_Term  Credit_History  \\\n",
       "0          -0.374510    0.003682          0.272306         0.41349   \n",
       "1          -0.522855    0.003682          0.272306         0.41349   \n",
       "2          -0.374510   -1.384802          0.272306         0.41349   \n",
       "3           0.424361   -0.148052          0.272306         0.41349   \n",
       "4          -0.374510    0.238407          0.272306         0.41349   \n",
       "\n",
       "   Property_Area  \n",
       "0       1.222929  \n",
       "1      -1.313356  \n",
       "2       1.222929  \n",
       "3       1.222929  \n",
       "4       1.222929  "
      ]
     },
     "execution_count": 85,
     "metadata": {},
     "output_type": "execute_result"
    }
   ],
   "source": [
    "x.head()"
   ]
  },
  {
   "cell_type": "markdown",
   "id": "7561e55c",
   "metadata": {},
   "source": [
    "# OverSampling:"
   ]
  },
  {
   "cell_type": "code",
   "execution_count": 86,
   "id": "e973d8f7",
   "metadata": {},
   "outputs": [
    {
     "data": {
      "text/plain": [
       "1    407\n",
       "0    182\n",
       "Name: Loan_Status, dtype: int64"
      ]
     },
     "execution_count": 86,
     "metadata": {},
     "output_type": "execute_result"
    }
   ],
   "source": [
    "# here we are balancing the target variable using oversampling method\n",
    "# lets check the value_counts in y\n",
    "y.value_counts()"
   ]
  },
  {
   "cell_type": "code",
   "execution_count": 87,
   "id": "658559a2",
   "metadata": {},
   "outputs": [],
   "source": [
    "# Importing required library for oversampling\n",
    "from imblearn.over_sampling import SMOTE\n",
    "sm=SMOTE()\n",
    "x,y=sm.fit_resample(x,y)"
   ]
  },
  {
   "cell_type": "code",
   "execution_count": 88,
   "id": "03731aea",
   "metadata": {},
   "outputs": [
    {
     "data": {
      "text/plain": [
       "0    407\n",
       "1    407\n",
       "Name: Loan_Status, dtype: int64"
      ]
     },
     "execution_count": 88,
     "metadata": {},
     "output_type": "execute_result"
    }
   ],
   "source": [
    "# lets check the value count again\n",
    "y.value_counts()"
   ]
  },
  {
   "cell_type": "markdown",
   "id": "cc05de50",
   "metadata": {},
   "source": [
    "* here we have successfully balanced the target variable"
   ]
  },
  {
   "cell_type": "markdown",
   "id": "0ff4d6f5",
   "metadata": {},
   "source": [
    "# Best Random State:"
   ]
  },
  {
   "cell_type": "code",
   "execution_count": 89,
   "id": "0b7ec3b7",
   "metadata": {},
   "outputs": [],
   "source": [
    "# lets find best random state and accuracy score\n",
    "# importing all required libraries\n",
    "from sklearn.metrics import accuracy_score, r2_score\n",
    "from sklearn.model_selection import train_test_split\n",
    "from sklearn.ensemble import RandomForestClassifier"
   ]
  },
  {
   "cell_type": "code",
   "execution_count": 91,
   "id": "828d58d0",
   "metadata": {},
   "outputs": [
    {
     "name": "stdout",
     "output_type": "stream",
     "text": [
      "Best accuracy is  0.8816326530612245  on Random_state  183\n"
     ]
    }
   ],
   "source": [
    "max_acc=0\n",
    "max_rs=0\n",
    "for i in range(1,200):\n",
    "    x_train,x_test,y_train,y_test = train_test_split(x,y,test_size=.30, random_state =i)\n",
    "    mod = RandomForestClassifier()\n",
    "    mod.fit(x_train, y_train)\n",
    "    pred = mod.predict(x_test)\n",
    "    acc=accuracy_score(y_test, pred)\n",
    "    if acc>max_acc:\n",
    "        max_acc=acc\n",
    "        max_rs=i\n",
    "print(\"Best accuracy is \",max_acc,\" on Random_state \",max_rs)"
   ]
  },
  {
   "cell_type": "code",
   "execution_count": 92,
   "id": "20807633",
   "metadata": {},
   "outputs": [],
   "source": [
    "x_train,x_test,y_train,y_test=train_test_split(x,y,test_size=.27,random_state=183)"
   ]
  },
  {
   "cell_type": "markdown",
   "id": "38619d09",
   "metadata": {},
   "source": [
    "# Classification Algorithm:\n",
    "        \n",
    "        since our target column loan_status is an object column this became classification problem"
   ]
  },
  {
   "cell_type": "code",
   "execution_count": 94,
   "id": "4d022e17",
   "metadata": {},
   "outputs": [],
   "source": [
    "# Importing all necessary libraries for our models\n",
    "from sklearn.tree import DecisionTreeClassifier\n",
    "from sklearn.svm import SVC\n",
    "from sklearn.naive_bayes import BernoulliNB\n",
    "from sklearn.linear_model import LogisticRegression\n",
    "from sklearn.metrics import classification_report, confusion_matrix, roc_curve, roc_auc_score, accuracy_score\n",
    "from sklearn.ensemble import GradientBoostingClassifier\n",
    "from sklearn.neighbors import KNeighborsClassifier as KNN\n",
    "from sklearn.naive_bayes import GaussianNB as NB"
   ]
  },
  {
   "cell_type": "markdown",
   "id": "4e924897",
   "metadata": {},
   "source": [
    "# 1) K-Neighbor Classifier:"
   ]
  },
  {
   "cell_type": "code",
   "execution_count": 95,
   "id": "13351150",
   "metadata": {},
   "outputs": [
    {
     "name": "stdout",
     "output_type": "stream",
     "text": [
      "R2_Score:  0.7818181818181819\n",
      "Confusion Matrix:  [[88 14]\n",
      " [34 84]]\n",
      "              precision    recall  f1-score   support\n",
      "\n",
      "           0       0.72      0.86      0.79       102\n",
      "           1       0.86      0.71      0.78       118\n",
      "\n",
      "    accuracy                           0.78       220\n",
      "   macro avg       0.79      0.79      0.78       220\n",
      "weighted avg       0.79      0.78      0.78       220\n",
      "\n"
     ]
    }
   ],
   "source": [
    "knn=KNN()\n",
    "knn.fit(x_train,y_train)\n",
    "predk=knn.predict(x_test)\n",
    "print(\"R2_Score: \",accuracy_score(y_test,predk))\n",
    "print(\"Confusion Matrix: \", confusion_matrix(y_test,predk))\n",
    "print(classification_report(y_test,predk))"
   ]
  },
  {
   "cell_type": "markdown",
   "id": "8cb886fc",
   "metadata": {},
   "source": [
    "* here we have got accuracy score of 78.18 %."
   ]
  },
  {
   "cell_type": "code",
   "execution_count": 97,
   "id": "89e5ca5a",
   "metadata": {},
   "outputs": [
    {
     "data": {
      "image/png": "[encoded data removed]",
      "text/plain": [
       "<Figure size 648x648 with 2 Axes>"
      ]
     },
     "metadata": {
      "needs_background": "light"
     },
     "output_type": "display_data"
    }
   ],
   "source": [
    "cm= confusion_matrix(y_test,predk)\n",
    "\n",
    "x_axis_labels= [\"Yes\",\"No\"]\n",
    "y_axis_labels=[\"Yes\",\"No\"]\n",
    "\n",
    "f,ax=plt.subplots(figsize=(9,9))\n",
    "sns.heatmap(cm, annot=True, linewidth=0.2, linecolor=\"black\", fmt=\".0f\")\n",
    "plt.xlabel(\"Predicted\")\n",
    "plt.ylabel(\"Actual\")\n",
    "plt.title(\"Confusion Matrix for KNN\")\n",
    "plt.show()"
   ]
  },
  {
   "cell_type": "markdown",
   "id": "97e7e510",
   "metadata": {},
   "source": [
    "* Here we can see the predicted and actual values in KNN model using confusion matrix"
   ]
  },
  {
   "cell_type": "markdown",
   "id": "26c6de22",
   "metadata": {},
   "source": [
    "# 2) SupportVectorClassifier:"
   ]
  },
  {
   "cell_type": "code",
   "execution_count": 98,
   "id": "78133c2d",
   "metadata": {},
   "outputs": [
    {
     "name": "stdout",
     "output_type": "stream",
     "text": [
      "R2_Score:  0.7909090909090909\n",
      "Confusion Matrix:  [[ 70  32]\n",
      " [ 14 104]]\n",
      "              precision    recall  f1-score   support\n",
      "\n",
      "           0       0.83      0.69      0.75       102\n",
      "           1       0.76      0.88      0.82       118\n",
      "\n",
      "    accuracy                           0.79       220\n",
      "   macro avg       0.80      0.78      0.79       220\n",
      "weighted avg       0.80      0.79      0.79       220\n",
      "\n"
     ]
    }
   ],
   "source": [
    "sv=SVC()\n",
    "sv.fit(x_train,y_train)\n",
    "predsv=sv.predict(x_test)\n",
    "print(\"R2_Score: \",accuracy_score(y_test,predsv))\n",
    "print(\"Confusion Matrix: \", confusion_matrix(y_test,predsv))\n",
    "print(classification_report(y_test,predsv))"
   ]
  },
  {
   "cell_type": "markdown",
   "id": "a5600e53",
   "metadata": {},
   "source": [
    "* Here we are getting r2 score of 79% using SVC."
   ]
  },
  {
   "cell_type": "code",
   "execution_count": 99,
   "id": "d014782f",
   "metadata": {},
   "outputs": [
    {
     "data": {
      "image/png": "[encoded data removed]",
      "text/plain": [
       "<Figure size 648x648 with 2 Axes>"
      ]
     },
     "metadata": {
      "needs_background": "light"
     },
     "output_type": "display_data"
    }
   ],
   "source": [
    "cm= confusion_matrix(y_test,predsv)\n",
    "\n",
    "x_axis_labels= [\"Yes\",\"No\"]\n",
    "y_axis_labels=[\"Yes\",\"No\"]\n",
    "\n",
    "f,ax=plt.subplots(figsize=(9,9))\n",
    "sns.heatmap(cm, annot=True, linewidth=0.2, linecolor=\"black\", fmt=\".0f\")\n",
    "plt.xlabel(\"Predicted\")\n",
    "plt.ylabel(\"Actual\")\n",
    "plt.title(\"Confusion Matrix for SVC\")\n",
    "plt.show()"
   ]
  },
  {
   "cell_type": "markdown",
   "id": "73b17f29",
   "metadata": {},
   "source": [
    "Here we can see the predicted and actual values in SVC model using confusion matrix"
   ]
  },
  {
   "cell_type": "markdown",
   "id": "c9932aa2",
   "metadata": {},
   "source": [
    "# 3)GradientBoostingClassifier:"
   ]
  },
  {
   "cell_type": "code",
   "execution_count": 100,
   "id": "98731897",
   "metadata": {},
   "outputs": [
    {
     "name": "stdout",
     "output_type": "stream",
     "text": [
      "R2_Score:  0.85\n",
      "Confusion Matrix:  [[ 81  21]\n",
      " [ 12 106]]\n",
      "              precision    recall  f1-score   support\n",
      "\n",
      "           0       0.87      0.79      0.83       102\n",
      "           1       0.83      0.90      0.87       118\n",
      "\n",
      "    accuracy                           0.85       220\n",
      "   macro avg       0.85      0.85      0.85       220\n",
      "weighted avg       0.85      0.85      0.85       220\n",
      "\n"
     ]
    }
   ],
   "source": [
    "gbc=GradientBoostingClassifier()\n",
    "gbc.fit(x_train,y_train)\n",
    "predgbc=gbc.predict(x_test)\n",
    "print(\"R2_Score: \",accuracy_score(y_test,predgbc))\n",
    "print(\"Confusion Matrix: \", confusion_matrix(y_test,predgbc))\n",
    "print(classification_report(y_test,predgbc))"
   ]
  },
  {
   "cell_type": "markdown",
   "id": "3a85e3d6",
   "metadata": {},
   "source": [
    "* Here we have got best score till now 85% using Gradientboostingclassifier"
   ]
  },
  {
   "cell_type": "code",
   "execution_count": 101,
   "id": "886b393a",
   "metadata": {},
   "outputs": [
    {
     "data": {
      "image/png": "[encoded data removed]",
      "text/plain": [
       "<Figure size 648x648 with 2 Axes>"
      ]
     },
     "metadata": {
      "needs_background": "light"
     },
     "output_type": "display_data"
    }
   ],
   "source": [
    "cm= confusion_matrix(y_test,predgbc)\n",
    "\n",
    "x_axis_labels= [\"Yes\",\"No\"]\n",
    "y_axis_labels=[\"Yes\",\"No\"]\n",
    "\n",
    "f,ax=plt.subplots(figsize=(9,9))\n",
    "sns.heatmap(cm, annot=True, linewidth=0.2, linecolor=\"black\", fmt=\".0f\")\n",
    "plt.xlabel(\"Predicted\")\n",
    "plt.ylabel(\"Actual\")\n",
    "plt.title(\"Confusion Matrix for GBC\")\n",
    "plt.show()"
   ]
  },
  {
   "cell_type": "markdown",
   "id": "692fe1a8",
   "metadata": {},
   "source": [
    "* Here we can see the predicted and actual values in GBC model using confusion matrix"
   ]
  },
  {
   "cell_type": "markdown",
   "id": "ed54d732",
   "metadata": {},
   "source": [
    "# 4) DecisionTreeClassifier:"
   ]
  },
  {
   "cell_type": "code",
   "execution_count": 102,
   "id": "34ea68a4",
   "metadata": {},
   "outputs": [
    {
     "name": "stdout",
     "output_type": "stream",
     "text": [
      "R2_Score:  0.8272727272727273\n",
      "Confusion Matrix:  [[88 14]\n",
      " [24 94]]\n",
      "              precision    recall  f1-score   support\n",
      "\n",
      "           0       0.79      0.86      0.82       102\n",
      "           1       0.87      0.80      0.83       118\n",
      "\n",
      "    accuracy                           0.83       220\n",
      "   macro avg       0.83      0.83      0.83       220\n",
      "weighted avg       0.83      0.83      0.83       220\n",
      "\n"
     ]
    }
   ],
   "source": [
    "dtc=DecisionTreeClassifier()\n",
    "dtc.fit(x_train,y_train)\n",
    "preddtc=dtc.predict(x_test)\n",
    "print(\"R2_Score: \",accuracy_score(y_test,preddtc))\n",
    "print(\"Confusion Matrix: \", confusion_matrix(y_test,preddtc))\n",
    "print(classification_report(y_test,preddtc))"
   ]
  },
  {
   "cell_type": "markdown",
   "id": "52dd10c5",
   "metadata": {},
   "source": [
    "* Using Decision Tree Classifier we have got score of 82.72% which is fine."
   ]
  },
  {
   "cell_type": "code",
   "execution_count": 103,
   "id": "37368f33",
   "metadata": {},
   "outputs": [
    {
     "data": {
      "image/png": "[encoded data removed]",
      "text/plain": [
       "<Figure size 648x648 with 2 Axes>"
      ]
     },
     "metadata": {
      "needs_background": "light"
     },
     "output_type": "display_data"
    }
   ],
   "source": [
    "cm= confusion_matrix(y_test,preddtc)\n",
    "\n",
    "x_axis_labels= [\"Yes\",\"No\"]\n",
    "y_axis_labels=[\"Yes\",\"No\"]\n",
    "\n",
    "f,ax=plt.subplots(figsize=(9,9))\n",
    "sns.heatmap(cm, annot=True, linewidth=0.2, linecolor=\"black\", fmt=\".0f\")\n",
    "plt.xlabel(\"Predicted\")\n",
    "plt.ylabel(\"Actual\")\n",
    "plt.title(\"Confusion Matrix for DTC\")\n",
    "plt.show()"
   ]
  },
  {
   "cell_type": "markdown",
   "id": "33c2668d",
   "metadata": {},
   "source": [
    "* Here we can see the predicted and actual values in DTC model using confusion matrix"
   ]
  },
  {
   "cell_type": "markdown",
   "id": "5e455f2e",
   "metadata": {},
   "source": [
    "# 5) Random Forest Classifier:"
   ]
  },
  {
   "cell_type": "code",
   "execution_count": 104,
   "id": "c16aff55",
   "metadata": {},
   "outputs": [
    {
     "name": "stdout",
     "output_type": "stream",
     "text": [
      "R2_Score:  0.8818181818181818\n",
      "Confusion Matrix:  [[ 86  16]\n",
      " [ 10 108]]\n",
      "              precision    recall  f1-score   support\n",
      "\n",
      "           0       0.90      0.84      0.87       102\n",
      "           1       0.87      0.92      0.89       118\n",
      "\n",
      "    accuracy                           0.88       220\n",
      "   macro avg       0.88      0.88      0.88       220\n",
      "weighted avg       0.88      0.88      0.88       220\n",
      "\n"
     ]
    }
   ],
   "source": [
    "rfc=RandomForestClassifier()\n",
    "rfc.fit(x_train,y_train)\n",
    "predrfc=rfc.predict(x_test)\n",
    "print(\"R2_Score: \",accuracy_score(y_test,predrfc))\n",
    "print(\"Confusion Matrix: \", confusion_matrix(y_test,predrfc))\n",
    "print(classification_report(y_test,predrfc))"
   ]
  },
  {
   "cell_type": "markdown",
   "id": "bfd293fd",
   "metadata": {},
   "source": [
    "* here using Random Forest Classifier we have got best accuracy score of 88.18%. which is very good."
   ]
  },
  {
   "cell_type": "code",
   "execution_count": 105,
   "id": "413cdc08",
   "metadata": {},
   "outputs": [
    {
     "data": {
      "image/png": "[encoded data removed]",
      "text/plain": [
       "<Figure size 648x648 with 2 Axes>"
      ]
     },
     "metadata": {
      "needs_background": "light"
     },
     "output_type": "display_data"
    }
   ],
   "source": [
    "cm= confusion_matrix(y_test,predrfc)\n",
    "\n",
    "x_axis_labels= [\"Yes\",\"No\"]\n",
    "y_axis_labels=[\"Yes\",\"No\"]\n",
    "\n",
    "f,ax=plt.subplots(figsize=(9,9))\n",
    "sns.heatmap(cm, annot=True, linewidth=0.2, linecolor=\"black\", fmt=\".0f\")\n",
    "plt.xlabel(\"Predicted\")\n",
    "plt.ylabel(\"Actual\")\n",
    "plt.title(\"Confusion Matrix for RFC\")\n",
    "plt.show()"
   ]
  },
  {
   "cell_type": "markdown",
   "id": "4e8631fd",
   "metadata": {},
   "source": [
    "* Here we can see the predicted and actual values in DTC model using confusion matrix"
   ]
  },
  {
   "cell_type": "markdown",
   "id": "383f58bf",
   "metadata": {},
   "source": [
    "# Cross Validation Score:"
   ]
  },
  {
   "cell_type": "code",
   "execution_count": 106,
   "id": "d9119eac",
   "metadata": {},
   "outputs": [],
   "source": [
    "# Importing Required library for cross validation\n",
    "from sklearn.model_selection import cross_val_score"
   ]
  },
  {
   "cell_type": "code",
   "execution_count": 107,
   "id": "abb0413b",
   "metadata": {},
   "outputs": [
    {
     "name": "stdout",
     "output_type": "stream",
     "text": [
      "0.7531470120427176\n"
     ]
    }
   ],
   "source": [
    "# Cv score for KNN Classifier\n",
    "print(cross_val_score(knn,x,y,cv=5).mean())"
   ]
  },
  {
   "cell_type": "code",
   "execution_count": 108,
   "id": "58d08248",
   "metadata": {},
   "outputs": [
    {
     "name": "stdout",
     "output_type": "stream",
     "text": [
      "0.7445126107702794\n"
     ]
    }
   ],
   "source": [
    "# Cv score of SVC\n",
    "print(cross_val_score(sv,x,y,cv=5).mean())"
   ]
  },
  {
   "cell_type": "code",
   "execution_count": 109,
   "id": "a5d199eb",
   "metadata": {},
   "outputs": [
    {
     "name": "stdout",
     "output_type": "stream",
     "text": [
      "0.790009846247065\n"
     ]
    }
   ],
   "source": [
    "# Cv score of GBC\n",
    "print(cross_val_score(gbc,x,y,cv=5).mean())"
   ]
  },
  {
   "cell_type": "code",
   "execution_count": 110,
   "id": "c73c0590",
   "metadata": {},
   "outputs": [
    {
     "name": "stdout",
     "output_type": "stream",
     "text": [
      "0.7728016359918202\n"
     ]
    }
   ],
   "source": [
    "# Cv score of DTC\n",
    "print(cross_val_score(dtc,x,y,cv=5).mean())"
   ]
  },
  {
   "cell_type": "code",
   "execution_count": 111,
   "id": "a830451e",
   "metadata": {},
   "outputs": [
    {
     "name": "stdout",
     "output_type": "stream",
     "text": [
      "0.836688631371658\n"
     ]
    }
   ],
   "source": [
    "# Cv score of RFC\n",
    "print(cross_val_score(rfc,x,y,cv=5).mean())"
   ]
  },
  {
   "cell_type": "markdown",
   "id": "fca05898",
   "metadata": {},
   "source": [
    "* we can see cross validation scores of all the classification models here also best score is of Random forest Classifier."
   ]
  },
  {
   "cell_type": "markdown",
   "id": "a0f753bd",
   "metadata": {},
   "source": [
    "# * After looking both the scores(accuracy score, cross validation score) we found Random Forest Classifier with least difference in score and that's why we are selecting RandomForestTree as our final model and tuning it using Hyper Parameter."
   ]
  },
  {
   "cell_type": "markdown",
   "id": "e9ce86b0",
   "metadata": {},
   "source": [
    "# Hyper Parameter Tuning:"
   ]
  },
  {
   "cell_type": "code",
   "execution_count": 112,
   "id": "6d0bc52b",
   "metadata": {},
   "outputs": [],
   "source": [
    "# importing all required libraries\n",
    "from sklearn.model_selection import GridSearchCV"
   ]
  },
  {
   "cell_type": "code",
   "execution_count": 113,
   "id": "08e9bbe6",
   "metadata": {},
   "outputs": [],
   "source": [
    "parameter = {'criterion':['gini','entropy'],\n",
    "             'max_depth': [10,15,20,25],\n",
    "             'n_estimators':[100,200,300,400],\n",
    "             'max_features': [\"auto\",\"sqrt\",\"log2\"]}"
   ]
  },
  {
   "cell_type": "code",
   "execution_count": 114,
   "id": "0fb301b4",
   "metadata": {},
   "outputs": [],
   "source": [
    "gcv=GridSearchCV(RandomForestClassifier(),parameter,cv=5)"
   ]
  },
  {
   "cell_type": "code",
   "execution_count": 116,
   "id": "cc1795d0",
   "metadata": {},
   "outputs": [
    {
     "data": {
      "text/plain": [
       "GridSearchCV(cv=5, estimator=RandomForestClassifier(),\n",
       "             param_grid={'criterion': ['gini', 'entropy'],\n",
       "                         'max_depth': [10, 15, 20, 25],\n",
       "                         'max_features': ['auto', 'sqrt', 'log2'],\n",
       "                         'n_estimators': [100, 200, 300, 400]})"
      ]
     },
     "execution_count": 116,
     "metadata": {},
     "output_type": "execute_result"
    }
   ],
   "source": [
    "gcv.fit(x_train,y_train)"
   ]
  },
  {
   "cell_type": "code",
   "execution_count": 117,
   "id": "6102876d",
   "metadata": {},
   "outputs": [
    {
     "data": {
      "text/plain": [
       "{'criterion': 'entropy',\n",
       " 'max_depth': 15,\n",
       " 'max_features': 'auto',\n",
       " 'n_estimators': 300}"
      ]
     },
     "execution_count": 117,
     "metadata": {},
     "output_type": "execute_result"
    }
   ],
   "source": [
    "gcv.best_params_"
   ]
  },
  {
   "cell_type": "code",
   "execution_count": 118,
   "id": "fb6b8cf8",
   "metadata": {},
   "outputs": [
    {
     "name": "stdout",
     "output_type": "stream",
     "text": [
      "88.18181818181819\n"
     ]
    }
   ],
   "source": [
    "final_model=RandomForestClassifier(criterion=\"entropy\", max_depth=15 , max_features=\"auto\" ,n_estimators=300)\n",
    "final_model.fit(x_train,y_train)\n",
    "pred=final_model.predict(x_test)\n",
    "acc=accuracy_score(y_test,pred)\n",
    "\n",
    "print(acc*100)"
   ]
  },
  {
   "cell_type": "markdown",
   "id": "70bc6a7b",
   "metadata": {},
   "source": [
    "* After tuning the model we have got accuracy score of 88.18% which is quite good."
   ]
  },
  {
   "cell_type": "markdown",
   "id": "bb49fdbb",
   "metadata": {},
   "source": [
    "# ROC-AUC Curve:"
   ]
  },
  {
   "cell_type": "code",
   "execution_count": 119,
   "id": "a21164e7",
   "metadata": {},
   "outputs": [],
   "source": [
    "# we will be plotting all the models used here together\n",
    "# importing required libraries\n",
    "from sklearn import datasets\n",
    "from sklearn import metrics\n",
    "from sklearn import model_selection\n",
    "from sklearn.metrics import plot_roc_curve"
   ]
  },
  {
   "cell_type": "code",
   "execution_count": 121,
   "id": "20cfb13d",
   "metadata": {},
   "outputs": [
    {
     "data": {
      "text/plain": [
       "<function matplotlib.pyplot.show(close=None, block=None)>"
      ]
     },
     "execution_count": 121,
     "metadata": {},
     "output_type": "execute_result"
    },
    {
     "data": {
      "image/png": "[encoded data removed]",
      "text/plain": [
       "<Figure size 432x288 with 1 Axes>"
      ]
     },
     "metadata": {
      "needs_background": "light"
     },
     "output_type": "display_data"
    }
   ],
   "source": [
    "dis=plot_roc_curve(rfc,x_test,y_test)\n",
    "plot_roc_curve(knn,x_test,y_test, ax=dis.ax_)\n",
    "plot_roc_curve(sv,x_test,y_test, ax=dis.ax_)\n",
    "plot_roc_curve(gbc,x_test,y_test, ax=dis.ax_)\n",
    "plot_roc_curve(dtc,x_test,y_test, ax=dis.ax_)\n",
    "plot_roc_curve(rfc,x_test,y_test, ax=dis.ax_)\n",
    "\n",
    "plt.legend(prop={\"size\":9}, loc=\"lower right\")\n",
    "plt.show"
   ]
  },
  {
   "cell_type": "markdown",
   "id": "94d5eff5",
   "metadata": {},
   "source": [
    "* Here we have predicted ROC curves for all the models with AUC values also present in the plot."
   ]
  },
  {
   "cell_type": "markdown",
   "id": "4099c01d",
   "metadata": {},
   "source": [
    "# Model Saving:"
   ]
  },
  {
   "cell_type": "code",
   "execution_count": 122,
   "id": "a23330a1",
   "metadata": {},
   "outputs": [
    {
     "data": {
      "text/plain": [
       "['LoanASPrediction.pkl']"
      ]
     },
     "execution_count": 122,
     "metadata": {},
     "output_type": "execute_result"
    }
   ],
   "source": [
    "# saving the model in pkl file\n",
    "# importing required library for that\n",
    "import joblib\n",
    "joblib.dump(final_model,\"LoanASPrediction.pkl\")"
   ]
  },
  {
   "cell_type": "markdown",
   "id": "7c5e6fa0",
   "metadata": {},
   "source": [
    "# Loading file and predictions:"
   ]
  },
  {
   "cell_type": "code",
   "execution_count": 123,
   "id": "d55367bf",
   "metadata": {},
   "outputs": [
    {
     "data": {
      "text/plain": [
       "array([1, 0, 0, 1, 1, 0, 0, 1, 1, 1, 1, 1, 0, 1, 1, 1, 1, 0, 0, 0, 1, 0,\n",
       "       1, 0, 1, 1, 0, 1, 0, 1, 1, 1, 0, 1, 0, 0, 0, 1, 1, 1, 1, 1, 0, 1,\n",
       "       1, 0, 1, 0, 0, 1, 0, 0, 0, 0, 1, 1, 0, 1, 1, 0, 1, 1, 1, 1, 1, 0,\n",
       "       0, 0, 0, 0, 0, 1, 0, 1, 0, 0, 1, 1, 1, 1, 1, 0, 0, 0, 0, 1, 0, 0,\n",
       "       0, 0, 0, 0, 1, 1, 1, 0, 1, 1, 0, 1, 1, 0, 1, 1, 0, 1, 1, 0, 1, 0,\n",
       "       1, 1, 0, 1, 0, 1, 1, 1, 1, 1, 1, 1, 1, 1, 0, 1, 0, 1, 1, 1, 1, 0,\n",
       "       1, 1, 0, 1, 0, 0, 1, 1, 1, 0, 0, 0, 1, 0, 0, 1, 0, 1, 1, 1, 1, 1,\n",
       "       0, 0, 1, 1, 0, 0, 1, 0, 1, 0, 1, 0, 1, 1, 0, 0, 0, 1, 1, 1, 1, 1,\n",
       "       1, 1, 1, 1, 1, 0, 1, 0, 1, 1, 1, 1, 1, 0, 0, 0, 1, 1, 1, 0, 0, 0,\n",
       "       1, 1, 0, 1, 1, 1, 1, 1, 1, 1, 1, 0, 0, 1, 0, 1, 1, 0, 0, 1, 1, 0])"
      ]
     },
     "execution_count": 123,
     "metadata": {},
     "output_type": "execute_result"
    }
   ],
   "source": [
    "# loading saved pkl file\n",
    "model=joblib.load(\"LoanASPrediction.pkl\")\n",
    "\n",
    "# predictions\n",
    "prediction=model.predict(x_test)\n",
    "prediction"
   ]
  },
  {
   "cell_type": "code",
   "execution_count": 124,
   "id": "64799a77",
   "metadata": {},
   "outputs": [
    {
     "data": {
      "text/html": [
       "<div>\n",
       "<style scoped>\n",
       "    .dataframe tbody tr th:only-of-type {\n",
       "        vertical-align: middle;\n",
       "    }\n",
       "\n",
       "    .dataframe tbody tr th {\n",
       "        vertical-align: top;\n",
       "    }\n",
       "\n",
       "    .dataframe thead th {\n",
       "        text-align: right;\n",
       "    }\n",
       "</style>\n",
       "<table border=\"1\" class=\"dataframe\">\n",
       "  <thead>\n",
       "    <tr style=\"text-align: right;\">\n",
       "      <th></th>\n",
       "      <th>0</th>\n",
       "      <th>1</th>\n",
       "      <th>2</th>\n",
       "      <th>3</th>\n",
       "      <th>4</th>\n",
       "      <th>5</th>\n",
       "      <th>6</th>\n",
       "      <th>7</th>\n",
       "      <th>8</th>\n",
       "      <th>9</th>\n",
       "      <th>...</th>\n",
       "      <th>210</th>\n",
       "      <th>211</th>\n",
       "      <th>212</th>\n",
       "      <th>213</th>\n",
       "      <th>214</th>\n",
       "      <th>215</th>\n",
       "      <th>216</th>\n",
       "      <th>217</th>\n",
       "      <th>218</th>\n",
       "      <th>219</th>\n",
       "    </tr>\n",
       "  </thead>\n",
       "  <tbody>\n",
       "    <tr>\n",
       "      <th>Predicted</th>\n",
       "      <td>1</td>\n",
       "      <td>0</td>\n",
       "      <td>0</td>\n",
       "      <td>1</td>\n",
       "      <td>1</td>\n",
       "      <td>0</td>\n",
       "      <td>0</td>\n",
       "      <td>1</td>\n",
       "      <td>1</td>\n",
       "      <td>1</td>\n",
       "      <td>...</td>\n",
       "      <td>0</td>\n",
       "      <td>1</td>\n",
       "      <td>0</td>\n",
       "      <td>1</td>\n",
       "      <td>1</td>\n",
       "      <td>0</td>\n",
       "      <td>0</td>\n",
       "      <td>1</td>\n",
       "      <td>1</td>\n",
       "      <td>0</td>\n",
       "    </tr>\n",
       "    <tr>\n",
       "      <th>Actual</th>\n",
       "      <td>1</td>\n",
       "      <td>0</td>\n",
       "      <td>0</td>\n",
       "      <td>1</td>\n",
       "      <td>1</td>\n",
       "      <td>0</td>\n",
       "      <td>0</td>\n",
       "      <td>1</td>\n",
       "      <td>1</td>\n",
       "      <td>0</td>\n",
       "      <td>...</td>\n",
       "      <td>1</td>\n",
       "      <td>1</td>\n",
       "      <td>0</td>\n",
       "      <td>0</td>\n",
       "      <td>0</td>\n",
       "      <td>0</td>\n",
       "      <td>0</td>\n",
       "      <td>1</td>\n",
       "      <td>1</td>\n",
       "      <td>0</td>\n",
       "    </tr>\n",
       "  </tbody>\n",
       "</table>\n",
       "<p>2 rows × 220 columns</p>\n",
       "</div>"
      ],
      "text/plain": [
       "           0    1    2    3    4    5    6    7    8    9    ...  210  211  \\\n",
       "Predicted    1    0    0    1    1    0    0    1    1    1  ...    0    1   \n",
       "Actual       1    0    0    1    1    0    0    1    1    0  ...    1    1   \n",
       "\n",
       "           212  213  214  215  216  217  218  219  \n",
       "Predicted    0    1    1    0    0    1    1    0  \n",
       "Actual       0    0    0    0    0    1    1    0  \n",
       "\n",
       "[2 rows x 220 columns]"
      ]
     },
     "execution_count": 124,
     "metadata": {},
     "output_type": "execute_result"
    }
   ],
   "source": [
    "pd.DataFrame([model.predict(x_test)[:],y_test[:]],index=[\"Predicted\",\"Actual\"])"
   ]
  },
  {
   "cell_type": "code",
   "execution_count": null,
   "id": "047b8beb",
   "metadata": {},
   "outputs": [],
   "source": [
    "* Here we can see that most of the predicted values are accurate and Actual values."
   ]
  }
 ],
 "metadata": {
  "kernelspec": {
   "display_name": "Python 3 (ipykernel)",
   "language": "python",
   "name": "python3"
  },
  "language_info": {
   "codemirror_mode": {
    "name": "ipython",
    "version": 3
   },
   "file_extension": ".py",
   "mimetype": "text/x-python",
   "name": "python",
   "nbconvert_exporter": "python",
   "pygments_lexer": "ipython3",
   "version": "3.9.7"
  }
 },
 "nbformat": 4,
 "nbformat_minor": 5
}
